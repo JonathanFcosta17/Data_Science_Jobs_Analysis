{
 "cells": [
  {
   "cell_type": "code",
   "execution_count": 35,
   "metadata": {},
   "outputs": [],
   "source": [
    "import pandas as pd\n",
    "import chardet\n",
    "import re\n",
    "import numpy as np\n",
    "import plotly.graph_objects as go"
   ]
  },
  {
   "cell_type": "code",
   "execution_count": 36,
   "metadata": {},
   "outputs": [
    {
     "data": {
      "text/html": [
       "<div>\n",
       "<style scoped>\n",
       "    .dataframe tbody tr th:only-of-type {\n",
       "        vertical-align: middle;\n",
       "    }\n",
       "\n",
       "    .dataframe tbody tr th {\n",
       "        vertical-align: top;\n",
       "    }\n",
       "\n",
       "    .dataframe thead th {\n",
       "        text-align: right;\n",
       "    }\n",
       "</style>\n",
       "<table border=\"1\" class=\"dataframe\">\n",
       "  <thead>\n",
       "    <tr style=\"text-align: right;\">\n",
       "      <th></th>\n",
       "      <th>Company</th>\n",
       "      <th>Job Title</th>\n",
       "      <th>Location</th>\n",
       "      <th>Job Type</th>\n",
       "      <th>Experience level</th>\n",
       "      <th>Salary</th>\n",
       "      <th>Requirment of the company</th>\n",
       "      <th>Facilities</th>\n",
       "    </tr>\n",
       "  </thead>\n",
       "  <tbody>\n",
       "    <tr>\n",
       "      <th>0</th>\n",
       "      <td>SGS</td>\n",
       "      <td>Clinical Data Analyst</td>\n",
       "      <td>Richardson, TX, United States</td>\n",
       "      <td>Full Time</td>\n",
       "      <td>Entry-level</td>\n",
       "      <td>48K+ *</td>\n",
       "      <td>Computer Science,Data quality,Genetics,Mathema...</td>\n",
       "      <td>,,,,</td>\n",
       "    </tr>\n",
       "    <tr>\n",
       "      <th>1</th>\n",
       "      <td>Ocorian</td>\n",
       "      <td>AML/CFT &amp; Data Analyst</td>\n",
       "      <td>Ebène, Mauritius</td>\n",
       "      <td>Full Time</td>\n",
       "      <td>Entry-level</td>\n",
       "      <td>48K+ *</td>\n",
       "      <td>Agile,Data management,Finance,Security,,</td>\n",
       "      <td>,,,,</td>\n",
       "    </tr>\n",
       "    <tr>\n",
       "      <th>2</th>\n",
       "      <td>Cricut</td>\n",
       "      <td>Machine Learning Engineer</td>\n",
       "      <td>South Jordan, UT, United States</td>\n",
       "      <td>Full Time</td>\n",
       "      <td>NaN</td>\n",
       "      <td>90K+ *</td>\n",
       "      <td>Agile,Architecture,AWS,Computer Science,Comput...</td>\n",
       "      <td>Career development,,,,</td>\n",
       "    </tr>\n",
       "    <tr>\n",
       "      <th>3</th>\n",
       "      <td>Bosch Group</td>\n",
       "      <td>Application Developer &amp; Data Analyst</td>\n",
       "      <td>Nonantola, Italy</td>\n",
       "      <td>Full Time</td>\n",
       "      <td>Entry-level</td>\n",
       "      <td>48K+ *</td>\n",
       "      <td>Engineering,Industrial,Oracle,Power BI,R,R&amp;D</td>\n",
       "      <td>,,,,</td>\n",
       "    </tr>\n",
       "    <tr>\n",
       "      <th>4</th>\n",
       "      <td>Publicis Groupe</td>\n",
       "      <td>Data Engineer Full time (Public Sector) USA</td>\n",
       "      <td>Arlington, VA, United States</td>\n",
       "      <td>Full Time</td>\n",
       "      <td>Mid-level</td>\n",
       "      <td>108K+</td>\n",
       "      <td>AWS,Azure,Computer Science,Consulting,Dataflow...</td>\n",
       "      <td>Flex hours,Flex vacation,Parental leave,Unlimi...</td>\n",
       "    </tr>\n",
       "    <tr>\n",
       "      <th>...</th>\n",
       "      <td>...</td>\n",
       "      <td>...</td>\n",
       "      <td>...</td>\n",
       "      <td>...</td>\n",
       "      <td>...</td>\n",
       "      <td>...</td>\n",
       "      <td>...</td>\n",
       "      <td>...</td>\n",
       "    </tr>\n",
       "    <tr>\n",
       "      <th>3193</th>\n",
       "      <td>Western Digital</td>\n",
       "      <td>Data Scientist - New College Graduate</td>\n",
       "      <td>Biñan, Philippines</td>\n",
       "      <td>Full Time</td>\n",
       "      <td>Entry-level</td>\n",
       "      <td>39K+ *</td>\n",
       "      <td>APIs,Clustering,Computer Science,Data visualiz...</td>\n",
       "      <td>Career development,,,,</td>\n",
       "    </tr>\n",
       "    <tr>\n",
       "      <th>3194</th>\n",
       "      <td>Experian</td>\n",
       "      <td>Cloud Data Analyst</td>\n",
       "      <td>Heredia, Costa Rica</td>\n",
       "      <td>Full Time</td>\n",
       "      <td>Senior-level</td>\n",
       "      <td>92K+ *</td>\n",
       "      <td>AWS,Big Data,Computer Science,GCP,Snowflake,SQL</td>\n",
       "      <td>Equity,Medical leave,Salary bonus,,</td>\n",
       "    </tr>\n",
       "    <tr>\n",
       "      <th>3195</th>\n",
       "      <td>Locus Robotics</td>\n",
       "      <td>Robotics Engineer, Sensors</td>\n",
       "      <td>Wilmington, MA, United States</td>\n",
       "      <td>Full Time</td>\n",
       "      <td>Senior-level</td>\n",
       "      <td>62K+ *</td>\n",
       "      <td>E-commerce,Engineering,Linux,Python,Robotics,S...</td>\n",
       "      <td>,,,,</td>\n",
       "    </tr>\n",
       "    <tr>\n",
       "      <th>3196</th>\n",
       "      <td>ATB Financial</td>\n",
       "      <td>Data Scientist</td>\n",
       "      <td>Edmonton, Alberta, Canada</td>\n",
       "      <td>Full Time</td>\n",
       "      <td>Entry-level</td>\n",
       "      <td>39K+ *</td>\n",
       "      <td>Computer Science,Data Analytics,Data Mining,Ec...</td>\n",
       "      <td>Career development,Startup environment,,,</td>\n",
       "    </tr>\n",
       "    <tr>\n",
       "      <th>3197</th>\n",
       "      <td>Shippeo</td>\n",
       "      <td>Senior Data Engineer</td>\n",
       "      <td>Paris, France</td>\n",
       "      <td>Full Time</td>\n",
       "      <td>Senior-level</td>\n",
       "      <td>115K+ *</td>\n",
       "      <td>Airflow,Architecture,BigQuery,CI/CD,Computer S...</td>\n",
       "      <td>,,,,</td>\n",
       "    </tr>\n",
       "  </tbody>\n",
       "</table>\n",
       "<p>3198 rows × 8 columns</p>\n",
       "</div>"
      ],
      "text/plain": [
       "              Company                                    Job Title  \\\n",
       "0                 SGS                        Clinical Data Analyst   \n",
       "1             Ocorian                       AML/CFT & Data Analyst   \n",
       "2              Cricut                    Machine Learning Engineer   \n",
       "3         Bosch Group         Application Developer & Data Analyst   \n",
       "4     Publicis Groupe  Data Engineer Full time (Public Sector) USA   \n",
       "...               ...                                          ...   \n",
       "3193  Western Digital        Data Scientist - New College Graduate   \n",
       "3194         Experian                           Cloud Data Analyst   \n",
       "3195   Locus Robotics                   Robotics Engineer, Sensors   \n",
       "3196    ATB Financial                               Data Scientist   \n",
       "3197          Shippeo                         Senior Data Engineer   \n",
       "\n",
       "                             Location   Job Type Experience level    Salary  \\\n",
       "0       Richardson, TX, United States  Full Time      Entry-level    48K+ *   \n",
       "1                    Ebène, Mauritius  Full Time      Entry-level    48K+ *   \n",
       "2     South Jordan, UT, United States  Full Time              NaN    90K+ *   \n",
       "3                    Nonantola, Italy  Full Time      Entry-level    48K+ *   \n",
       "4        Arlington, VA, United States  Full Time        Mid-level     108K+   \n",
       "...                               ...        ...              ...       ...   \n",
       "3193               Biñan, Philippines  Full Time      Entry-level    39K+ *   \n",
       "3194              Heredia, Costa Rica  Full Time     Senior-level    92K+ *   \n",
       "3195    Wilmington, MA, United States  Full Time     Senior-level    62K+ *   \n",
       "3196        Edmonton, Alberta, Canada  Full Time      Entry-level    39K+ *   \n",
       "3197                    Paris, France  Full Time     Senior-level   115K+ *   \n",
       "\n",
       "                             Requirment of the company   \\\n",
       "0     Computer Science,Data quality,Genetics,Mathema...   \n",
       "1              Agile,Data management,Finance,Security,,   \n",
       "2     Agile,Architecture,AWS,Computer Science,Comput...   \n",
       "3          Engineering,Industrial,Oracle,Power BI,R,R&D   \n",
       "4     AWS,Azure,Computer Science,Consulting,Dataflow...   \n",
       "...                                                 ...   \n",
       "3193  APIs,Clustering,Computer Science,Data visualiz...   \n",
       "3194    AWS,Big Data,Computer Science,GCP,Snowflake,SQL   \n",
       "3195  E-commerce,Engineering,Linux,Python,Robotics,S...   \n",
       "3196  Computer Science,Data Analytics,Data Mining,Ec...   \n",
       "3197  Airflow,Architecture,BigQuery,CI/CD,Computer S...   \n",
       "\n",
       "                                             Facilities  \n",
       "0                                                  ,,,,  \n",
       "1                                                  ,,,,  \n",
       "2                                Career development,,,,  \n",
       "3                                                  ,,,,  \n",
       "4     Flex hours,Flex vacation,Parental leave,Unlimi...  \n",
       "...                                                 ...  \n",
       "3193                             Career development,,,,  \n",
       "3194                Equity,Medical leave,Salary bonus,,  \n",
       "3195                                               ,,,,  \n",
       "3196          Career development,Startup environment,,,  \n",
       "3197                                               ,,,,  \n",
       "\n",
       "[3198 rows x 8 columns]"
      ]
     },
     "execution_count": 36,
     "metadata": {},
     "output_type": "execute_result"
    }
   ],
   "source": [
    "with open('data_science_job.csv', 'rb') as f:\n",
    "    result = chardet.detect(f.read())\n",
    "    \n",
    "df = pd.read_csv('data_science_job.csv', encoding=result['encoding'])\n",
    "df"
   ]
  },
  {
   "cell_type": "code",
   "execution_count": 37,
   "metadata": {},
   "outputs": [
    {
     "name": "stdout",
     "output_type": "stream",
     "text": [
      "<class 'pandas.core.frame.DataFrame'>\n",
      "RangeIndex: 3198 entries, 0 to 3197\n",
      "Data columns (total 8 columns):\n",
      " #   Column                      Non-Null Count  Dtype \n",
      "---  ------                      --------------  ----- \n",
      " 0   Company                     3197 non-null   object\n",
      " 1   Job Title                   3197 non-null   object\n",
      " 2   Location                    3197 non-null   object\n",
      " 3   Job Type                    3197 non-null   object\n",
      " 4   Experience level            2962 non-null   object\n",
      " 5   Salary                      3009 non-null   object\n",
      " 6   Requirment of the company   3198 non-null   object\n",
      " 7   Facilities                  3198 non-null   object\n",
      "dtypes: object(8)\n",
      "memory usage: 200.0+ KB\n"
     ]
    }
   ],
   "source": [
    "df.info()"
   ]
  },
  {
   "attachments": {},
   "cell_type": "markdown",
   "metadata": {},
   "source": [
    "# Data Cleaning"
   ]
  },
  {
   "cell_type": "code",
   "execution_count": 38,
   "metadata": {},
   "outputs": [
    {
     "name": "stdout",
     "output_type": "stream",
     "text": [
      "Company: 1  -->  0.03%\n",
      "Job Title: 1  -->  0.03%\n",
      "Location: 1  -->  0.03%\n",
      "Job Type: 1  -->  0.03%\n",
      "Experience level: 236  -->  7.38%\n",
      "Salary: 189  -->  5.91%\n"
     ]
    }
   ],
   "source": [
    "# Count null values\n",
    "nulls = df.isnull().sum()\n",
    "\n",
    "# Print column-wise null count and percentage\n",
    "for column, count in nulls[nulls != 0].items():\n",
    "    percentage = (count / df.shape[0]) * 100\n",
    "    print(f\"{column}: {count}  -->  {percentage:.2f}%\")"
   ]
  },
  {
   "attachments": {},
   "cell_type": "markdown",
   "metadata": {},
   "source": [
    "#### Handling null salaries based on the experience level\n",
    "\n",
    "To address null values in the \"Salary\" column, the code employs the experience level as a reference. This approach involves filling the missing values with the average salary corresponding to the respective experience level."
   ]
  },
  {
   "cell_type": "code",
   "execution_count": 39,
   "metadata": {},
   "outputs": [],
   "source": [
    "# Convert the \"Salary\" column to numeric values and handle missing values\n",
    "df['Salary'] = df['Salary'].replace('[^\\d.]', '', regex=True).replace('NaN', np.nan, regex=True).astype(float).apply(lambda x: x*1000)\n",
    "\n",
    "# Calculate the average salary for each experience level\n",
    "mean_salary_by_level = df.groupby('Experience level')['Salary'].mean()\n",
    "\n",
    "# Fill the missing values in the \"Salary\" column with the mean of the corresponding experience level\n",
    "df['Salary'].fillna(df['Experience level'].map(mean_salary_by_level), inplace=True)"
   ]
  },
  {
   "attachments": {},
   "cell_type": "markdown",
   "metadata": {},
   "source": [
    "#### Handling null experience levels based on the mean salary of each level\n",
    "To handle null values in the \"Experience level\" column, the code utilizes the mean salary of each level. This approach allows for filling the missing values with the experience level that corresponds to the closest mean salary."
   ]
  },
  {
   "cell_type": "code",
   "execution_count": 40,
   "metadata": {},
   "outputs": [],
   "source": [
    "# Function to find the nearest experience level based on salary\n",
    "def find_nearest_level(row):\n",
    "    salary = row['Salary']\n",
    "    distances = abs(mean_salary_by_level - salary)\n",
    "    closest_level = distances.idxmin()\n",
    "    return closest_level"
   ]
  },
  {
   "cell_type": "code",
   "execution_count": 41,
   "metadata": {},
   "outputs": [],
   "source": [
    "# Fill the missing values in the \"Experience level\" column with the nearest experience level based on salary\n",
    "df['Experience level'].fillna(df.apply(find_nearest_level, axis=1), inplace=True)"
   ]
  },
  {
   "attachments": {},
   "cell_type": "markdown",
   "metadata": {},
   "source": [
    "#### Changing the empty values in the columns \"Requirements of the company\" and \"Facilities\""
   ]
  },
  {
   "cell_type": "code",
   "execution_count": 42,
   "metadata": {},
   "outputs": [],
   "source": [
    "# Rename the column \"Requirment of the company\" to \"Requirements of the company\"\n",
    "df.rename(columns={'Requirment of the company ': 'Requirements of the company'}, inplace=True)\n",
    "\n",
    "# Remove empty values in the \"Requirements of the company\" column\n",
    "df['Requirements of the company'] = df['Requirements of the company'].replace(',,', '', regex=True)\n",
    "\n",
    "# Replace empty values with \"No Requirements\" in the \"Requirements of the company\" column\n",
    "for line in df['Requirements of the company']:\n",
    "    if line == '':\n",
    "        df['Requirements of the company'] = df['Requirements of the company'].replace('', 'No Requirements', regex=True)"
   ]
  },
  {
   "cell_type": "code",
   "execution_count": 43,
   "metadata": {},
   "outputs": [],
   "source": [
    "# Remove empty values in the \"Facilities\" column\n",
    "df['Facilities'] = df['Facilities'].replace(',,', '', regex=True)\n",
    "\n",
    "# Replace empty values with \"No Facilities\" in the \"Facilities\" column\n",
    "for line in df['Facilities']:\n",
    "    if line == '':\n",
    "        df['Facilities'] = df['Facilities'].replace('', 'No Facilities', regex=True)"
   ]
  },
  {
   "attachments": {},
   "cell_type": "markdown",
   "metadata": {},
   "source": [
    "#### Remaining Data Treatment"
   ]
  },
  {
   "cell_type": "code",
   "execution_count": 44,
   "metadata": {},
   "outputs": [
    {
     "data": {
      "text/html": [
       "<div>\n",
       "<style scoped>\n",
       "    .dataframe tbody tr th:only-of-type {\n",
       "        vertical-align: middle;\n",
       "    }\n",
       "\n",
       "    .dataframe tbody tr th {\n",
       "        vertical-align: top;\n",
       "    }\n",
       "\n",
       "    .dataframe thead th {\n",
       "        text-align: right;\n",
       "    }\n",
       "</style>\n",
       "<table border=\"1\" class=\"dataframe\">\n",
       "  <thead>\n",
       "    <tr style=\"text-align: right;\">\n",
       "      <th></th>\n",
       "      <th>Company</th>\n",
       "      <th>Job Title</th>\n",
       "      <th>City</th>\n",
       "      <th>Country</th>\n",
       "      <th>Job Type</th>\n",
       "      <th>Experience level</th>\n",
       "      <th>Salary</th>\n",
       "      <th>Requirements of the company</th>\n",
       "      <th>Facilities</th>\n",
       "    </tr>\n",
       "  </thead>\n",
       "  <tbody>\n",
       "    <tr>\n",
       "      <th>0</th>\n",
       "      <td>SGS</td>\n",
       "      <td>Clinical Data Analyst</td>\n",
       "      <td>Richardson</td>\n",
       "      <td>United States</td>\n",
       "      <td>Full Time</td>\n",
       "      <td>Entry-level</td>\n",
       "      <td>48000.0</td>\n",
       "      <td>Computer Science,Data quality,Genetics,Mathema...</td>\n",
       "      <td>No Facilities</td>\n",
       "    </tr>\n",
       "    <tr>\n",
       "      <th>1</th>\n",
       "      <td>Ocorian</td>\n",
       "      <td>AML/CFT &amp; Data Analyst</td>\n",
       "      <td>Ebène</td>\n",
       "      <td>Mauritius</td>\n",
       "      <td>Full Time</td>\n",
       "      <td>Entry-level</td>\n",
       "      <td>48000.0</td>\n",
       "      <td>Agile,Data management,Finance,Security</td>\n",
       "      <td>No Facilities</td>\n",
       "    </tr>\n",
       "    <tr>\n",
       "      <th>2</th>\n",
       "      <td>Cricut</td>\n",
       "      <td>Machine Learning Engineer</td>\n",
       "      <td>South Jordan</td>\n",
       "      <td>United States</td>\n",
       "      <td>Full Time</td>\n",
       "      <td>Executive-level</td>\n",
       "      <td>90000.0</td>\n",
       "      <td>Agile,Architecture,AWS,Computer Science,Comput...</td>\n",
       "      <td>Career development</td>\n",
       "    </tr>\n",
       "    <tr>\n",
       "      <th>3</th>\n",
       "      <td>Bosch Group</td>\n",
       "      <td>Application Developer &amp; Data Analyst</td>\n",
       "      <td>Nonantola</td>\n",
       "      <td>Italy</td>\n",
       "      <td>Full Time</td>\n",
       "      <td>Entry-level</td>\n",
       "      <td>48000.0</td>\n",
       "      <td>Engineering,Industrial,Oracle,Power BI,R,R&amp;D</td>\n",
       "      <td>No Facilities</td>\n",
       "    </tr>\n",
       "    <tr>\n",
       "      <th>4</th>\n",
       "      <td>Publicis Groupe</td>\n",
       "      <td>Data Engineer Full time (Public Sector) USA</td>\n",
       "      <td>Arlington</td>\n",
       "      <td>United States</td>\n",
       "      <td>Full Time</td>\n",
       "      <td>Mid-level</td>\n",
       "      <td>108000.0</td>\n",
       "      <td>AWS,Azure,Computer Science,Consulting,Dataflow...</td>\n",
       "      <td>Flex hours,Flex vacation,Parental leave,Unlimi...</td>\n",
       "    </tr>\n",
       "  </tbody>\n",
       "</table>\n",
       "</div>"
      ],
      "text/plain": [
       "           Company                                    Job Title          City  \\\n",
       "0              SGS                        Clinical Data Analyst    Richardson   \n",
       "1          Ocorian                       AML/CFT & Data Analyst         Ebène   \n",
       "2           Cricut                    Machine Learning Engineer  South Jordan   \n",
       "3      Bosch Group         Application Developer & Data Analyst     Nonantola   \n",
       "4  Publicis Groupe  Data Engineer Full time (Public Sector) USA     Arlington   \n",
       "\n",
       "          Country   Job Type Experience level    Salary  \\\n",
       "0   United States  Full Time      Entry-level   48000.0   \n",
       "1       Mauritius  Full Time      Entry-level   48000.0   \n",
       "2   United States  Full Time  Executive-level   90000.0   \n",
       "3           Italy  Full Time      Entry-level   48000.0   \n",
       "4   United States  Full Time        Mid-level  108000.0   \n",
       "\n",
       "                         Requirements of the company  \\\n",
       "0  Computer Science,Data quality,Genetics,Mathema...   \n",
       "1             Agile,Data management,Finance,Security   \n",
       "2  Agile,Architecture,AWS,Computer Science,Comput...   \n",
       "3       Engineering,Industrial,Oracle,Power BI,R,R&D   \n",
       "4  AWS,Azure,Computer Science,Consulting,Dataflow...   \n",
       "\n",
       "                                          Facilities  \n",
       "0                                      No Facilities  \n",
       "1                                      No Facilities  \n",
       "2                                 Career development  \n",
       "3                                      No Facilities  \n",
       "4  Flex hours,Flex vacation,Parental leave,Unlimi...  "
      ]
     },
     "execution_count": 44,
     "metadata": {},
     "output_type": "execute_result"
    }
   ],
   "source": [
    "# Drop the null values\n",
    "df.dropna(inplace=True)\n",
    "\n",
    "# Add \"City\" column based on the \"Location\" column\n",
    "df['City'] = df['Location'].apply(lambda x: x.split(',')[0])\n",
    "\n",
    "df['City'] = df['City'].replace('Dublin 1', 'Dublin', regex=True)\n",
    " \n",
    "# Add \"Country\" column based on the \"Location\" column\n",
    "df['Country'] = df['Location'].apply(lambda x: x.split(',')[-1])\n",
    "\n",
    "# Reorder the columns to match the desired order\n",
    "df = df[['Company', 'Job Title', 'City', 'Country', 'Job Type', 'Experience level', 'Salary', 'Requirements of the company', 'Facilities']]\n",
    "\n",
    "# Reset the index after dropping rows\n",
    "df.reset_index(drop=True, inplace=True)\n",
    "\n",
    "df.head()"
   ]
  },
  {
   "attachments": {},
   "cell_type": "markdown",
   "metadata": {},
   "source": [
    "# Exploratory Data Analysis"
   ]
  },
  {
   "attachments": {},
   "cell_type": "markdown",
   "metadata": {},
   "source": [
    "### Which cities have the highest salaries?"
   ]
  },
  {
   "cell_type": "code",
   "execution_count": 54,
   "metadata": {},
   "outputs": [],
   "source": [
    "# Group the data by city and calculate the average salary for each city\n",
    "avg_salary_by_city = df.groupby('City')['Salary'].mean()\n",
    "\n",
    "# Filter the cities that have at least 3 job openings\n",
    "cities_with_min_3_jobs = df['City'].value_counts()[df['City'].value_counts() >= 3].index\n",
    "\n",
    "# Calculate the average salary for the cities with at least 3 job openings\n",
    "avg_salary_by_city = avg_salary_by_city[cities_with_min_3_jobs]\n",
    "\n",
    "# Sort the cities based on the average salary in descending order\n",
    "top_cities = avg_salary_by_city.sort_values(ascending=False)\n",
    "\n",
    "# Select the top 5 cities with the highest salaries\n",
    "top_cities = top_cities.head(5)"
   ]
  },
  {
   "cell_type": "code",
   "execution_count": 55,
   "metadata": {},
   "outputs": [
    {
     "data": {
      "application/vnd.plotly.v1+json": {
       "config": {
        "plotlyServerURL": "https://plot.ly"
       },
       "data": [
        {
         "marker": {
          "color": [
           "rgb(0, 0, 24)",
           "rgb(0, 10, 56)",
           "rgb(0, 67, 100)",
           "rgb(0, 147, 110)",
           "rgb(62, 196, 67)"
          ]
         },
         "type": "bar",
         "x": [
          "San Mateo",
          "Long Beach",
          "Kirkland",
          "Brooklyn",
          "Bellevue"
         ],
         "y": [
          210637.3508496145,
          168000,
          162666.66666666666,
          149750,
          148200
         ]
        }
       ],
       "layout": {
        "font": {
         "color": "rgb(240, 240, 240)"
        },
        "paper_bgcolor": "rgb(0, 22, 33)",
        "plot_bgcolor": "rgb(0, 22, 33)",
        "template": {
         "data": {
          "bar": [
           {
            "error_x": {
             "color": "#f2f5fa"
            },
            "error_y": {
             "color": "#f2f5fa"
            },
            "marker": {
             "line": {
              "color": "rgb(17,17,17)",
              "width": 0.5
             },
             "pattern": {
              "fillmode": "overlay",
              "size": 10,
              "solidity": 0.2
             }
            },
            "type": "bar"
           }
          ],
          "barpolar": [
           {
            "marker": {
             "line": {
              "color": "rgb(17,17,17)",
              "width": 0.5
             },
             "pattern": {
              "fillmode": "overlay",
              "size": 10,
              "solidity": 0.2
             }
            },
            "type": "barpolar"
           }
          ],
          "carpet": [
           {
            "aaxis": {
             "endlinecolor": "#A2B1C6",
             "gridcolor": "#506784",
             "linecolor": "#506784",
             "minorgridcolor": "#506784",
             "startlinecolor": "#A2B1C6"
            },
            "baxis": {
             "endlinecolor": "#A2B1C6",
             "gridcolor": "#506784",
             "linecolor": "#506784",
             "minorgridcolor": "#506784",
             "startlinecolor": "#A2B1C6"
            },
            "type": "carpet"
           }
          ],
          "choropleth": [
           {
            "colorbar": {
             "outlinewidth": 0,
             "ticks": ""
            },
            "type": "choropleth"
           }
          ],
          "contour": [
           {
            "colorbar": {
             "outlinewidth": 0,
             "ticks": ""
            },
            "colorscale": [
             [
              0,
              "#0d0887"
             ],
             [
              0.1111111111111111,
              "#46039f"
             ],
             [
              0.2222222222222222,
              "#7201a8"
             ],
             [
              0.3333333333333333,
              "#9c179e"
             ],
             [
              0.4444444444444444,
              "#bd3786"
             ],
             [
              0.5555555555555556,
              "#d8576b"
             ],
             [
              0.6666666666666666,
              "#ed7953"
             ],
             [
              0.7777777777777778,
              "#fb9f3a"
             ],
             [
              0.8888888888888888,
              "#fdca26"
             ],
             [
              1,
              "#f0f921"
             ]
            ],
            "type": "contour"
           }
          ],
          "contourcarpet": [
           {
            "colorbar": {
             "outlinewidth": 0,
             "ticks": ""
            },
            "type": "contourcarpet"
           }
          ],
          "heatmap": [
           {
            "colorbar": {
             "outlinewidth": 0,
             "ticks": ""
            },
            "colorscale": [
             [
              0,
              "#0d0887"
             ],
             [
              0.1111111111111111,
              "#46039f"
             ],
             [
              0.2222222222222222,
              "#7201a8"
             ],
             [
              0.3333333333333333,
              "#9c179e"
             ],
             [
              0.4444444444444444,
              "#bd3786"
             ],
             [
              0.5555555555555556,
              "#d8576b"
             ],
             [
              0.6666666666666666,
              "#ed7953"
             ],
             [
              0.7777777777777778,
              "#fb9f3a"
             ],
             [
              0.8888888888888888,
              "#fdca26"
             ],
             [
              1,
              "#f0f921"
             ]
            ],
            "type": "heatmap"
           }
          ],
          "heatmapgl": [
           {
            "colorbar": {
             "outlinewidth": 0,
             "ticks": ""
            },
            "colorscale": [
             [
              0,
              "#0d0887"
             ],
             [
              0.1111111111111111,
              "#46039f"
             ],
             [
              0.2222222222222222,
              "#7201a8"
             ],
             [
              0.3333333333333333,
              "#9c179e"
             ],
             [
              0.4444444444444444,
              "#bd3786"
             ],
             [
              0.5555555555555556,
              "#d8576b"
             ],
             [
              0.6666666666666666,
              "#ed7953"
             ],
             [
              0.7777777777777778,
              "#fb9f3a"
             ],
             [
              0.8888888888888888,
              "#fdca26"
             ],
             [
              1,
              "#f0f921"
             ]
            ],
            "type": "heatmapgl"
           }
          ],
          "histogram": [
           {
            "marker": {
             "pattern": {
              "fillmode": "overlay",
              "size": 10,
              "solidity": 0.2
             }
            },
            "type": "histogram"
           }
          ],
          "histogram2d": [
           {
            "colorbar": {
             "outlinewidth": 0,
             "ticks": ""
            },
            "colorscale": [
             [
              0,
              "#0d0887"
             ],
             [
              0.1111111111111111,
              "#46039f"
             ],
             [
              0.2222222222222222,
              "#7201a8"
             ],
             [
              0.3333333333333333,
              "#9c179e"
             ],
             [
              0.4444444444444444,
              "#bd3786"
             ],
             [
              0.5555555555555556,
              "#d8576b"
             ],
             [
              0.6666666666666666,
              "#ed7953"
             ],
             [
              0.7777777777777778,
              "#fb9f3a"
             ],
             [
              0.8888888888888888,
              "#fdca26"
             ],
             [
              1,
              "#f0f921"
             ]
            ],
            "type": "histogram2d"
           }
          ],
          "histogram2dcontour": [
           {
            "colorbar": {
             "outlinewidth": 0,
             "ticks": ""
            },
            "colorscale": [
             [
              0,
              "#0d0887"
             ],
             [
              0.1111111111111111,
              "#46039f"
             ],
             [
              0.2222222222222222,
              "#7201a8"
             ],
             [
              0.3333333333333333,
              "#9c179e"
             ],
             [
              0.4444444444444444,
              "#bd3786"
             ],
             [
              0.5555555555555556,
              "#d8576b"
             ],
             [
              0.6666666666666666,
              "#ed7953"
             ],
             [
              0.7777777777777778,
              "#fb9f3a"
             ],
             [
              0.8888888888888888,
              "#fdca26"
             ],
             [
              1,
              "#f0f921"
             ]
            ],
            "type": "histogram2dcontour"
           }
          ],
          "mesh3d": [
           {
            "colorbar": {
             "outlinewidth": 0,
             "ticks": ""
            },
            "type": "mesh3d"
           }
          ],
          "parcoords": [
           {
            "line": {
             "colorbar": {
              "outlinewidth": 0,
              "ticks": ""
             }
            },
            "type": "parcoords"
           }
          ],
          "pie": [
           {
            "automargin": true,
            "type": "pie"
           }
          ],
          "scatter": [
           {
            "marker": {
             "line": {
              "color": "#283442"
             }
            },
            "type": "scatter"
           }
          ],
          "scatter3d": [
           {
            "line": {
             "colorbar": {
              "outlinewidth": 0,
              "ticks": ""
             }
            },
            "marker": {
             "colorbar": {
              "outlinewidth": 0,
              "ticks": ""
             }
            },
            "type": "scatter3d"
           }
          ],
          "scattercarpet": [
           {
            "marker": {
             "colorbar": {
              "outlinewidth": 0,
              "ticks": ""
             }
            },
            "type": "scattercarpet"
           }
          ],
          "scattergeo": [
           {
            "marker": {
             "colorbar": {
              "outlinewidth": 0,
              "ticks": ""
             }
            },
            "type": "scattergeo"
           }
          ],
          "scattergl": [
           {
            "marker": {
             "line": {
              "color": "#283442"
             }
            },
            "type": "scattergl"
           }
          ],
          "scattermapbox": [
           {
            "marker": {
             "colorbar": {
              "outlinewidth": 0,
              "ticks": ""
             }
            },
            "type": "scattermapbox"
           }
          ],
          "scatterpolar": [
           {
            "marker": {
             "colorbar": {
              "outlinewidth": 0,
              "ticks": ""
             }
            },
            "type": "scatterpolar"
           }
          ],
          "scatterpolargl": [
           {
            "marker": {
             "colorbar": {
              "outlinewidth": 0,
              "ticks": ""
             }
            },
            "type": "scatterpolargl"
           }
          ],
          "scatterternary": [
           {
            "marker": {
             "colorbar": {
              "outlinewidth": 0,
              "ticks": ""
             }
            },
            "type": "scatterternary"
           }
          ],
          "surface": [
           {
            "colorbar": {
             "outlinewidth": 0,
             "ticks": ""
            },
            "colorscale": [
             [
              0,
              "#0d0887"
             ],
             [
              0.1111111111111111,
              "#46039f"
             ],
             [
              0.2222222222222222,
              "#7201a8"
             ],
             [
              0.3333333333333333,
              "#9c179e"
             ],
             [
              0.4444444444444444,
              "#bd3786"
             ],
             [
              0.5555555555555556,
              "#d8576b"
             ],
             [
              0.6666666666666666,
              "#ed7953"
             ],
             [
              0.7777777777777778,
              "#fb9f3a"
             ],
             [
              0.8888888888888888,
              "#fdca26"
             ],
             [
              1,
              "#f0f921"
             ]
            ],
            "type": "surface"
           }
          ],
          "table": [
           {
            "cells": {
             "fill": {
              "color": "#506784"
             },
             "line": {
              "color": "rgb(17,17,17)"
             }
            },
            "header": {
             "fill": {
              "color": "#2a3f5f"
             },
             "line": {
              "color": "rgb(17,17,17)"
             }
            },
            "type": "table"
           }
          ]
         },
         "layout": {
          "annotationdefaults": {
           "arrowcolor": "#f2f5fa",
           "arrowhead": 0,
           "arrowwidth": 1
          },
          "autotypenumbers": "strict",
          "coloraxis": {
           "colorbar": {
            "outlinewidth": 0,
            "ticks": ""
           }
          },
          "colorscale": {
           "diverging": [
            [
             0,
             "#8e0152"
            ],
            [
             0.1,
             "#c51b7d"
            ],
            [
             0.2,
             "#de77ae"
            ],
            [
             0.3,
             "#f1b6da"
            ],
            [
             0.4,
             "#fde0ef"
            ],
            [
             0.5,
             "#f7f7f7"
            ],
            [
             0.6,
             "#e6f5d0"
            ],
            [
             0.7,
             "#b8e186"
            ],
            [
             0.8,
             "#7fbc41"
            ],
            [
             0.9,
             "#4d9221"
            ],
            [
             1,
             "#276419"
            ]
           ],
           "sequential": [
            [
             0,
             "#0d0887"
            ],
            [
             0.1111111111111111,
             "#46039f"
            ],
            [
             0.2222222222222222,
             "#7201a8"
            ],
            [
             0.3333333333333333,
             "#9c179e"
            ],
            [
             0.4444444444444444,
             "#bd3786"
            ],
            [
             0.5555555555555556,
             "#d8576b"
            ],
            [
             0.6666666666666666,
             "#ed7953"
            ],
            [
             0.7777777777777778,
             "#fb9f3a"
            ],
            [
             0.8888888888888888,
             "#fdca26"
            ],
            [
             1,
             "#f0f921"
            ]
           ],
           "sequentialminus": [
            [
             0,
             "#0d0887"
            ],
            [
             0.1111111111111111,
             "#46039f"
            ],
            [
             0.2222222222222222,
             "#7201a8"
            ],
            [
             0.3333333333333333,
             "#9c179e"
            ],
            [
             0.4444444444444444,
             "#bd3786"
            ],
            [
             0.5555555555555556,
             "#d8576b"
            ],
            [
             0.6666666666666666,
             "#ed7953"
            ],
            [
             0.7777777777777778,
             "#fb9f3a"
            ],
            [
             0.8888888888888888,
             "#fdca26"
            ],
            [
             1,
             "#f0f921"
            ]
           ]
          },
          "colorway": [
           "#636efa",
           "#EF553B",
           "#00cc96",
           "#ab63fa",
           "#FFA15A",
           "#19d3f3",
           "#FF6692",
           "#B6E880",
           "#FF97FF",
           "#FECB52"
          ],
          "font": {
           "color": "#f2f5fa"
          },
          "geo": {
           "bgcolor": "rgb(17,17,17)",
           "lakecolor": "rgb(17,17,17)",
           "landcolor": "rgb(17,17,17)",
           "showlakes": true,
           "showland": true,
           "subunitcolor": "#506784"
          },
          "hoverlabel": {
           "align": "left"
          },
          "hovermode": "closest",
          "mapbox": {
           "style": "dark"
          },
          "paper_bgcolor": "rgb(17,17,17)",
          "plot_bgcolor": "rgb(17,17,17)",
          "polar": {
           "angularaxis": {
            "gridcolor": "#506784",
            "linecolor": "#506784",
            "ticks": ""
           },
           "bgcolor": "rgb(17,17,17)",
           "radialaxis": {
            "gridcolor": "#506784",
            "linecolor": "#506784",
            "ticks": ""
           }
          },
          "scene": {
           "xaxis": {
            "backgroundcolor": "rgb(17,17,17)",
            "gridcolor": "#506784",
            "gridwidth": 2,
            "linecolor": "#506784",
            "showbackground": true,
            "ticks": "",
            "zerolinecolor": "#C8D4E3"
           },
           "yaxis": {
            "backgroundcolor": "rgb(17,17,17)",
            "gridcolor": "#506784",
            "gridwidth": 2,
            "linecolor": "#506784",
            "showbackground": true,
            "ticks": "",
            "zerolinecolor": "#C8D4E3"
           },
           "zaxis": {
            "backgroundcolor": "rgb(17,17,17)",
            "gridcolor": "#506784",
            "gridwidth": 2,
            "linecolor": "#506784",
            "showbackground": true,
            "ticks": "",
            "zerolinecolor": "#C8D4E3"
           }
          },
          "shapedefaults": {
           "line": {
            "color": "#f2f5fa"
           }
          },
          "sliderdefaults": {
           "bgcolor": "#C8D4E3",
           "bordercolor": "rgb(17,17,17)",
           "borderwidth": 1,
           "tickwidth": 0
          },
          "ternary": {
           "aaxis": {
            "gridcolor": "#506784",
            "linecolor": "#506784",
            "ticks": ""
           },
           "baxis": {
            "gridcolor": "#506784",
            "linecolor": "#506784",
            "ticks": ""
           },
           "bgcolor": "rgb(17,17,17)",
           "caxis": {
            "gridcolor": "#506784",
            "linecolor": "#506784",
            "ticks": ""
           }
          },
          "title": {
           "x": 0.05
          },
          "updatemenudefaults": {
           "bgcolor": "#506784",
           "borderwidth": 0
          },
          "xaxis": {
           "automargin": true,
           "gridcolor": "#283442",
           "linecolor": "#506784",
           "ticks": "",
           "title": {
            "standoff": 15
           },
           "zerolinecolor": "#283442",
           "zerolinewidth": 2
          },
          "yaxis": {
           "automargin": true,
           "gridcolor": "#283442",
           "linecolor": "#506784",
           "ticks": "",
           "title": {
            "standoff": 15
           },
           "zerolinecolor": "#283442",
           "zerolinewidth": 2
          }
         }
        },
        "title": {
         "text": "Cities with the Highest Salaries"
        },
        "xaxis": {
         "title": {
          "text": "City"
         }
        },
        "yaxis": {
         "title": {
          "text": "Average Salary"
         }
        }
       }
      }
     },
     "metadata": {},
     "output_type": "display_data"
    }
   ],
   "source": [
    "\n",
    "# Define background color and generate gradient colors\n",
    "background_color = 'rgb(0, 22, 33)'\n",
    "font_color = 'rgb(240, 240, 240)'\n",
    "\n",
    "# Define manual colors for the bars\n",
    "bar_colors = ['rgb(0, 0, 24)', 'rgb(0, 10, 56)', 'rgb(0, 67, 100)', 'rgb(0, 147, 110)', 'rgb(62, 196, 67)']\n",
    "\n",
    "# Create a bar chart for the top cities and their average salaries\n",
    "fig = go.Figure(data=go.Bar(x=top_cities.index, y=top_cities.values, marker=dict(color=bar_colors)))\n",
    "\n",
    "\n",
    "\n",
    "# Update layout with desired colors\n",
    "fig.update_layout(\n",
    "    title=\"Cities with the Highest Salaries\",\n",
    "    xaxis_title=\"City\",\n",
    "    yaxis_title=\"Average Salary\",\n",
    "    plot_bgcolor=background_color,\n",
    "    paper_bgcolor=background_color,\n",
    "    font_color=font_color,\n",
    "    template='plotly_dark'\n",
    ")\n",
    "\n",
    "fig.show()\n"
   ]
  },
  {
   "cell_type": "code",
   "execution_count": 59,
   "metadata": {},
   "outputs": [
    {
     "data": {
      "text/html": [
       "<div>\n",
       "<style scoped>\n",
       "    .dataframe tbody tr th:only-of-type {\n",
       "        vertical-align: middle;\n",
       "    }\n",
       "\n",
       "    .dataframe tbody tr th {\n",
       "        vertical-align: top;\n",
       "    }\n",
       "\n",
       "    .dataframe thead th {\n",
       "        text-align: right;\n",
       "    }\n",
       "</style>\n",
       "<table border=\"1\" class=\"dataframe\">\n",
       "  <thead>\n",
       "    <tr style=\"text-align: right;\">\n",
       "      <th></th>\n",
       "      <th>Company</th>\n",
       "      <th>Job Title</th>\n",
       "      <th>City</th>\n",
       "      <th>Country</th>\n",
       "      <th>Job Type</th>\n",
       "      <th>Experience level</th>\n",
       "      <th>Salary</th>\n",
       "      <th>Requirements of the company</th>\n",
       "      <th>Facilities</th>\n",
       "    </tr>\n",
       "  </thead>\n",
       "  <tbody>\n",
       "    <tr>\n",
       "      <th>596</th>\n",
       "      <td>Roblox</td>\n",
       "      <td>Principal Engineer, Datacenter Software Systems</td>\n",
       "      <td>San Mateo</td>\n",
       "      <td>United States</td>\n",
       "      <td>Full Time</td>\n",
       "      <td>Senior-level</td>\n",
       "      <td>283000.000000</td>\n",
       "      <td>APIs,Engineering,Genetics,Golang,Kubernetes,</td>\n",
       "      <td>Equity,Flex hours,Flex vacation,Health care,Un...</td>\n",
       "    </tr>\n",
       "    <tr>\n",
       "      <th>665</th>\n",
       "      <td>Roblox</td>\n",
       "      <td>Principal Software Engineer, Applied ML</td>\n",
       "      <td>San Mateo</td>\n",
       "      <td>United States</td>\n",
       "      <td>Full Time</td>\n",
       "      <td>Senior-level</td>\n",
       "      <td>283000.000000</td>\n",
       "      <td>Architecture,Content creation,Deep Learning,Di...</td>\n",
       "      <td>Career development,Conferences,Equity,Flex hou...</td>\n",
       "    </tr>\n",
       "    <tr>\n",
       "      <th>688</th>\n",
       "      <td>Roblox</td>\n",
       "      <td>Senior Data Scientist- Creator Content</td>\n",
       "      <td>San Mateo</td>\n",
       "      <td>United States</td>\n",
       "      <td>Full Time</td>\n",
       "      <td>Senior-level</td>\n",
       "      <td>295000.000000</td>\n",
       "      <td>A/B testing,Airflow,Big Data,Causal inference,...</td>\n",
       "      <td>Career development,Equity,Flex hours,Flex vaca...</td>\n",
       "    </tr>\n",
       "    <tr>\n",
       "      <th>706</th>\n",
       "      <td>Roblox</td>\n",
       "      <td>Research Scientist</td>\n",
       "      <td>San Mateo</td>\n",
       "      <td>CA</td>\n",
       "      <td>Full Time</td>\n",
       "      <td>Entry-level</td>\n",
       "      <td>63000.000000</td>\n",
       "      <td>Computer Science,Content creation,Distributed ...</td>\n",
       "      <td>Conferences,Flex hours,Flex vacation,Health ca...</td>\n",
       "    </tr>\n",
       "    <tr>\n",
       "      <th>720</th>\n",
       "      <td>Roblox</td>\n",
       "      <td>Principal Machine Learning Engineer - Personal...</td>\n",
       "      <td>San Mateo</td>\n",
       "      <td>United States</td>\n",
       "      <td>Full Time</td>\n",
       "      <td>Senior-level</td>\n",
       "      <td>283000.000000</td>\n",
       "      <td>Computer Science,Engineering,Genetics,Machine ...</td>\n",
       "      <td>Career development,Equity,Flex hours,Flex vaca...</td>\n",
       "    </tr>\n",
       "    <tr>\n",
       "      <th>731</th>\n",
       "      <td>Roblox</td>\n",
       "      <td>Research Engineer - Research</td>\n",
       "      <td>San Mateo</td>\n",
       "      <td>United States</td>\n",
       "      <td>Full Time</td>\n",
       "      <td>Senior-level</td>\n",
       "      <td>139000.000000</td>\n",
       "      <td>APIs,Computer Science,Distributed Systems,Engi...</td>\n",
       "      <td>Career development,Equity,Flex hours,Flex vaca...</td>\n",
       "    </tr>\n",
       "    <tr>\n",
       "      <th>732</th>\n",
       "      <td>Roblox</td>\n",
       "      <td>Principal Software Engineer, Data Engineering</td>\n",
       "      <td>San Mateo</td>\n",
       "      <td>United States</td>\n",
       "      <td>Full Time</td>\n",
       "      <td>Senior-level</td>\n",
       "      <td>283000.000000</td>\n",
       "      <td>Airflow,Architecture,AWS,Azure,Dagster,Data pi...</td>\n",
       "      <td>Career development,Equity,Flex hours,Flex vaca...</td>\n",
       "    </tr>\n",
       "    <tr>\n",
       "      <th>736</th>\n",
       "      <td>Roblox</td>\n",
       "      <td>Principal Machine Learning Engineer- Economy</td>\n",
       "      <td>San Mateo</td>\n",
       "      <td>United States</td>\n",
       "      <td>Full Time</td>\n",
       "      <td>Senior-level</td>\n",
       "      <td>267000.000000</td>\n",
       "      <td>Computer Science,Data analysis,Data pipelines,...</td>\n",
       "      <td>Career development,Equity,Flex hours,Flex vaca...</td>\n",
       "    </tr>\n",
       "    <tr>\n",
       "      <th>744</th>\n",
       "      <td>Roblox</td>\n",
       "      <td>Principal Deep Learning Engineer - Computer Vi...</td>\n",
       "      <td>San Mateo</td>\n",
       "      <td>United States</td>\n",
       "      <td>Full Time</td>\n",
       "      <td>Senior-level</td>\n",
       "      <td>283000.000000</td>\n",
       "      <td>Computer Vision,Deep Learning,Genetics,Machine...</td>\n",
       "      <td>Career development,Equity,Flex hours,Flex vaca...</td>\n",
       "    </tr>\n",
       "    <tr>\n",
       "      <th>747</th>\n",
       "      <td>Roblox</td>\n",
       "      <td>Technical Director, Machine Learning (Individu...</td>\n",
       "      <td>San Mateo</td>\n",
       "      <td>United States</td>\n",
       "      <td>Full Time</td>\n",
       "      <td>Executive-level</td>\n",
       "      <td>98803.278689</td>\n",
       "      <td>Architecture,Deep Learning,Distributed Systems...</td>\n",
       "      <td>Career development,Equity,Flex hours,Flex vaca...</td>\n",
       "    </tr>\n",
       "    <tr>\n",
       "      <th>785</th>\n",
       "      <td>Roblox</td>\n",
       "      <td>Senior Data Scientist - Discovery Experiences</td>\n",
       "      <td>San Mateo</td>\n",
       "      <td>United States</td>\n",
       "      <td>Full Time</td>\n",
       "      <td>Senior-level</td>\n",
       "      <td>295000.000000</td>\n",
       "      <td>Airflow,Big Data,Causal inference,Computer Sci...</td>\n",
       "      <td>Career development,Equity,Flex hours,Flex vaca...</td>\n",
       "    </tr>\n",
       "    <tr>\n",
       "      <th>789</th>\n",
       "      <td>Roblox</td>\n",
       "      <td>Senior Data Scientist - Creator Success</td>\n",
       "      <td>San Mateo</td>\n",
       "      <td>United States</td>\n",
       "      <td>Full Time</td>\n",
       "      <td>Senior-level</td>\n",
       "      <td>310000.000000</td>\n",
       "      <td>A/B testing,Airflow,Big Data,Causal inference,...</td>\n",
       "      <td>Career development,Equity,Flex hours,Flex vaca...</td>\n",
       "    </tr>\n",
       "    <tr>\n",
       "      <th>866</th>\n",
       "      <td>Roblox</td>\n",
       "      <td>Senior/Principal ML Engineer, Content Understa...</td>\n",
       "      <td>San Mateo</td>\n",
       "      <td>United States</td>\n",
       "      <td>Full Time</td>\n",
       "      <td>Senior-level</td>\n",
       "      <td>315000.000000</td>\n",
       "      <td>Architecture,Computer Vision,Deep Learning,Gen...</td>\n",
       "      <td>Career development,Equity,Flex hours,Flex vaca...</td>\n",
       "    </tr>\n",
       "    <tr>\n",
       "      <th>902</th>\n",
       "      <td>Roblox</td>\n",
       "      <td>Senior Machine Learning Engineer - Search</td>\n",
       "      <td>San Mateo</td>\n",
       "      <td>United States</td>\n",
       "      <td>Full Time</td>\n",
       "      <td>Senior-level</td>\n",
       "      <td>267000.000000</td>\n",
       "      <td>Computer Science,Deep Learning,Engineering,Gen...</td>\n",
       "      <td>Career development,Equity,Flex hours,Flex vaca...</td>\n",
       "    </tr>\n",
       "    <tr>\n",
       "      <th>928</th>\n",
       "      <td>InMobi</td>\n",
       "      <td>Data Scientist IV</td>\n",
       "      <td>San Mateo</td>\n",
       "      <td>San Mateo</td>\n",
       "      <td>Full Time</td>\n",
       "      <td>Executive-level</td>\n",
       "      <td>144000.000000</td>\n",
       "      <td>Agile,Big Data,Computer Science,Economics,Engi...</td>\n",
       "      <td>401(k) matching,Career development,Competitive...</td>\n",
       "    </tr>\n",
       "    <tr>\n",
       "      <th>939</th>\n",
       "      <td>Snowflake Inc.</td>\n",
       "      <td>Sr. Security Analytics Engineer</td>\n",
       "      <td>San Mateo</td>\n",
       "      <td>USA</td>\n",
       "      <td>Full Time</td>\n",
       "      <td>Senior-level</td>\n",
       "      <td>110000.000000</td>\n",
       "      <td>Computer Science,Data Analytics,Data pipelines...</td>\n",
       "      <td>Career development,Team events,</td>\n",
       "    </tr>\n",
       "    <tr>\n",
       "      <th>1270</th>\n",
       "      <td>IXL Learning</td>\n",
       "      <td>Customer Data Specialist</td>\n",
       "      <td>San Mateo</td>\n",
       "      <td>CA</td>\n",
       "      <td>Full Time</td>\n",
       "      <td>Senior-level</td>\n",
       "      <td>70000.000000</td>\n",
       "      <td>Data Analytics,Engineering,Excel,Mathematics,P...</td>\n",
       "      <td>Career development,Startup environment,</td>\n",
       "    </tr>\n",
       "    <tr>\n",
       "      <th>1302</th>\n",
       "      <td>Skydio</td>\n",
       "      <td>Autonomy Software Engineer - Flight Core</td>\n",
       "      <td>San Mateo</td>\n",
       "      <td>United States</td>\n",
       "      <td>Full Time</td>\n",
       "      <td>Senior-level</td>\n",
       "      <td>105534.794521</td>\n",
       "      <td>Computer Vision,Deep Learning,Drones,Engineeri...</td>\n",
       "      <td>Insurance</td>\n",
       "    </tr>\n",
       "    <tr>\n",
       "      <th>1368</th>\n",
       "      <td>Roblox</td>\n",
       "      <td>Principal Software Engineer, Applied ML</td>\n",
       "      <td>San Mateo</td>\n",
       "      <td>United States</td>\n",
       "      <td>Full Time</td>\n",
       "      <td>Senior-level</td>\n",
       "      <td>283000.000000</td>\n",
       "      <td>Architecture,Content creation,Deep Learning,Di...</td>\n",
       "      <td>Career development,Conferences,Equity,Flex hou...</td>\n",
       "    </tr>\n",
       "    <tr>\n",
       "      <th>1369</th>\n",
       "      <td>Roblox</td>\n",
       "      <td>Senior Data Scientist- Creator Content</td>\n",
       "      <td>San Mateo</td>\n",
       "      <td>United States</td>\n",
       "      <td>Full Time</td>\n",
       "      <td>Senior-level</td>\n",
       "      <td>295000.000000</td>\n",
       "      <td>A/B testing,Airflow,Big Data,Causal inference,...</td>\n",
       "      <td>Career development,Equity,Flex hours,Flex vaca...</td>\n",
       "    </tr>\n",
       "    <tr>\n",
       "      <th>1380</th>\n",
       "      <td>Roblox</td>\n",
       "      <td>Research Scientist</td>\n",
       "      <td>San Mateo</td>\n",
       "      <td>CA</td>\n",
       "      <td>Full Time</td>\n",
       "      <td>Entry-level</td>\n",
       "      <td>63000.000000</td>\n",
       "      <td>Computer Science,Content creation,Distributed ...</td>\n",
       "      <td>Conferences,Flex hours,Flex vacation,Health ca...</td>\n",
       "    </tr>\n",
       "    <tr>\n",
       "      <th>1387</th>\n",
       "      <td>Roblox</td>\n",
       "      <td>Senior Machine Learning Engineer, Communicatio...</td>\n",
       "      <td>San Mateo</td>\n",
       "      <td>United States</td>\n",
       "      <td>Full Time</td>\n",
       "      <td>Senior-level</td>\n",
       "      <td>218000.000000</td>\n",
       "      <td>ASR,Computer Vision,Data pipelines,Deep Learni...</td>\n",
       "      <td>401(k) matching,Career development,Conferences...</td>\n",
       "    </tr>\n",
       "    <tr>\n",
       "      <th>1393</th>\n",
       "      <td>Roblox</td>\n",
       "      <td>Principal Machine Learning Engineer- Economy</td>\n",
       "      <td>San Mateo</td>\n",
       "      <td>United States</td>\n",
       "      <td>Full Time</td>\n",
       "      <td>Senior-level</td>\n",
       "      <td>267000.000000</td>\n",
       "      <td>Computer Science,Data analysis,Data pipelines,...</td>\n",
       "      <td>Career development,Equity,Flex hours,Flex vaca...</td>\n",
       "    </tr>\n",
       "    <tr>\n",
       "      <th>1400</th>\n",
       "      <td>Roblox</td>\n",
       "      <td>Technical Director, Machine Learning (Individu...</td>\n",
       "      <td>San Mateo</td>\n",
       "      <td>United States</td>\n",
       "      <td>Full Time</td>\n",
       "      <td>Executive-level</td>\n",
       "      <td>98803.278689</td>\n",
       "      <td>Architecture,Deep Learning,Distributed Systems...</td>\n",
       "      <td>Career development,Equity,Flex hours,Flex vaca...</td>\n",
       "    </tr>\n",
       "    <tr>\n",
       "      <th>1403</th>\n",
       "      <td>Roblox</td>\n",
       "      <td>Research Engineer - Research</td>\n",
       "      <td>San Mateo</td>\n",
       "      <td>United States</td>\n",
       "      <td>Full Time</td>\n",
       "      <td>Senior-level</td>\n",
       "      <td>139000.000000</td>\n",
       "      <td>APIs,Computer Science,Distributed Systems,Engi...</td>\n",
       "      <td>Career development,Equity,Flex hours,Flex vaca...</td>\n",
       "    </tr>\n",
       "    <tr>\n",
       "      <th>1409</th>\n",
       "      <td>Roblox</td>\n",
       "      <td>Senior Data Scientist - Discovery Experiences</td>\n",
       "      <td>San Mateo</td>\n",
       "      <td>United States</td>\n",
       "      <td>Full Time</td>\n",
       "      <td>Senior-level</td>\n",
       "      <td>295000.000000</td>\n",
       "      <td>Airflow,Big Data,Causal inference,Computer Sci...</td>\n",
       "      <td>Career development,Equity,Flex hours,Flex vaca...</td>\n",
       "    </tr>\n",
       "    <tr>\n",
       "      <th>1412</th>\n",
       "      <td>Roblox</td>\n",
       "      <td>Principal Machine Learning Engineer - Personal...</td>\n",
       "      <td>San Mateo</td>\n",
       "      <td>United States</td>\n",
       "      <td>Full Time</td>\n",
       "      <td>Senior-level</td>\n",
       "      <td>283000.000000</td>\n",
       "      <td>Computer Science,Engineering,Genetics,Machine ...</td>\n",
       "      <td>Career development,Equity,Flex hours,Flex vaca...</td>\n",
       "    </tr>\n",
       "    <tr>\n",
       "      <th>1419</th>\n",
       "      <td>Roblox</td>\n",
       "      <td>Senior Data Scientist - Creator Success</td>\n",
       "      <td>San Mateo</td>\n",
       "      <td>United States</td>\n",
       "      <td>Full Time</td>\n",
       "      <td>Senior-level</td>\n",
       "      <td>310000.000000</td>\n",
       "      <td>A/B testing,Airflow,Big Data,Causal inference,...</td>\n",
       "      <td>Career development,Equity,Flex hours,Flex vaca...</td>\n",
       "    </tr>\n",
       "    <tr>\n",
       "      <th>1437</th>\n",
       "      <td>Roblox</td>\n",
       "      <td>Principal Deep Learning Engineer - Computer Vi...</td>\n",
       "      <td>San Mateo</td>\n",
       "      <td>United States</td>\n",
       "      <td>Full Time</td>\n",
       "      <td>Senior-level</td>\n",
       "      <td>283000.000000</td>\n",
       "      <td>Computer Vision,Deep Learning,Genetics,Machine...</td>\n",
       "      <td>Career development,Equity,Flex hours,Flex vaca...</td>\n",
       "    </tr>\n",
       "    <tr>\n",
       "      <th>1440</th>\n",
       "      <td>Roblox</td>\n",
       "      <td>Principal Software Engineer, Data Engineering</td>\n",
       "      <td>San Mateo</td>\n",
       "      <td>United States</td>\n",
       "      <td>Full Time</td>\n",
       "      <td>Senior-level</td>\n",
       "      <td>283000.000000</td>\n",
       "      <td>Airflow,Architecture,AWS,Azure,Dagster,Data pi...</td>\n",
       "      <td>Career development,Equity,Flex hours,Flex vaca...</td>\n",
       "    </tr>\n",
       "    <tr>\n",
       "      <th>1483</th>\n",
       "      <td>Roblox</td>\n",
       "      <td>Senior Data Scientist - Social Communications</td>\n",
       "      <td>San Mateo</td>\n",
       "      <td>United States</td>\n",
       "      <td>Full Time</td>\n",
       "      <td>Senior-level</td>\n",
       "      <td>253000.000000</td>\n",
       "      <td>A/B testing,Big Data,Causal inference,Computer...</td>\n",
       "      <td>Career development,Equity,Flex hours,Flex vaca...</td>\n",
       "    </tr>\n",
       "    <tr>\n",
       "      <th>1688</th>\n",
       "      <td>Snowflake Inc.</td>\n",
       "      <td>Manager, Business Intelligence</td>\n",
       "      <td>San Mateo</td>\n",
       "      <td>USA</td>\n",
       "      <td>Full Time</td>\n",
       "      <td>Mid-level</td>\n",
       "      <td>63000.000000</td>\n",
       "      <td>Airflow,BigQuery,Business Intelligence,Compute...</td>\n",
       "      <td>Conferences</td>\n",
       "    </tr>\n",
       "    <tr>\n",
       "      <th>2030</th>\n",
       "      <td>Relyance AI</td>\n",
       "      <td>Director, Data Engineering and Machine Learnin...</td>\n",
       "      <td>San Mateo</td>\n",
       "      <td>CA</td>\n",
       "      <td>Full Time</td>\n",
       "      <td>Executive-level</td>\n",
       "      <td>98803.278689</td>\n",
       "      <td>Computer Science,Data pipelines,Engineering,ET...</td>\n",
       "      <td>No Facilities</td>\n",
       "    </tr>\n",
       "    <tr>\n",
       "      <th>2309</th>\n",
       "      <td>Snowflake Inc.</td>\n",
       "      <td>Principal Software Engineer - Machine Learning</td>\n",
       "      <td>San Mateo</td>\n",
       "      <td>USA</td>\n",
       "      <td>Full Time</td>\n",
       "      <td>Senior-level</td>\n",
       "      <td>69000.000000</td>\n",
       "      <td>Computer Science,Data analysis,Deep Learning,E...</td>\n",
       "      <td>No Facilities</td>\n",
       "    </tr>\n",
       "    <tr>\n",
       "      <th>2520</th>\n",
       "      <td>Roblox</td>\n",
       "      <td>Principal Machine Learning Engineer- Economy</td>\n",
       "      <td>San Mateo</td>\n",
       "      <td>United States</td>\n",
       "      <td>Full Time</td>\n",
       "      <td>Senior-level</td>\n",
       "      <td>267000.000000</td>\n",
       "      <td>Computer Science,Data analysis,Data pipelines,...</td>\n",
       "      <td>Career development,Equity,Flex hours,Flex vaca...</td>\n",
       "    </tr>\n",
       "    <tr>\n",
       "      <th>3051</th>\n",
       "      <td>SendBird</td>\n",
       "      <td>Senior Marketing Data Analyst</td>\n",
       "      <td>San Mateo</td>\n",
       "      <td>United States</td>\n",
       "      <td>Full Time</td>\n",
       "      <td>Senior-level</td>\n",
       "      <td>120000.000000</td>\n",
       "      <td>APIs,Consulting,Data Analytics,Excel,Looker,OKR</td>\n",
       "      <td>401(k) matching,Career development,Equity,Fitn...</td>\n",
       "    </tr>\n",
       "  </tbody>\n",
       "</table>\n",
       "</div>"
      ],
      "text/plain": [
       "             Company                                          Job Title  \\\n",
       "596           Roblox    Principal Engineer, Datacenter Software Systems   \n",
       "665           Roblox            Principal Software Engineer, Applied ML   \n",
       "688           Roblox             Senior Data Scientist- Creator Content   \n",
       "706           Roblox                                 Research Scientist   \n",
       "720           Roblox  Principal Machine Learning Engineer - Personal...   \n",
       "731           Roblox                       Research Engineer - Research   \n",
       "732           Roblox      Principal Software Engineer, Data Engineering   \n",
       "736           Roblox       Principal Machine Learning Engineer- Economy   \n",
       "744           Roblox  Principal Deep Learning Engineer - Computer Vi...   \n",
       "747           Roblox  Technical Director, Machine Learning (Individu...   \n",
       "785           Roblox      Senior Data Scientist - Discovery Experiences   \n",
       "789           Roblox            Senior Data Scientist - Creator Success   \n",
       "866           Roblox  Senior/Principal ML Engineer, Content Understa...   \n",
       "902           Roblox          Senior Machine Learning Engineer - Search   \n",
       "928           InMobi                                  Data Scientist IV   \n",
       "939   Snowflake Inc.                    Sr. Security Analytics Engineer   \n",
       "1270    IXL Learning                           Customer Data Specialist   \n",
       "1302          Skydio           Autonomy Software Engineer - Flight Core   \n",
       "1368          Roblox            Principal Software Engineer, Applied ML   \n",
       "1369          Roblox             Senior Data Scientist- Creator Content   \n",
       "1380          Roblox                                 Research Scientist   \n",
       "1387          Roblox  Senior Machine Learning Engineer, Communicatio...   \n",
       "1393          Roblox       Principal Machine Learning Engineer- Economy   \n",
       "1400          Roblox  Technical Director, Machine Learning (Individu...   \n",
       "1403          Roblox                       Research Engineer - Research   \n",
       "1409          Roblox      Senior Data Scientist - Discovery Experiences   \n",
       "1412          Roblox  Principal Machine Learning Engineer - Personal...   \n",
       "1419          Roblox            Senior Data Scientist - Creator Success   \n",
       "1437          Roblox  Principal Deep Learning Engineer - Computer Vi...   \n",
       "1440          Roblox      Principal Software Engineer, Data Engineering   \n",
       "1483          Roblox      Senior Data Scientist - Social Communications   \n",
       "1688  Snowflake Inc.                     Manager, Business Intelligence   \n",
       "2030     Relyance AI  Director, Data Engineering and Machine Learnin...   \n",
       "2309  Snowflake Inc.     Principal Software Engineer - Machine Learning   \n",
       "2520          Roblox       Principal Machine Learning Engineer- Economy   \n",
       "3051        SendBird                      Senior Marketing Data Analyst   \n",
       "\n",
       "           City         Country   Job Type Experience level         Salary  \\\n",
       "596   San Mateo   United States  Full Time     Senior-level  283000.000000   \n",
       "665   San Mateo   United States  Full Time     Senior-level  283000.000000   \n",
       "688   San Mateo   United States  Full Time     Senior-level  295000.000000   \n",
       "706   San Mateo              CA  Full Time      Entry-level   63000.000000   \n",
       "720   San Mateo   United States  Full Time     Senior-level  283000.000000   \n",
       "731   San Mateo   United States  Full Time     Senior-level  139000.000000   \n",
       "732   San Mateo   United States  Full Time     Senior-level  283000.000000   \n",
       "736   San Mateo   United States  Full Time     Senior-level  267000.000000   \n",
       "744   San Mateo   United States  Full Time     Senior-level  283000.000000   \n",
       "747   San Mateo   United States  Full Time  Executive-level   98803.278689   \n",
       "785   San Mateo   United States  Full Time     Senior-level  295000.000000   \n",
       "789   San Mateo   United States  Full Time     Senior-level  310000.000000   \n",
       "866   San Mateo   United States  Full Time     Senior-level  315000.000000   \n",
       "902   San Mateo   United States  Full Time     Senior-level  267000.000000   \n",
       "928   San Mateo       San Mateo  Full Time  Executive-level  144000.000000   \n",
       "939   San Mateo             USA  Full Time     Senior-level  110000.000000   \n",
       "1270  San Mateo              CA  Full Time     Senior-level   70000.000000   \n",
       "1302  San Mateo   United States  Full Time     Senior-level  105534.794521   \n",
       "1368  San Mateo   United States  Full Time     Senior-level  283000.000000   \n",
       "1369  San Mateo   United States  Full Time     Senior-level  295000.000000   \n",
       "1380  San Mateo              CA  Full Time      Entry-level   63000.000000   \n",
       "1387  San Mateo   United States  Full Time     Senior-level  218000.000000   \n",
       "1393  San Mateo   United States  Full Time     Senior-level  267000.000000   \n",
       "1400  San Mateo   United States  Full Time  Executive-level   98803.278689   \n",
       "1403  San Mateo   United States  Full Time     Senior-level  139000.000000   \n",
       "1409  San Mateo   United States  Full Time     Senior-level  295000.000000   \n",
       "1412  San Mateo   United States  Full Time     Senior-level  283000.000000   \n",
       "1419  San Mateo   United States  Full Time     Senior-level  310000.000000   \n",
       "1437  San Mateo   United States  Full Time     Senior-level  283000.000000   \n",
       "1440  San Mateo   United States  Full Time     Senior-level  283000.000000   \n",
       "1483  San Mateo   United States  Full Time     Senior-level  253000.000000   \n",
       "1688  San Mateo             USA  Full Time        Mid-level   63000.000000   \n",
       "2030  San Mateo              CA  Full Time  Executive-level   98803.278689   \n",
       "2309  San Mateo             USA  Full Time     Senior-level   69000.000000   \n",
       "2520  San Mateo   United States  Full Time     Senior-level  267000.000000   \n",
       "3051  San Mateo   United States  Full Time     Senior-level  120000.000000   \n",
       "\n",
       "                            Requirements of the company  \\\n",
       "596        APIs,Engineering,Genetics,Golang,Kubernetes,   \n",
       "665   Architecture,Content creation,Deep Learning,Di...   \n",
       "688   A/B testing,Airflow,Big Data,Causal inference,...   \n",
       "706   Computer Science,Content creation,Distributed ...   \n",
       "720   Computer Science,Engineering,Genetics,Machine ...   \n",
       "731   APIs,Computer Science,Distributed Systems,Engi...   \n",
       "732   Airflow,Architecture,AWS,Azure,Dagster,Data pi...   \n",
       "736   Computer Science,Data analysis,Data pipelines,...   \n",
       "744   Computer Vision,Deep Learning,Genetics,Machine...   \n",
       "747   Architecture,Deep Learning,Distributed Systems...   \n",
       "785   Airflow,Big Data,Causal inference,Computer Sci...   \n",
       "789   A/B testing,Airflow,Big Data,Causal inference,...   \n",
       "866   Architecture,Computer Vision,Deep Learning,Gen...   \n",
       "902   Computer Science,Deep Learning,Engineering,Gen...   \n",
       "928   Agile,Big Data,Computer Science,Economics,Engi...   \n",
       "939   Computer Science,Data Analytics,Data pipelines...   \n",
       "1270  Data Analytics,Engineering,Excel,Mathematics,P...   \n",
       "1302  Computer Vision,Deep Learning,Drones,Engineeri...   \n",
       "1368  Architecture,Content creation,Deep Learning,Di...   \n",
       "1369  A/B testing,Airflow,Big Data,Causal inference,...   \n",
       "1380  Computer Science,Content creation,Distributed ...   \n",
       "1387  ASR,Computer Vision,Data pipelines,Deep Learni...   \n",
       "1393  Computer Science,Data analysis,Data pipelines,...   \n",
       "1400  Architecture,Deep Learning,Distributed Systems...   \n",
       "1403  APIs,Computer Science,Distributed Systems,Engi...   \n",
       "1409  Airflow,Big Data,Causal inference,Computer Sci...   \n",
       "1412  Computer Science,Engineering,Genetics,Machine ...   \n",
       "1419  A/B testing,Airflow,Big Data,Causal inference,...   \n",
       "1437  Computer Vision,Deep Learning,Genetics,Machine...   \n",
       "1440  Airflow,Architecture,AWS,Azure,Dagster,Data pi...   \n",
       "1483  A/B testing,Big Data,Causal inference,Computer...   \n",
       "1688  Airflow,BigQuery,Business Intelligence,Compute...   \n",
       "2030  Computer Science,Data pipelines,Engineering,ET...   \n",
       "2309  Computer Science,Data analysis,Deep Learning,E...   \n",
       "2520  Computer Science,Data analysis,Data pipelines,...   \n",
       "3051    APIs,Consulting,Data Analytics,Excel,Looker,OKR   \n",
       "\n",
       "                                             Facilities  \n",
       "596   Equity,Flex hours,Flex vacation,Health care,Un...  \n",
       "665   Career development,Conferences,Equity,Flex hou...  \n",
       "688   Career development,Equity,Flex hours,Flex vaca...  \n",
       "706   Conferences,Flex hours,Flex vacation,Health ca...  \n",
       "720   Career development,Equity,Flex hours,Flex vaca...  \n",
       "731   Career development,Equity,Flex hours,Flex vaca...  \n",
       "732   Career development,Equity,Flex hours,Flex vaca...  \n",
       "736   Career development,Equity,Flex hours,Flex vaca...  \n",
       "744   Career development,Equity,Flex hours,Flex vaca...  \n",
       "747   Career development,Equity,Flex hours,Flex vaca...  \n",
       "785   Career development,Equity,Flex hours,Flex vaca...  \n",
       "789   Career development,Equity,Flex hours,Flex vaca...  \n",
       "866   Career development,Equity,Flex hours,Flex vaca...  \n",
       "902   Career development,Equity,Flex hours,Flex vaca...  \n",
       "928   401(k) matching,Career development,Competitive...  \n",
       "939                     Career development,Team events,  \n",
       "1270            Career development,Startup environment,  \n",
       "1302                                          Insurance  \n",
       "1368  Career development,Conferences,Equity,Flex hou...  \n",
       "1369  Career development,Equity,Flex hours,Flex vaca...  \n",
       "1380  Conferences,Flex hours,Flex vacation,Health ca...  \n",
       "1387  401(k) matching,Career development,Conferences...  \n",
       "1393  Career development,Equity,Flex hours,Flex vaca...  \n",
       "1400  Career development,Equity,Flex hours,Flex vaca...  \n",
       "1403  Career development,Equity,Flex hours,Flex vaca...  \n",
       "1409  Career development,Equity,Flex hours,Flex vaca...  \n",
       "1412  Career development,Equity,Flex hours,Flex vaca...  \n",
       "1419  Career development,Equity,Flex hours,Flex vaca...  \n",
       "1437  Career development,Equity,Flex hours,Flex vaca...  \n",
       "1440  Career development,Equity,Flex hours,Flex vaca...  \n",
       "1483  Career development,Equity,Flex hours,Flex vaca...  \n",
       "1688                                        Conferences  \n",
       "2030                                      No Facilities  \n",
       "2309                                      No Facilities  \n",
       "2520  Career development,Equity,Flex hours,Flex vaca...  \n",
       "3051  401(k) matching,Career development,Equity,Fitn...  "
      ]
     },
     "execution_count": 59,
     "metadata": {},
     "output_type": "execute_result"
    }
   ],
   "source": [
    "df[df.City == 'San Mateo']"
   ]
  },
  {
   "cell_type": "code",
   "execution_count": 53,
   "metadata": {},
   "outputs": [
    {
     "name": "stdout",
     "output_type": "stream",
     "text": [
      "Cities with the highest salaries:\n"
     ]
    },
    {
     "ename": "TypeError",
     "evalue": "unsupported format string passed to Series.__format__",
     "output_type": "error",
     "traceback": [
      "\u001b[0;31m---------------------------------------------------------------------------\u001b[0m",
      "\u001b[0;31mTypeError\u001b[0m                                 Traceback (most recent call last)",
      "Cell \u001b[0;32mIn[53], line 4\u001b[0m\n\u001b[1;32m      2\u001b[0m \u001b[39mprint\u001b[39m(\u001b[39m\"\u001b[39m\u001b[39mCities with the highest salaries:\u001b[39m\u001b[39m\"\u001b[39m)\n\u001b[1;32m      3\u001b[0m \u001b[39mfor\u001b[39;00m city, salary \u001b[39min\u001b[39;00m top_cities\u001b[39m.\u001b[39mitems():\n\u001b[0;32m----> 4\u001b[0m     \u001b[39mprint\u001b[39m(\u001b[39mf\u001b[39m\u001b[39m\"\u001b[39m\u001b[39m{\u001b[39;00mcity\u001b[39m}\u001b[39;00m\u001b[39m: $\u001b[39m\u001b[39m{\u001b[39;00msalary\u001b[39m:\u001b[39;00m\u001b[39m.2f\u001b[39m\u001b[39m}\u001b[39;00m\u001b[39m\"\u001b[39m)\n",
      "\u001b[0;31mTypeError\u001b[0m: unsupported format string passed to Series.__format__"
     ]
    }
   ],
   "source": [
    "#Print the top cities with their corresponding average salaries\n",
    "print(\"Cities with the highest salaries:\")\n",
    "for city, salary in top_cities.items():\n",
    "    print(f\"{city}: ${salary:.2f}\")"
   ]
  },
  {
   "cell_type": "code",
   "execution_count": null,
   "metadata": {},
   "outputs": [],
   "source": []
  }
 ],
 "metadata": {
  "kernelspec": {
   "display_name": "venv",
   "language": "python",
   "name": "python3"
  },
  "language_info": {
   "codemirror_mode": {
    "name": "ipython",
    "version": 3
   },
   "file_extension": ".py",
   "mimetype": "text/x-python",
   "name": "python",
   "nbconvert_exporter": "python",
   "pygments_lexer": "ipython3",
   "version": "3.10.6"
  },
  "orig_nbformat": 4
 },
 "nbformat": 4,
 "nbformat_minor": 2
}
