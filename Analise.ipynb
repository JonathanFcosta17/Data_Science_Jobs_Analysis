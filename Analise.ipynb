{
 "cells": [
  {
   "cell_type": "code",
   "execution_count": 1,
   "metadata": {},
   "outputs": [],
   "source": [
    "import pandas as pd\n",
    "import chardet\n",
    "import numpy as np\n",
    "import plotly.graph_objects as go\n",
    "import plotly.express as px\n",
    "import plotly.subplots as sp"
   ]
  },
  {
   "cell_type": "code",
   "execution_count": 2,
   "metadata": {},
   "outputs": [
    {
     "data": {
      "text/html": [
       "<div>\n",
       "<style scoped>\n",
       "    .dataframe tbody tr th:only-of-type {\n",
       "        vertical-align: middle;\n",
       "    }\n",
       "\n",
       "    .dataframe tbody tr th {\n",
       "        vertical-align: top;\n",
       "    }\n",
       "\n",
       "    .dataframe thead th {\n",
       "        text-align: right;\n",
       "    }\n",
       "</style>\n",
       "<table border=\"1\" class=\"dataframe\">\n",
       "  <thead>\n",
       "    <tr style=\"text-align: right;\">\n",
       "      <th></th>\n",
       "      <th>Company</th>\n",
       "      <th>Job Title</th>\n",
       "      <th>Location</th>\n",
       "      <th>Job Type</th>\n",
       "      <th>Experience level</th>\n",
       "      <th>Salary</th>\n",
       "      <th>Requirment of the company</th>\n",
       "      <th>Facilities</th>\n",
       "    </tr>\n",
       "  </thead>\n",
       "  <tbody>\n",
       "    <tr>\n",
       "      <th>0</th>\n",
       "      <td>SGS</td>\n",
       "      <td>Clinical Data Analyst</td>\n",
       "      <td>Richardson, TX, United States</td>\n",
       "      <td>Full Time</td>\n",
       "      <td>Entry-level</td>\n",
       "      <td>48K+ *</td>\n",
       "      <td>Computer Science,Data quality,Genetics,Mathema...</td>\n",
       "      <td>,,,,</td>\n",
       "    </tr>\n",
       "    <tr>\n",
       "      <th>1</th>\n",
       "      <td>Ocorian</td>\n",
       "      <td>AML/CFT &amp; Data Analyst</td>\n",
       "      <td>Ebène, Mauritius</td>\n",
       "      <td>Full Time</td>\n",
       "      <td>Entry-level</td>\n",
       "      <td>48K+ *</td>\n",
       "      <td>Agile,Data management,Finance,Security,,</td>\n",
       "      <td>,,,,</td>\n",
       "    </tr>\n",
       "    <tr>\n",
       "      <th>2</th>\n",
       "      <td>Cricut</td>\n",
       "      <td>Machine Learning Engineer</td>\n",
       "      <td>South Jordan, UT, United States</td>\n",
       "      <td>Full Time</td>\n",
       "      <td>NaN</td>\n",
       "      <td>90K+ *</td>\n",
       "      <td>Agile,Architecture,AWS,Computer Science,Comput...</td>\n",
       "      <td>Career development,,,,</td>\n",
       "    </tr>\n",
       "    <tr>\n",
       "      <th>3</th>\n",
       "      <td>Bosch Group</td>\n",
       "      <td>Application Developer &amp; Data Analyst</td>\n",
       "      <td>Nonantola, Italy</td>\n",
       "      <td>Full Time</td>\n",
       "      <td>Entry-level</td>\n",
       "      <td>48K+ *</td>\n",
       "      <td>Engineering,Industrial,Oracle,Power BI,R,R&amp;D</td>\n",
       "      <td>,,,,</td>\n",
       "    </tr>\n",
       "    <tr>\n",
       "      <th>4</th>\n",
       "      <td>Publicis Groupe</td>\n",
       "      <td>Data Engineer Full time (Public Sector) USA</td>\n",
       "      <td>Arlington, VA, United States</td>\n",
       "      <td>Full Time</td>\n",
       "      <td>Mid-level</td>\n",
       "      <td>108K+</td>\n",
       "      <td>AWS,Azure,Computer Science,Consulting,Dataflow...</td>\n",
       "      <td>Flex hours,Flex vacation,Parental leave,Unlimi...</td>\n",
       "    </tr>\n",
       "  </tbody>\n",
       "</table>\n",
       "</div>"
      ],
      "text/plain": [
       "           Company                                    Job Title  \\\n",
       "0              SGS                        Clinical Data Analyst   \n",
       "1          Ocorian                       AML/CFT & Data Analyst   \n",
       "2           Cricut                    Machine Learning Engineer   \n",
       "3      Bosch Group         Application Developer & Data Analyst   \n",
       "4  Publicis Groupe  Data Engineer Full time (Public Sector) USA   \n",
       "\n",
       "                          Location   Job Type Experience level   Salary  \\\n",
       "0    Richardson, TX, United States  Full Time      Entry-level   48K+ *   \n",
       "1                 Ebène, Mauritius  Full Time      Entry-level   48K+ *   \n",
       "2  South Jordan, UT, United States  Full Time              NaN   90K+ *   \n",
       "3                 Nonantola, Italy  Full Time      Entry-level   48K+ *   \n",
       "4     Arlington, VA, United States  Full Time        Mid-level    108K+   \n",
       "\n",
       "                          Requirment of the company   \\\n",
       "0  Computer Science,Data quality,Genetics,Mathema...   \n",
       "1           Agile,Data management,Finance,Security,,   \n",
       "2  Agile,Architecture,AWS,Computer Science,Comput...   \n",
       "3       Engineering,Industrial,Oracle,Power BI,R,R&D   \n",
       "4  AWS,Azure,Computer Science,Consulting,Dataflow...   \n",
       "\n",
       "                                          Facilities  \n",
       "0                                               ,,,,  \n",
       "1                                               ,,,,  \n",
       "2                             Career development,,,,  \n",
       "3                                               ,,,,  \n",
       "4  Flex hours,Flex vacation,Parental leave,Unlimi...  "
      ]
     },
     "execution_count": 2,
     "metadata": {},
     "output_type": "execute_result"
    }
   ],
   "source": [
    "with open('data_science_job.csv', 'rb') as f:\n",
    "    result = chardet.detect(f.read())\n",
    "    \n",
    "df = pd.read_csv('data_science_job.csv', encoding=result['encoding'])\n",
    "df.head()"
   ]
  },
  {
   "cell_type": "code",
   "execution_count": 3,
   "metadata": {},
   "outputs": [
    {
     "name": "stdout",
     "output_type": "stream",
     "text": [
      "<class 'pandas.core.frame.DataFrame'>\n",
      "RangeIndex: 3198 entries, 0 to 3197\n",
      "Data columns (total 8 columns):\n",
      " #   Column                      Non-Null Count  Dtype \n",
      "---  ------                      --------------  ----- \n",
      " 0   Company                     3197 non-null   object\n",
      " 1   Job Title                   3197 non-null   object\n",
      " 2   Location                    3197 non-null   object\n",
      " 3   Job Type                    3197 non-null   object\n",
      " 4   Experience level            2962 non-null   object\n",
      " 5   Salary                      3009 non-null   object\n",
      " 6   Requirment of the company   3198 non-null   object\n",
      " 7   Facilities                  3198 non-null   object\n",
      "dtypes: object(8)\n",
      "memory usage: 200.0+ KB\n"
     ]
    }
   ],
   "source": [
    "df.info()"
   ]
  },
  {
   "attachments": {},
   "cell_type": "markdown",
   "metadata": {},
   "source": [
    "# Limpeza dos Dados"
   ]
  },
  {
   "cell_type": "code",
   "execution_count": 4,
   "metadata": {},
   "outputs": [
    {
     "name": "stdout",
     "output_type": "stream",
     "text": [
      "Company: 1  -->  0.03%\n",
      "Job Title: 1  -->  0.03%\n",
      "Location: 1  -->  0.03%\n",
      "Job Type: 1  -->  0.03%\n",
      "Experience level: 236  -->  7.38%\n",
      "Salary: 189  -->  5.91%\n"
     ]
    }
   ],
   "source": [
    "# Contar valores nulos\n",
    "nulls = df.isnull().sum()\n",
    "\n",
    "# Imprimir contagem e porcentagem de valores nulos por coluna\n",
    "for column, count in nulls[nulls != 0].items():\n",
    "    percentage = (count / df.shape[0]) * 100\n",
    "    print(f\"{column}: {count}  -->  {percentage:.2f}%\")"
   ]
  },
  {
   "attachments": {},
   "cell_type": "markdown",
   "metadata": {},
   "source": [
    "#### Tratando valores nulos nos salários com base no nível de experiência\n",
    "Para lidar com os valores nulos na coluna \"Salary\", o código utiliza o nível de experiência como referência. Essa abordagem envolve preencher os valores ausentes com o salário médio correspondente ao respectivo nível de experiência."
   ]
  },
  {
   "cell_type": "code",
   "execution_count": 5,
   "metadata": {},
   "outputs": [],
   "source": [
    "# Converter a coluna \"Salary\" para valores numéricos e lidar com valores faltantes\n",
    "df['Salary'] = df['Salary'].replace('[^\\d.]', '', regex=True).replace('NaN', np.nan, regex=True).astype(float).apply(lambda x: x*1000)\n",
    "\n",
    "# Calcular o salário médio para cada nível de experiência\n",
    "mean_salary_by_level = df.groupby('Experience level')['Salary'].mean()\n",
    "\n",
    "# Preencher os valores faltantes na coluna \"Salary\" com a média do respectivo nível de experiência\n",
    "df['Salary'].fillna(df['Experience level'].map(mean_salary_by_level), inplace=True)"
   ]
  },
  {
   "attachments": {},
   "cell_type": "markdown",
   "metadata": {},
   "source": [
    "#### Tratando valores nulos nos níveis de experiência com base na média salarial de cada nível\n",
    "Para lidar com os valores nulos na coluna \"Experience level\", o código utiliza a média salarial de cada nível. Essa abordagem permite preencher os valores ausentes com o nível de experiência que corresponde à média salarial mais próxima."
   ]
  },
  {
   "cell_type": "code",
   "execution_count": 6,
   "metadata": {},
   "outputs": [],
   "source": [
    "# Função para encontrar o nível de experiência mais próximo com base no salário\n",
    "def find_nearest_level(row):\n",
    "    salary = row['Salary']\n",
    "    distances = abs(mean_salary_by_level - salary)\n",
    "    closest_level = distances.idxmin()\n",
    "    return closest_level"
   ]
  },
  {
   "cell_type": "code",
   "execution_count": 7,
   "metadata": {},
   "outputs": [],
   "source": [
    "# Preencher os valores faltantes na coluna \"Experience level\" com o nível de experiência mais próximo com base no salário\n",
    "df['Experience level'].fillna(df.apply(find_nearest_level, axis=1), inplace=True)"
   ]
  },
  {
   "attachments": {},
   "cell_type": "markdown",
   "metadata": {},
   "source": [
    "#### Mudando os valores vazios (,,) nas colunas \"Requirements of the company\" e \"Facilities\""
   ]
  },
  {
   "cell_type": "code",
   "execution_count": 8,
   "metadata": {},
   "outputs": [],
   "source": [
    "# Renomear a coluna \"Requirment of the company\" para \"Requirements of the company\n",
    "df.rename(columns={'Requirment of the company ': 'Requirements of the company'}, inplace=True)\n",
    "\n",
    "# Remover valores vazios na coluna \"Requirements of the company\"\n",
    "df['Requirements of the company'] = df['Requirements of the company'].replace(',,', '', regex=True)\n",
    "\n",
    "# Substituir valores vazios por \"No Requirements\" na coluna \"Requirements of the company\"\n",
    "for line in df['Requirements of the company']:\n",
    "    if line == '':\n",
    "        df['Requirements of the company'] = df['Requirements of the company'].replace('', 'No Requirements', regex=True)"
   ]
  },
  {
   "cell_type": "code",
   "execution_count": 9,
   "metadata": {},
   "outputs": [],
   "source": [
    "# Remover valores vazios na coluna \"Facilities\"\n",
    "df['Facilities'] = df['Facilities'].replace(',,', '', regex=True)\n",
    "\n",
    "# Substituir valores vazios por \"No Facilities\" na coluna \"Facilities\" \n",
    "for line in df['Facilities']:\n",
    "    if line == '':\n",
    "        df['Facilities'] = df['Facilities'].replace('', 'No Facilities', regex=True)"
   ]
  },
  {
   "attachments": {},
   "cell_type": "markdown",
   "metadata": {},
   "source": [
    "#### Tratamento dos Dados Restantes"
   ]
  },
  {
   "cell_type": "code",
   "execution_count": 10,
   "metadata": {},
   "outputs": [
    {
     "data": {
      "text/html": [
       "<div>\n",
       "<style scoped>\n",
       "    .dataframe tbody tr th:only-of-type {\n",
       "        vertical-align: middle;\n",
       "    }\n",
       "\n",
       "    .dataframe tbody tr th {\n",
       "        vertical-align: top;\n",
       "    }\n",
       "\n",
       "    .dataframe thead th {\n",
       "        text-align: right;\n",
       "    }\n",
       "</style>\n",
       "<table border=\"1\" class=\"dataframe\">\n",
       "  <thead>\n",
       "    <tr style=\"text-align: right;\">\n",
       "      <th></th>\n",
       "      <th>Company</th>\n",
       "      <th>Job Title</th>\n",
       "      <th>City</th>\n",
       "      <th>Country</th>\n",
       "      <th>Job Type</th>\n",
       "      <th>Experience level</th>\n",
       "      <th>Salary</th>\n",
       "      <th>Requirements of the company</th>\n",
       "      <th>Facilities</th>\n",
       "    </tr>\n",
       "  </thead>\n",
       "  <tbody>\n",
       "    <tr>\n",
       "      <th>0</th>\n",
       "      <td>SGS</td>\n",
       "      <td>Clinical Data Analyst</td>\n",
       "      <td>Richardson</td>\n",
       "      <td>United States</td>\n",
       "      <td>Full Time</td>\n",
       "      <td>Entry-level</td>\n",
       "      <td>48000.0</td>\n",
       "      <td>Computer Science,Data quality,Genetics,Mathema...</td>\n",
       "      <td>No Facilities</td>\n",
       "    </tr>\n",
       "    <tr>\n",
       "      <th>1</th>\n",
       "      <td>Ocorian</td>\n",
       "      <td>AML/CFT &amp; Data Analyst</td>\n",
       "      <td>Ebène</td>\n",
       "      <td>Mauritius</td>\n",
       "      <td>Full Time</td>\n",
       "      <td>Entry-level</td>\n",
       "      <td>48000.0</td>\n",
       "      <td>Agile,Data management,Finance,Security</td>\n",
       "      <td>No Facilities</td>\n",
       "    </tr>\n",
       "    <tr>\n",
       "      <th>2</th>\n",
       "      <td>Cricut</td>\n",
       "      <td>Machine Learning Engineer</td>\n",
       "      <td>South Jordan</td>\n",
       "      <td>United States</td>\n",
       "      <td>Full Time</td>\n",
       "      <td>Executive-level</td>\n",
       "      <td>90000.0</td>\n",
       "      <td>Agile,Architecture,AWS,Computer Science,Comput...</td>\n",
       "      <td>Career development</td>\n",
       "    </tr>\n",
       "    <tr>\n",
       "      <th>3</th>\n",
       "      <td>Bosch Group</td>\n",
       "      <td>Application Developer &amp; Data Analyst</td>\n",
       "      <td>Nonantola</td>\n",
       "      <td>Italy</td>\n",
       "      <td>Full Time</td>\n",
       "      <td>Entry-level</td>\n",
       "      <td>48000.0</td>\n",
       "      <td>Engineering,Industrial,Oracle,Power BI,R,R&amp;D</td>\n",
       "      <td>No Facilities</td>\n",
       "    </tr>\n",
       "    <tr>\n",
       "      <th>4</th>\n",
       "      <td>Publicis Groupe</td>\n",
       "      <td>Data Engineer Full time (Public Sector) USA</td>\n",
       "      <td>Arlington</td>\n",
       "      <td>United States</td>\n",
       "      <td>Full Time</td>\n",
       "      <td>Mid-level</td>\n",
       "      <td>108000.0</td>\n",
       "      <td>AWS,Azure,Computer Science,Consulting,Dataflow...</td>\n",
       "      <td>Flex hours,Flex vacation,Parental leave,Unlimi...</td>\n",
       "    </tr>\n",
       "  </tbody>\n",
       "</table>\n",
       "</div>"
      ],
      "text/plain": [
       "           Company                                    Job Title          City  \\\n",
       "0              SGS                        Clinical Data Analyst    Richardson   \n",
       "1          Ocorian                       AML/CFT & Data Analyst         Ebène   \n",
       "2           Cricut                    Machine Learning Engineer  South Jordan   \n",
       "3      Bosch Group         Application Developer & Data Analyst     Nonantola   \n",
       "4  Publicis Groupe  Data Engineer Full time (Public Sector) USA     Arlington   \n",
       "\n",
       "          Country   Job Type Experience level    Salary  \\\n",
       "0   United States  Full Time      Entry-level   48000.0   \n",
       "1       Mauritius  Full Time      Entry-level   48000.0   \n",
       "2   United States  Full Time  Executive-level   90000.0   \n",
       "3           Italy  Full Time      Entry-level   48000.0   \n",
       "4   United States  Full Time        Mid-level  108000.0   \n",
       "\n",
       "                         Requirements of the company  \\\n",
       "0  Computer Science,Data quality,Genetics,Mathema...   \n",
       "1             Agile,Data management,Finance,Security   \n",
       "2  Agile,Architecture,AWS,Computer Science,Comput...   \n",
       "3       Engineering,Industrial,Oracle,Power BI,R,R&D   \n",
       "4  AWS,Azure,Computer Science,Consulting,Dataflow...   \n",
       "\n",
       "                                          Facilities  \n",
       "0                                      No Facilities  \n",
       "1                                      No Facilities  \n",
       "2                                 Career development  \n",
       "3                                      No Facilities  \n",
       "4  Flex hours,Flex vacation,Parental leave,Unlimi...  "
      ]
     },
     "execution_count": 10,
     "metadata": {},
     "output_type": "execute_result"
    }
   ],
   "source": [
    "# Remove os valores nulos\n",
    "df.dropna(inplace=True)\n",
    "\n",
    "# Adiciona a coluna\"City\" com base na coluna \"Location\" \n",
    "df['City'] = df['Location'].apply(lambda x: x.split(',')[0])\n",
    "\n",
    "df['City'] = df['City'].replace('Dublin 1', 'Dublin', regex=True)\n",
    " \n",
    "# Adiciona a coluna  \"Country\" com base na coluna \"Location\"\n",
    "df['Country'] = df['Location'].apply(lambda x: x.split(',')[-1])\n",
    "\n",
    "# Reordena as colunas para corresponder à ordem desejada\n",
    "df = df[['Company', 'Job Title', 'City', 'Country', 'Job Type', 'Experience level', 'Salary', 'Requirements of the company', 'Facilities']]\n",
    "\n",
    "# Redefine o índice após remover as linhas\n",
    "df.reset_index(drop=True, inplace=True)\n",
    "\n",
    "df.head()"
   ]
  },
  {
   "attachments": {},
   "cell_type": "markdown",
   "metadata": {},
   "source": [
    "# Análise Exploratória dos Dados"
   ]
  },
  {
   "attachments": {},
   "cell_type": "markdown",
   "metadata": {},
   "source": [
    "### 1) Quais são os cargos mais comuns entre as vagas de emprego?"
   ]
  },
  {
   "cell_type": "code",
   "execution_count": 11,
   "metadata": {},
   "outputs": [],
   "source": [
    "# Agrupa os dados pelo título do cargo e conte o número de ocorrências\n",
    "job_counts  = df['Job Title'].value_counts()\n",
    "\n",
    "# Seleciona os 10 cargos mais comuns\n",
    "top_jobs  = job_counts.head(10)\n",
    "\n",
    "# Cria um DataFrame com os títulos dos cargos e suas contagens\n",
    "data = pd.DataFrame({'Cargo': top_jobs.index, 'Contagem': top_jobs.values})"
   ]
  },
  {
   "cell_type": "code",
   "execution_count": 12,
   "metadata": {},
   "outputs": [
    {
     "data": {
      "application/vnd.plotly.v1+json": {
       "config": {
        "plotlyServerURL": "https://plot.ly"
       },
       "data": [
        {
         "alignmentgroup": "True",
         "hovertemplate": "Contagem=%{x}<br>Cargo=%{y}<extra></extra>",
         "legendgroup": "",
         "marker": {
          "color": [
           "rgb(253, 238, 153)",
           "rgb(212, 225, 112)",
           "rgb(160, 214, 91)",
           "rgb(111, 198, 107)",
           "rgb(81, 178, 124)",
           "rgb(65, 157, 133)",
           "rgb(53, 136, 136)",
           "rgb(38, 116, 137)",
           "rgb(18, 95, 142)",
           "rgb(15, 71, 153)"
          ],
          "pattern": {
           "shape": ""
          }
         },
         "name": "",
         "offsetgroup": "",
         "orientation": "h",
         "showlegend": false,
         "textposition": "auto",
         "type": "bar",
         "x": [
          105,
          82,
          79,
          67,
          47,
          42,
          37,
          21,
          16,
          12
         ],
         "xaxis": "x",
         "y": [
          "Data Engineer",
          "Data Scientist",
          "Data Analyst",
          "Senior Data Engineer",
          "Machine Learning Engineer",
          "Senior Data Analyst",
          "Senior Data Scientist",
          "Senior Machine Learning Engineer",
          "Analytics Engineer",
          "Data Architect"
         ],
         "yaxis": "y"
        }
       ],
       "layout": {
        "barmode": "relative",
        "font": {
         "color": "rgb(240, 240, 240)"
        },
        "legend": {
         "tracegroupgap": 0
        },
        "margin": {
         "t": 60
        },
        "paper_bgcolor": "rgb(0, 22, 33)",
        "plot_bgcolor": "rgb(0, 22, 33)",
        "template": {
         "data": {
          "bar": [
           {
            "error_x": {
             "color": "#f2f5fa"
            },
            "error_y": {
             "color": "#f2f5fa"
            },
            "marker": {
             "line": {
              "color": "rgb(17,17,17)",
              "width": 0.5
             },
             "pattern": {
              "fillmode": "overlay",
              "size": 10,
              "solidity": 0.2
             }
            },
            "type": "bar"
           }
          ],
          "barpolar": [
           {
            "marker": {
             "line": {
              "color": "rgb(17,17,17)",
              "width": 0.5
             },
             "pattern": {
              "fillmode": "overlay",
              "size": 10,
              "solidity": 0.2
             }
            },
            "type": "barpolar"
           }
          ],
          "carpet": [
           {
            "aaxis": {
             "endlinecolor": "#A2B1C6",
             "gridcolor": "#506784",
             "linecolor": "#506784",
             "minorgridcolor": "#506784",
             "startlinecolor": "#A2B1C6"
            },
            "baxis": {
             "endlinecolor": "#A2B1C6",
             "gridcolor": "#506784",
             "linecolor": "#506784",
             "minorgridcolor": "#506784",
             "startlinecolor": "#A2B1C6"
            },
            "type": "carpet"
           }
          ],
          "choropleth": [
           {
            "colorbar": {
             "outlinewidth": 0,
             "ticks": ""
            },
            "type": "choropleth"
           }
          ],
          "contour": [
           {
            "colorbar": {
             "outlinewidth": 0,
             "ticks": ""
            },
            "colorscale": [
             [
              0,
              "#0d0887"
             ],
             [
              0.1111111111111111,
              "#46039f"
             ],
             [
              0.2222222222222222,
              "#7201a8"
             ],
             [
              0.3333333333333333,
              "#9c179e"
             ],
             [
              0.4444444444444444,
              "#bd3786"
             ],
             [
              0.5555555555555556,
              "#d8576b"
             ],
             [
              0.6666666666666666,
              "#ed7953"
             ],
             [
              0.7777777777777778,
              "#fb9f3a"
             ],
             [
              0.8888888888888888,
              "#fdca26"
             ],
             [
              1,
              "#f0f921"
             ]
            ],
            "type": "contour"
           }
          ],
          "contourcarpet": [
           {
            "colorbar": {
             "outlinewidth": 0,
             "ticks": ""
            },
            "type": "contourcarpet"
           }
          ],
          "heatmap": [
           {
            "colorbar": {
             "outlinewidth": 0,
             "ticks": ""
            },
            "colorscale": [
             [
              0,
              "#0d0887"
             ],
             [
              0.1111111111111111,
              "#46039f"
             ],
             [
              0.2222222222222222,
              "#7201a8"
             ],
             [
              0.3333333333333333,
              "#9c179e"
             ],
             [
              0.4444444444444444,
              "#bd3786"
             ],
             [
              0.5555555555555556,
              "#d8576b"
             ],
             [
              0.6666666666666666,
              "#ed7953"
             ],
             [
              0.7777777777777778,
              "#fb9f3a"
             ],
             [
              0.8888888888888888,
              "#fdca26"
             ],
             [
              1,
              "#f0f921"
             ]
            ],
            "type": "heatmap"
           }
          ],
          "heatmapgl": [
           {
            "colorbar": {
             "outlinewidth": 0,
             "ticks": ""
            },
            "colorscale": [
             [
              0,
              "#0d0887"
             ],
             [
              0.1111111111111111,
              "#46039f"
             ],
             [
              0.2222222222222222,
              "#7201a8"
             ],
             [
              0.3333333333333333,
              "#9c179e"
             ],
             [
              0.4444444444444444,
              "#bd3786"
             ],
             [
              0.5555555555555556,
              "#d8576b"
             ],
             [
              0.6666666666666666,
              "#ed7953"
             ],
             [
              0.7777777777777778,
              "#fb9f3a"
             ],
             [
              0.8888888888888888,
              "#fdca26"
             ],
             [
              1,
              "#f0f921"
             ]
            ],
            "type": "heatmapgl"
           }
          ],
          "histogram": [
           {
            "marker": {
             "pattern": {
              "fillmode": "overlay",
              "size": 10,
              "solidity": 0.2
             }
            },
            "type": "histogram"
           }
          ],
          "histogram2d": [
           {
            "colorbar": {
             "outlinewidth": 0,
             "ticks": ""
            },
            "colorscale": [
             [
              0,
              "#0d0887"
             ],
             [
              0.1111111111111111,
              "#46039f"
             ],
             [
              0.2222222222222222,
              "#7201a8"
             ],
             [
              0.3333333333333333,
              "#9c179e"
             ],
             [
              0.4444444444444444,
              "#bd3786"
             ],
             [
              0.5555555555555556,
              "#d8576b"
             ],
             [
              0.6666666666666666,
              "#ed7953"
             ],
             [
              0.7777777777777778,
              "#fb9f3a"
             ],
             [
              0.8888888888888888,
              "#fdca26"
             ],
             [
              1,
              "#f0f921"
             ]
            ],
            "type": "histogram2d"
           }
          ],
          "histogram2dcontour": [
           {
            "colorbar": {
             "outlinewidth": 0,
             "ticks": ""
            },
            "colorscale": [
             [
              0,
              "#0d0887"
             ],
             [
              0.1111111111111111,
              "#46039f"
             ],
             [
              0.2222222222222222,
              "#7201a8"
             ],
             [
              0.3333333333333333,
              "#9c179e"
             ],
             [
              0.4444444444444444,
              "#bd3786"
             ],
             [
              0.5555555555555556,
              "#d8576b"
             ],
             [
              0.6666666666666666,
              "#ed7953"
             ],
             [
              0.7777777777777778,
              "#fb9f3a"
             ],
             [
              0.8888888888888888,
              "#fdca26"
             ],
             [
              1,
              "#f0f921"
             ]
            ],
            "type": "histogram2dcontour"
           }
          ],
          "mesh3d": [
           {
            "colorbar": {
             "outlinewidth": 0,
             "ticks": ""
            },
            "type": "mesh3d"
           }
          ],
          "parcoords": [
           {
            "line": {
             "colorbar": {
              "outlinewidth": 0,
              "ticks": ""
             }
            },
            "type": "parcoords"
           }
          ],
          "pie": [
           {
            "automargin": true,
            "type": "pie"
           }
          ],
          "scatter": [
           {
            "marker": {
             "line": {
              "color": "#283442"
             }
            },
            "type": "scatter"
           }
          ],
          "scatter3d": [
           {
            "line": {
             "colorbar": {
              "outlinewidth": 0,
              "ticks": ""
             }
            },
            "marker": {
             "colorbar": {
              "outlinewidth": 0,
              "ticks": ""
             }
            },
            "type": "scatter3d"
           }
          ],
          "scattercarpet": [
           {
            "marker": {
             "colorbar": {
              "outlinewidth": 0,
              "ticks": ""
             }
            },
            "type": "scattercarpet"
           }
          ],
          "scattergeo": [
           {
            "marker": {
             "colorbar": {
              "outlinewidth": 0,
              "ticks": ""
             }
            },
            "type": "scattergeo"
           }
          ],
          "scattergl": [
           {
            "marker": {
             "line": {
              "color": "#283442"
             }
            },
            "type": "scattergl"
           }
          ],
          "scattermapbox": [
           {
            "marker": {
             "colorbar": {
              "outlinewidth": 0,
              "ticks": ""
             }
            },
            "type": "scattermapbox"
           }
          ],
          "scatterpolar": [
           {
            "marker": {
             "colorbar": {
              "outlinewidth": 0,
              "ticks": ""
             }
            },
            "type": "scatterpolar"
           }
          ],
          "scatterpolargl": [
           {
            "marker": {
             "colorbar": {
              "outlinewidth": 0,
              "ticks": ""
             }
            },
            "type": "scatterpolargl"
           }
          ],
          "scatterternary": [
           {
            "marker": {
             "colorbar": {
              "outlinewidth": 0,
              "ticks": ""
             }
            },
            "type": "scatterternary"
           }
          ],
          "surface": [
           {
            "colorbar": {
             "outlinewidth": 0,
             "ticks": ""
            },
            "colorscale": [
             [
              0,
              "#0d0887"
             ],
             [
              0.1111111111111111,
              "#46039f"
             ],
             [
              0.2222222222222222,
              "#7201a8"
             ],
             [
              0.3333333333333333,
              "#9c179e"
             ],
             [
              0.4444444444444444,
              "#bd3786"
             ],
             [
              0.5555555555555556,
              "#d8576b"
             ],
             [
              0.6666666666666666,
              "#ed7953"
             ],
             [
              0.7777777777777778,
              "#fb9f3a"
             ],
             [
              0.8888888888888888,
              "#fdca26"
             ],
             [
              1,
              "#f0f921"
             ]
            ],
            "type": "surface"
           }
          ],
          "table": [
           {
            "cells": {
             "fill": {
              "color": "#506784"
             },
             "line": {
              "color": "rgb(17,17,17)"
             }
            },
            "header": {
             "fill": {
              "color": "#2a3f5f"
             },
             "line": {
              "color": "rgb(17,17,17)"
             }
            },
            "type": "table"
           }
          ]
         },
         "layout": {
          "annotationdefaults": {
           "arrowcolor": "#f2f5fa",
           "arrowhead": 0,
           "arrowwidth": 1
          },
          "autotypenumbers": "strict",
          "coloraxis": {
           "colorbar": {
            "outlinewidth": 0,
            "ticks": ""
           }
          },
          "colorscale": {
           "diverging": [
            [
             0,
             "#8e0152"
            ],
            [
             0.1,
             "#c51b7d"
            ],
            [
             0.2,
             "#de77ae"
            ],
            [
             0.3,
             "#f1b6da"
            ],
            [
             0.4,
             "#fde0ef"
            ],
            [
             0.5,
             "#f7f7f7"
            ],
            [
             0.6,
             "#e6f5d0"
            ],
            [
             0.7,
             "#b8e186"
            ],
            [
             0.8,
             "#7fbc41"
            ],
            [
             0.9,
             "#4d9221"
            ],
            [
             1,
             "#276419"
            ]
           ],
           "sequential": [
            [
             0,
             "#0d0887"
            ],
            [
             0.1111111111111111,
             "#46039f"
            ],
            [
             0.2222222222222222,
             "#7201a8"
            ],
            [
             0.3333333333333333,
             "#9c179e"
            ],
            [
             0.4444444444444444,
             "#bd3786"
            ],
            [
             0.5555555555555556,
             "#d8576b"
            ],
            [
             0.6666666666666666,
             "#ed7953"
            ],
            [
             0.7777777777777778,
             "#fb9f3a"
            ],
            [
             0.8888888888888888,
             "#fdca26"
            ],
            [
             1,
             "#f0f921"
            ]
           ],
           "sequentialminus": [
            [
             0,
             "#0d0887"
            ],
            [
             0.1111111111111111,
             "#46039f"
            ],
            [
             0.2222222222222222,
             "#7201a8"
            ],
            [
             0.3333333333333333,
             "#9c179e"
            ],
            [
             0.4444444444444444,
             "#bd3786"
            ],
            [
             0.5555555555555556,
             "#d8576b"
            ],
            [
             0.6666666666666666,
             "#ed7953"
            ],
            [
             0.7777777777777778,
             "#fb9f3a"
            ],
            [
             0.8888888888888888,
             "#fdca26"
            ],
            [
             1,
             "#f0f921"
            ]
           ]
          },
          "colorway": [
           "#636efa",
           "#EF553B",
           "#00cc96",
           "#ab63fa",
           "#FFA15A",
           "#19d3f3",
           "#FF6692",
           "#B6E880",
           "#FF97FF",
           "#FECB52"
          ],
          "font": {
           "color": "#f2f5fa"
          },
          "geo": {
           "bgcolor": "rgb(17,17,17)",
           "lakecolor": "rgb(17,17,17)",
           "landcolor": "rgb(17,17,17)",
           "showlakes": true,
           "showland": true,
           "subunitcolor": "#506784"
          },
          "hoverlabel": {
           "align": "left"
          },
          "hovermode": "closest",
          "mapbox": {
           "style": "dark"
          },
          "paper_bgcolor": "rgb(17,17,17)",
          "plot_bgcolor": "rgb(17,17,17)",
          "polar": {
           "angularaxis": {
            "gridcolor": "#506784",
            "linecolor": "#506784",
            "ticks": ""
           },
           "bgcolor": "rgb(17,17,17)",
           "radialaxis": {
            "gridcolor": "#506784",
            "linecolor": "#506784",
            "ticks": ""
           }
          },
          "scene": {
           "xaxis": {
            "backgroundcolor": "rgb(17,17,17)",
            "gridcolor": "#506784",
            "gridwidth": 2,
            "linecolor": "#506784",
            "showbackground": true,
            "ticks": "",
            "zerolinecolor": "#C8D4E3"
           },
           "yaxis": {
            "backgroundcolor": "rgb(17,17,17)",
            "gridcolor": "#506784",
            "gridwidth": 2,
            "linecolor": "#506784",
            "showbackground": true,
            "ticks": "",
            "zerolinecolor": "#C8D4E3"
           },
           "zaxis": {
            "backgroundcolor": "rgb(17,17,17)",
            "gridcolor": "#506784",
            "gridwidth": 2,
            "linecolor": "#506784",
            "showbackground": true,
            "ticks": "",
            "zerolinecolor": "#C8D4E3"
           }
          },
          "shapedefaults": {
           "line": {
            "color": "#f2f5fa"
           }
          },
          "sliderdefaults": {
           "bgcolor": "#C8D4E3",
           "bordercolor": "rgb(17,17,17)",
           "borderwidth": 1,
           "tickwidth": 0
          },
          "ternary": {
           "aaxis": {
            "gridcolor": "#506784",
            "linecolor": "#506784",
            "ticks": ""
           },
           "baxis": {
            "gridcolor": "#506784",
            "linecolor": "#506784",
            "ticks": ""
           },
           "bgcolor": "rgb(17,17,17)",
           "caxis": {
            "gridcolor": "#506784",
            "linecolor": "#506784",
            "ticks": ""
           }
          },
          "title": {
           "x": 0.05
          },
          "updatemenudefaults": {
           "bgcolor": "#506784",
           "borderwidth": 0
          },
          "xaxis": {
           "automargin": true,
           "gridcolor": "#283442",
           "linecolor": "#506784",
           "ticks": "",
           "title": {
            "standoff": 15
           },
           "zerolinecolor": "#283442",
           "zerolinewidth": 2
          },
          "yaxis": {
           "automargin": true,
           "gridcolor": "#283442",
           "linecolor": "#506784",
           "ticks": "",
           "title": {
            "standoff": 15
           },
           "zerolinecolor": "#283442",
           "zerolinewidth": 2
          }
         }
        },
        "title": {
         "text": "Cargos Mais Comuns entre as Vagas de Emprego"
        },
        "xaxis": {
         "anchor": "y",
         "domain": [
          0,
          1
         ],
         "title": {
          "text": "Contagem"
         }
        },
        "yaxis": {
         "anchor": "x",
         "domain": [
          0,
          1
         ],
         "title": {
          "text": "Cargo"
         }
        }
       }
      }
     },
     "metadata": {},
     "output_type": "display_data"
    }
   ],
   "source": [
    "# Define cor de fundo e cor da fonte\n",
    "background_color = 'rgb(0, 22, 33)'\n",
    "font_color = 'rgb(240, 240, 240)'\n",
    "\n",
    "# Gera um gráfico de barras utilizando o Plotly Express\n",
    "fig = px.bar(data, x='Contagem', y='Cargo', orientation='h',\n",
    "             labels={'Contagem': 'Contagem', 'Cargo': 'Cargo'},\n",
    "             template='plotly_dark')\n",
    "\n",
    "# Atualiza o layout com as cores desejadas e título\n",
    "fig.update_layout(\n",
    "    title=\"Cargos Mais Comuns entre as Vagas de Emprego\",\n",
    "    xaxis_title=\"Contagem\",\n",
    "    yaxis_title=\"Cargo\",\n",
    "    plot_bgcolor=background_color,\n",
    "    paper_bgcolor=background_color,\n",
    "    font_color=font_color,\n",
    ")\n",
    "\n",
    "# Define cores das barras com gradiente azul para verde\n",
    "bar_colors = px.colors.sequential.haline_r[:len(data)]\n",
    "\n",
    "# Atualiza cores das barras\n",
    "fig.update_traces(marker=dict(color=bar_colors))\n",
    "\n",
    "# Exibe o gráfico\n",
    "fig.show()\n"
   ]
  },
  {
   "attachments": {},
   "cell_type": "markdown",
   "metadata": {},
   "source": [
    "Os cargos mais comuns entre as vagas de emprego são Data Engineer, Data Scientist e Data Analyst, de acordo com a contagem de ocorrências. O que faz muito sentido pelo fato de estarem abrangendo todos os niveis de experiência. Mas logo após esses 3, percebemos que a maiorias das vagas são para niveis de experiência mais altos, como Senior Data Scientist, Senior Data Engineer e Senior Data Analyst. Com isso podemos assumir que muitas dessas vagas que não especificam o nivel de experiência, sejam para niveis mais altos também. Ou seja, temos uma grande quantidade de vagas para profissionais mais experientes, e poucas vagas para profissionais mais juniores, abrindo hipóteses para a falta de oportunidades para profissionais que estão começando na área."
   ]
  },
  {
   "attachments": {},
   "cell_type": "markdown",
   "metadata": {},
   "source": [
    "### 2) Qual é a distribuição dos tipos de emprego?"
   ]
  },
  {
   "cell_type": "code",
   "execution_count": 13,
   "metadata": {},
   "outputs": [],
   "source": [
    "# Agrupa os dados pelo tipo de emprego e conte o número de ocorrências\n",
    "job_type_counts = df['Job Type'].value_counts()\n",
    "\n",
    "# Cria um DataFrame com os tipos de emprego e suas contagens\n",
    "data = pd.DataFrame({'Tipo de Emprego': job_type_counts.index, 'Contagem': job_type_counts.values})"
   ]
  },
  {
   "cell_type": "code",
   "execution_count": 14,
   "metadata": {},
   "outputs": [
    {
     "data": {
      "application/vnd.plotly.v1+json": {
       "config": {
        "plotlyServerURL": "https://plot.ly"
       },
       "data": [
        {
         "domain": {
          "x": [
           0,
           1
          ],
          "y": [
           0,
           1
          ]
         },
         "hovertemplate": "Tipo de Emprego=%{label}<br>Contagem=%{value}<extra></extra>",
         "labels": [
          "Full Time",
          "Internship",
          "Part Time"
         ],
         "legendgroup": "",
         "name": "",
         "showlegend": true,
         "type": "pie",
         "values": [
          3113,
          75,
          6
         ]
        }
       ],
       "layout": {
        "font": {
         "color": "rgb(240, 240, 240)"
        },
        "legend": {
         "tracegroupgap": 0
        },
        "margin": {
         "t": 60
        },
        "paper_bgcolor": "rgb(0, 22, 33)",
        "piecolorway": [
         "rgb(0, 68,103)",
         "rgb(0,150,112)",
         "rgb(66,199, 70)"
        ],
        "plot_bgcolor": "rgb(0, 22, 33)",
        "template": {
         "data": {
          "bar": [
           {
            "error_x": {
             "color": "#f2f5fa"
            },
            "error_y": {
             "color": "#f2f5fa"
            },
            "marker": {
             "line": {
              "color": "rgb(17,17,17)",
              "width": 0.5
             },
             "pattern": {
              "fillmode": "overlay",
              "size": 10,
              "solidity": 0.2
             }
            },
            "type": "bar"
           }
          ],
          "barpolar": [
           {
            "marker": {
             "line": {
              "color": "rgb(17,17,17)",
              "width": 0.5
             },
             "pattern": {
              "fillmode": "overlay",
              "size": 10,
              "solidity": 0.2
             }
            },
            "type": "barpolar"
           }
          ],
          "carpet": [
           {
            "aaxis": {
             "endlinecolor": "#A2B1C6",
             "gridcolor": "#506784",
             "linecolor": "#506784",
             "minorgridcolor": "#506784",
             "startlinecolor": "#A2B1C6"
            },
            "baxis": {
             "endlinecolor": "#A2B1C6",
             "gridcolor": "#506784",
             "linecolor": "#506784",
             "minorgridcolor": "#506784",
             "startlinecolor": "#A2B1C6"
            },
            "type": "carpet"
           }
          ],
          "choropleth": [
           {
            "colorbar": {
             "outlinewidth": 0,
             "ticks": ""
            },
            "type": "choropleth"
           }
          ],
          "contour": [
           {
            "colorbar": {
             "outlinewidth": 0,
             "ticks": ""
            },
            "colorscale": [
             [
              0,
              "#0d0887"
             ],
             [
              0.1111111111111111,
              "#46039f"
             ],
             [
              0.2222222222222222,
              "#7201a8"
             ],
             [
              0.3333333333333333,
              "#9c179e"
             ],
             [
              0.4444444444444444,
              "#bd3786"
             ],
             [
              0.5555555555555556,
              "#d8576b"
             ],
             [
              0.6666666666666666,
              "#ed7953"
             ],
             [
              0.7777777777777778,
              "#fb9f3a"
             ],
             [
              0.8888888888888888,
              "#fdca26"
             ],
             [
              1,
              "#f0f921"
             ]
            ],
            "type": "contour"
           }
          ],
          "contourcarpet": [
           {
            "colorbar": {
             "outlinewidth": 0,
             "ticks": ""
            },
            "type": "contourcarpet"
           }
          ],
          "heatmap": [
           {
            "colorbar": {
             "outlinewidth": 0,
             "ticks": ""
            },
            "colorscale": [
             [
              0,
              "#0d0887"
             ],
             [
              0.1111111111111111,
              "#46039f"
             ],
             [
              0.2222222222222222,
              "#7201a8"
             ],
             [
              0.3333333333333333,
              "#9c179e"
             ],
             [
              0.4444444444444444,
              "#bd3786"
             ],
             [
              0.5555555555555556,
              "#d8576b"
             ],
             [
              0.6666666666666666,
              "#ed7953"
             ],
             [
              0.7777777777777778,
              "#fb9f3a"
             ],
             [
              0.8888888888888888,
              "#fdca26"
             ],
             [
              1,
              "#f0f921"
             ]
            ],
            "type": "heatmap"
           }
          ],
          "heatmapgl": [
           {
            "colorbar": {
             "outlinewidth": 0,
             "ticks": ""
            },
            "colorscale": [
             [
              0,
              "#0d0887"
             ],
             [
              0.1111111111111111,
              "#46039f"
             ],
             [
              0.2222222222222222,
              "#7201a8"
             ],
             [
              0.3333333333333333,
              "#9c179e"
             ],
             [
              0.4444444444444444,
              "#bd3786"
             ],
             [
              0.5555555555555556,
              "#d8576b"
             ],
             [
              0.6666666666666666,
              "#ed7953"
             ],
             [
              0.7777777777777778,
              "#fb9f3a"
             ],
             [
              0.8888888888888888,
              "#fdca26"
             ],
             [
              1,
              "#f0f921"
             ]
            ],
            "type": "heatmapgl"
           }
          ],
          "histogram": [
           {
            "marker": {
             "pattern": {
              "fillmode": "overlay",
              "size": 10,
              "solidity": 0.2
             }
            },
            "type": "histogram"
           }
          ],
          "histogram2d": [
           {
            "colorbar": {
             "outlinewidth": 0,
             "ticks": ""
            },
            "colorscale": [
             [
              0,
              "#0d0887"
             ],
             [
              0.1111111111111111,
              "#46039f"
             ],
             [
              0.2222222222222222,
              "#7201a8"
             ],
             [
              0.3333333333333333,
              "#9c179e"
             ],
             [
              0.4444444444444444,
              "#bd3786"
             ],
             [
              0.5555555555555556,
              "#d8576b"
             ],
             [
              0.6666666666666666,
              "#ed7953"
             ],
             [
              0.7777777777777778,
              "#fb9f3a"
             ],
             [
              0.8888888888888888,
              "#fdca26"
             ],
             [
              1,
              "#f0f921"
             ]
            ],
            "type": "histogram2d"
           }
          ],
          "histogram2dcontour": [
           {
            "colorbar": {
             "outlinewidth": 0,
             "ticks": ""
            },
            "colorscale": [
             [
              0,
              "#0d0887"
             ],
             [
              0.1111111111111111,
              "#46039f"
             ],
             [
              0.2222222222222222,
              "#7201a8"
             ],
             [
              0.3333333333333333,
              "#9c179e"
             ],
             [
              0.4444444444444444,
              "#bd3786"
             ],
             [
              0.5555555555555556,
              "#d8576b"
             ],
             [
              0.6666666666666666,
              "#ed7953"
             ],
             [
              0.7777777777777778,
              "#fb9f3a"
             ],
             [
              0.8888888888888888,
              "#fdca26"
             ],
             [
              1,
              "#f0f921"
             ]
            ],
            "type": "histogram2dcontour"
           }
          ],
          "mesh3d": [
           {
            "colorbar": {
             "outlinewidth": 0,
             "ticks": ""
            },
            "type": "mesh3d"
           }
          ],
          "parcoords": [
           {
            "line": {
             "colorbar": {
              "outlinewidth": 0,
              "ticks": ""
             }
            },
            "type": "parcoords"
           }
          ],
          "pie": [
           {
            "automargin": true,
            "type": "pie"
           }
          ],
          "scatter": [
           {
            "marker": {
             "line": {
              "color": "#283442"
             }
            },
            "type": "scatter"
           }
          ],
          "scatter3d": [
           {
            "line": {
             "colorbar": {
              "outlinewidth": 0,
              "ticks": ""
             }
            },
            "marker": {
             "colorbar": {
              "outlinewidth": 0,
              "ticks": ""
             }
            },
            "type": "scatter3d"
           }
          ],
          "scattercarpet": [
           {
            "marker": {
             "colorbar": {
              "outlinewidth": 0,
              "ticks": ""
             }
            },
            "type": "scattercarpet"
           }
          ],
          "scattergeo": [
           {
            "marker": {
             "colorbar": {
              "outlinewidth": 0,
              "ticks": ""
             }
            },
            "type": "scattergeo"
           }
          ],
          "scattergl": [
           {
            "marker": {
             "line": {
              "color": "#283442"
             }
            },
            "type": "scattergl"
           }
          ],
          "scattermapbox": [
           {
            "marker": {
             "colorbar": {
              "outlinewidth": 0,
              "ticks": ""
             }
            },
            "type": "scattermapbox"
           }
          ],
          "scatterpolar": [
           {
            "marker": {
             "colorbar": {
              "outlinewidth": 0,
              "ticks": ""
             }
            },
            "type": "scatterpolar"
           }
          ],
          "scatterpolargl": [
           {
            "marker": {
             "colorbar": {
              "outlinewidth": 0,
              "ticks": ""
             }
            },
            "type": "scatterpolargl"
           }
          ],
          "scatterternary": [
           {
            "marker": {
             "colorbar": {
              "outlinewidth": 0,
              "ticks": ""
             }
            },
            "type": "scatterternary"
           }
          ],
          "surface": [
           {
            "colorbar": {
             "outlinewidth": 0,
             "ticks": ""
            },
            "colorscale": [
             [
              0,
              "#0d0887"
             ],
             [
              0.1111111111111111,
              "#46039f"
             ],
             [
              0.2222222222222222,
              "#7201a8"
             ],
             [
              0.3333333333333333,
              "#9c179e"
             ],
             [
              0.4444444444444444,
              "#bd3786"
             ],
             [
              0.5555555555555556,
              "#d8576b"
             ],
             [
              0.6666666666666666,
              "#ed7953"
             ],
             [
              0.7777777777777778,
              "#fb9f3a"
             ],
             [
              0.8888888888888888,
              "#fdca26"
             ],
             [
              1,
              "#f0f921"
             ]
            ],
            "type": "surface"
           }
          ],
          "table": [
           {
            "cells": {
             "fill": {
              "color": "#506784"
             },
             "line": {
              "color": "rgb(17,17,17)"
             }
            },
            "header": {
             "fill": {
              "color": "#2a3f5f"
             },
             "line": {
              "color": "rgb(17,17,17)"
             }
            },
            "type": "table"
           }
          ]
         },
         "layout": {
          "annotationdefaults": {
           "arrowcolor": "#f2f5fa",
           "arrowhead": 0,
           "arrowwidth": 1
          },
          "autotypenumbers": "strict",
          "coloraxis": {
           "colorbar": {
            "outlinewidth": 0,
            "ticks": ""
           }
          },
          "colorscale": {
           "diverging": [
            [
             0,
             "#8e0152"
            ],
            [
             0.1,
             "#c51b7d"
            ],
            [
             0.2,
             "#de77ae"
            ],
            [
             0.3,
             "#f1b6da"
            ],
            [
             0.4,
             "#fde0ef"
            ],
            [
             0.5,
             "#f7f7f7"
            ],
            [
             0.6,
             "#e6f5d0"
            ],
            [
             0.7,
             "#b8e186"
            ],
            [
             0.8,
             "#7fbc41"
            ],
            [
             0.9,
             "#4d9221"
            ],
            [
             1,
             "#276419"
            ]
           ],
           "sequential": [
            [
             0,
             "#0d0887"
            ],
            [
             0.1111111111111111,
             "#46039f"
            ],
            [
             0.2222222222222222,
             "#7201a8"
            ],
            [
             0.3333333333333333,
             "#9c179e"
            ],
            [
             0.4444444444444444,
             "#bd3786"
            ],
            [
             0.5555555555555556,
             "#d8576b"
            ],
            [
             0.6666666666666666,
             "#ed7953"
            ],
            [
             0.7777777777777778,
             "#fb9f3a"
            ],
            [
             0.8888888888888888,
             "#fdca26"
            ],
            [
             1,
             "#f0f921"
            ]
           ],
           "sequentialminus": [
            [
             0,
             "#0d0887"
            ],
            [
             0.1111111111111111,
             "#46039f"
            ],
            [
             0.2222222222222222,
             "#7201a8"
            ],
            [
             0.3333333333333333,
             "#9c179e"
            ],
            [
             0.4444444444444444,
             "#bd3786"
            ],
            [
             0.5555555555555556,
             "#d8576b"
            ],
            [
             0.6666666666666666,
             "#ed7953"
            ],
            [
             0.7777777777777778,
             "#fb9f3a"
            ],
            [
             0.8888888888888888,
             "#fdca26"
            ],
            [
             1,
             "#f0f921"
            ]
           ]
          },
          "colorway": [
           "#636efa",
           "#EF553B",
           "#00cc96",
           "#ab63fa",
           "#FFA15A",
           "#19d3f3",
           "#FF6692",
           "#B6E880",
           "#FF97FF",
           "#FECB52"
          ],
          "font": {
           "color": "#f2f5fa"
          },
          "geo": {
           "bgcolor": "rgb(17,17,17)",
           "lakecolor": "rgb(17,17,17)",
           "landcolor": "rgb(17,17,17)",
           "showlakes": true,
           "showland": true,
           "subunitcolor": "#506784"
          },
          "hoverlabel": {
           "align": "left"
          },
          "hovermode": "closest",
          "mapbox": {
           "style": "dark"
          },
          "paper_bgcolor": "rgb(17,17,17)",
          "plot_bgcolor": "rgb(17,17,17)",
          "polar": {
           "angularaxis": {
            "gridcolor": "#506784",
            "linecolor": "#506784",
            "ticks": ""
           },
           "bgcolor": "rgb(17,17,17)",
           "radialaxis": {
            "gridcolor": "#506784",
            "linecolor": "#506784",
            "ticks": ""
           }
          },
          "scene": {
           "xaxis": {
            "backgroundcolor": "rgb(17,17,17)",
            "gridcolor": "#506784",
            "gridwidth": 2,
            "linecolor": "#506784",
            "showbackground": true,
            "ticks": "",
            "zerolinecolor": "#C8D4E3"
           },
           "yaxis": {
            "backgroundcolor": "rgb(17,17,17)",
            "gridcolor": "#506784",
            "gridwidth": 2,
            "linecolor": "#506784",
            "showbackground": true,
            "ticks": "",
            "zerolinecolor": "#C8D4E3"
           },
           "zaxis": {
            "backgroundcolor": "rgb(17,17,17)",
            "gridcolor": "#506784",
            "gridwidth": 2,
            "linecolor": "#506784",
            "showbackground": true,
            "ticks": "",
            "zerolinecolor": "#C8D4E3"
           }
          },
          "shapedefaults": {
           "line": {
            "color": "#f2f5fa"
           }
          },
          "sliderdefaults": {
           "bgcolor": "#C8D4E3",
           "bordercolor": "rgb(17,17,17)",
           "borderwidth": 1,
           "tickwidth": 0
          },
          "ternary": {
           "aaxis": {
            "gridcolor": "#506784",
            "linecolor": "#506784",
            "ticks": ""
           },
           "baxis": {
            "gridcolor": "#506784",
            "linecolor": "#506784",
            "ticks": ""
           },
           "bgcolor": "rgb(17,17,17)",
           "caxis": {
            "gridcolor": "#506784",
            "linecolor": "#506784",
            "ticks": ""
           }
          },
          "title": {
           "x": 0.05
          },
          "updatemenudefaults": {
           "bgcolor": "#506784",
           "borderwidth": 0
          },
          "xaxis": {
           "automargin": true,
           "gridcolor": "#283442",
           "linecolor": "#506784",
           "ticks": "",
           "title": {
            "standoff": 15
           },
           "zerolinecolor": "#283442",
           "zerolinewidth": 2
          },
          "yaxis": {
           "automargin": true,
           "gridcolor": "#283442",
           "linecolor": "#506784",
           "ticks": "",
           "title": {
            "standoff": 15
           },
           "zerolinecolor": "#283442",
           "zerolinewidth": 2
          }
         }
        },
        "title": {
         "text": "Distribuição dos Tipos de Emprego"
        }
       }
      }
     },
     "metadata": {},
     "output_type": "display_data"
    }
   ],
   "source": [
    "# Define cor de fundo e cor da fonte\n",
    "background_color = 'rgb(0, 22, 33)'\n",
    "font_color = 'rgb(240, 240, 240)'\n",
    "\n",
    "# Define as cores desejadas\n",
    "colors = ['rgb(0, 68,103)', 'rgb(0,150,112)', 'rgb(66,199, 70)']\n",
    "\n",
    "# Gera um gráfico de pizza utilizando o Plotly Express\n",
    "fig = px.pie(data, values='Contagem', names='Tipo de Emprego',\n",
    "             labels={'Contagem': 'Contagem', 'Tipo de Emprego': 'Tipo de Emprego'},\n",
    "             template='plotly_dark', color_discrete_sequence=colors)\n",
    "\n",
    "\n",
    "\n",
    "# Atualiza o layout com as cores desejadas e título\n",
    "fig.update_layout(\n",
    "    title=\"Distribuição dos Tipos de Emprego\",\n",
    "    plot_bgcolor=background_color,\n",
    "    paper_bgcolor=background_color,\n",
    "    font_color=font_color,\n",
    ")\n",
    "\n",
    "# Exibe o gráfico\n",
    "fig.show()"
   ]
  },
  {
   "attachments": {},
   "cell_type": "markdown",
   "metadata": {},
   "source": [
    "A distribuição dos tipos de emprego no dataset mostra que a maioria das vagas são para empregos em período integral (Full Time), enquanto existem apenas 2.35% das vagas são para estágio (Internship). Esses números indicam uma diferença significativa na quantidade de oportunidades disponíveis para estágios em comparação com empregos em tempo integral. Essa disparidade aumenta a hipotese de que há uma oferta limitada de vagas para iniciantes na área."
   ]
  },
  {
   "attachments": {},
   "cell_type": "markdown",
   "metadata": {},
   "source": [
    "### 3) Quais os requisitos mais comuns entre as vagas de emprego de cada nivel de experiência?"
   ]
  },
  {
   "cell_type": "code",
   "execution_count": 15,
   "metadata": {},
   "outputs": [],
   "source": [
    "new_df = df[['Experience level', 'Salary', 'Requirements of the company']].copy()\n",
    "\n",
    "# Converte a coluna 'Requirements of the company' em colunas separadas para cada requisito usando get_dummies\n",
    "requirements_dummies = new_df['Requirements of the company'].str.get_dummies(',')\n",
    "\n",
    "# Junta as colunas convertidas ao DataFrame original\n",
    "new_df = pd.concat([new_df, requirements_dummies], axis=1)\n",
    "\n",
    "# Conta a frequência de cada requisito por nível de experiência\n",
    "requirements_freq_by_experience = new_df.groupby('Experience level')[requirements_dummies.columns].sum()\n",
    "\n",
    "# Cria uma lista vazia para armazenar os requisitos mais pedidos em cada nível de experiência\n",
    "top_5_requirements_by_experience = []\n",
    "\n",
    "# Para cada nível de experiência, seleciona os 5 requisitos mais pedidos\n",
    "for experience_level, row in requirements_freq_by_experience.iterrows():\n",
    "    top_5_requirements = row.nlargest(5).reset_index()\n",
    "    top_5_requirements.columns = ['Requirement', 'Frequency']\n",
    "    top_5_requirements['Experience level'] = experience_level\n",
    "    top_5_requirements_by_experience.append(top_5_requirements)\n",
    "\n",
    "# Concatena os DataFrames em uma única estrutura\n",
    "top_5_requirements_by_experience = pd.concat(top_5_requirements_by_experience)"
   ]
  },
  {
   "cell_type": "code",
   "execution_count": 16,
   "metadata": {},
   "outputs": [
    {
     "data": {
      "application/vnd.plotly.v1+json": {
       "config": {
        "plotlyServerURL": "https://plot.ly"
       },
       "data": [
        {
         "marker": {
          "color": [
           "rgb(0, 0, 24)",
           "rgb(0, 10, 56)",
           "rgb(0, 67, 100)",
           "rgb(0, 147, 110)",
           "rgb(62, 196, 67)"
          ]
         },
         "name": "Requisitos",
         "showlegend": false,
         "type": "bar",
         "x": [
          "Engineering",
          "Computer Science",
          "Excel",
          "Data analysis",
          "AWS"
         ],
         "xaxis": "x",
         "y": [
          178,
          153,
          103,
          102,
          101
         ],
         "yaxis": "y"
        },
        {
         "marker": {
          "color": [
           "rgb(0, 0, 24)",
           "rgb(0, 10, 56)",
           "rgb(0, 67, 100)",
           "rgb(0, 147, 110)",
           "rgb(62, 196, 67)"
          ]
         },
         "name": "Requisitos",
         "showlegend": false,
         "type": "bar",
         "x": [
          "Engineering",
          "Computer Science",
          "Architecture",
          "AWS",
          "Agile"
         ],
         "xaxis": "x2",
         "y": [
          74,
          73,
          60,
          53,
          38
         ],
         "yaxis": "y2"
        },
        {
         "marker": {
          "color": [
           "rgb(0, 0, 24)",
           "rgb(0, 10, 56)",
           "rgb(0, 67, 100)",
           "rgb(0, 147, 110)",
           "rgb(62, 196, 67)"
          ]
         },
         "name": "Requisitos",
         "showlegend": false,
         "type": "bar",
         "x": [
          "Computer Science",
          "AWS",
          "Engineering",
          "Data analysis",
          "Agile"
         ],
         "xaxis": "x3",
         "y": [
          203,
          151,
          140,
          121,
          111
         ],
         "yaxis": "y3"
        },
        {
         "marker": {
          "color": [
           "rgb(0, 0, 24)",
           "rgb(0, 10, 56)",
           "rgb(0, 67, 100)",
           "rgb(0, 147, 110)",
           "rgb(62, 196, 67)"
          ]
         },
         "name": "Requisitos",
         "showlegend": false,
         "type": "bar",
         "x": [
          "Computer Science",
          "Engineering",
          "AWS",
          "Architecture",
          "Big Data"
         ],
         "xaxis": "x4",
         "y": [
          714,
          677,
          557,
          538,
          404
         ],
         "yaxis": "y4"
        }
       ],
       "layout": {
        "annotations": [
         {
          "font": {
           "size": 16
          },
          "showarrow": false,
          "text": "Entry-level",
          "x": 0.5,
          "xanchor": "center",
          "xref": "paper",
          "y": 1,
          "yanchor": "bottom",
          "yref": "paper"
         },
         {
          "font": {
           "size": 16
          },
          "showarrow": false,
          "text": "Executive-level",
          "x": 0.5,
          "xanchor": "center",
          "xref": "paper",
          "y": 0.7250000000000001,
          "yanchor": "bottom",
          "yref": "paper"
         },
         {
          "font": {
           "size": 16
          },
          "showarrow": false,
          "text": "Mid-level",
          "x": 0.5,
          "xanchor": "center",
          "xref": "paper",
          "y": 0.45,
          "yanchor": "bottom",
          "yref": "paper"
         },
         {
          "font": {
           "size": 16
          },
          "showarrow": false,
          "text": "Senior-level",
          "x": 0.5,
          "xanchor": "center",
          "xref": "paper",
          "y": 0.175,
          "yanchor": "bottom",
          "yref": "paper"
         }
        ],
        "height": 1000,
        "template": {
         "data": {
          "bar": [
           {
            "error_x": {
             "color": "#f2f5fa"
            },
            "error_y": {
             "color": "#f2f5fa"
            },
            "marker": {
             "line": {
              "color": "rgb(17,17,17)",
              "width": 0.5
             },
             "pattern": {
              "fillmode": "overlay",
              "size": 10,
              "solidity": 0.2
             }
            },
            "type": "bar"
           }
          ],
          "barpolar": [
           {
            "marker": {
             "line": {
              "color": "rgb(17,17,17)",
              "width": 0.5
             },
             "pattern": {
              "fillmode": "overlay",
              "size": 10,
              "solidity": 0.2
             }
            },
            "type": "barpolar"
           }
          ],
          "carpet": [
           {
            "aaxis": {
             "endlinecolor": "#A2B1C6",
             "gridcolor": "#506784",
             "linecolor": "#506784",
             "minorgridcolor": "#506784",
             "startlinecolor": "#A2B1C6"
            },
            "baxis": {
             "endlinecolor": "#A2B1C6",
             "gridcolor": "#506784",
             "linecolor": "#506784",
             "minorgridcolor": "#506784",
             "startlinecolor": "#A2B1C6"
            },
            "type": "carpet"
           }
          ],
          "choropleth": [
           {
            "colorbar": {
             "outlinewidth": 0,
             "ticks": ""
            },
            "type": "choropleth"
           }
          ],
          "contour": [
           {
            "colorbar": {
             "outlinewidth": 0,
             "ticks": ""
            },
            "colorscale": [
             [
              0,
              "#0d0887"
             ],
             [
              0.1111111111111111,
              "#46039f"
             ],
             [
              0.2222222222222222,
              "#7201a8"
             ],
             [
              0.3333333333333333,
              "#9c179e"
             ],
             [
              0.4444444444444444,
              "#bd3786"
             ],
             [
              0.5555555555555556,
              "#d8576b"
             ],
             [
              0.6666666666666666,
              "#ed7953"
             ],
             [
              0.7777777777777778,
              "#fb9f3a"
             ],
             [
              0.8888888888888888,
              "#fdca26"
             ],
             [
              1,
              "#f0f921"
             ]
            ],
            "type": "contour"
           }
          ],
          "contourcarpet": [
           {
            "colorbar": {
             "outlinewidth": 0,
             "ticks": ""
            },
            "type": "contourcarpet"
           }
          ],
          "heatmap": [
           {
            "colorbar": {
             "outlinewidth": 0,
             "ticks": ""
            },
            "colorscale": [
             [
              0,
              "#0d0887"
             ],
             [
              0.1111111111111111,
              "#46039f"
             ],
             [
              0.2222222222222222,
              "#7201a8"
             ],
             [
              0.3333333333333333,
              "#9c179e"
             ],
             [
              0.4444444444444444,
              "#bd3786"
             ],
             [
              0.5555555555555556,
              "#d8576b"
             ],
             [
              0.6666666666666666,
              "#ed7953"
             ],
             [
              0.7777777777777778,
              "#fb9f3a"
             ],
             [
              0.8888888888888888,
              "#fdca26"
             ],
             [
              1,
              "#f0f921"
             ]
            ],
            "type": "heatmap"
           }
          ],
          "heatmapgl": [
           {
            "colorbar": {
             "outlinewidth": 0,
             "ticks": ""
            },
            "colorscale": [
             [
              0,
              "#0d0887"
             ],
             [
              0.1111111111111111,
              "#46039f"
             ],
             [
              0.2222222222222222,
              "#7201a8"
             ],
             [
              0.3333333333333333,
              "#9c179e"
             ],
             [
              0.4444444444444444,
              "#bd3786"
             ],
             [
              0.5555555555555556,
              "#d8576b"
             ],
             [
              0.6666666666666666,
              "#ed7953"
             ],
             [
              0.7777777777777778,
              "#fb9f3a"
             ],
             [
              0.8888888888888888,
              "#fdca26"
             ],
             [
              1,
              "#f0f921"
             ]
            ],
            "type": "heatmapgl"
           }
          ],
          "histogram": [
           {
            "marker": {
             "pattern": {
              "fillmode": "overlay",
              "size": 10,
              "solidity": 0.2
             }
            },
            "type": "histogram"
           }
          ],
          "histogram2d": [
           {
            "colorbar": {
             "outlinewidth": 0,
             "ticks": ""
            },
            "colorscale": [
             [
              0,
              "#0d0887"
             ],
             [
              0.1111111111111111,
              "#46039f"
             ],
             [
              0.2222222222222222,
              "#7201a8"
             ],
             [
              0.3333333333333333,
              "#9c179e"
             ],
             [
              0.4444444444444444,
              "#bd3786"
             ],
             [
              0.5555555555555556,
              "#d8576b"
             ],
             [
              0.6666666666666666,
              "#ed7953"
             ],
             [
              0.7777777777777778,
              "#fb9f3a"
             ],
             [
              0.8888888888888888,
              "#fdca26"
             ],
             [
              1,
              "#f0f921"
             ]
            ],
            "type": "histogram2d"
           }
          ],
          "histogram2dcontour": [
           {
            "colorbar": {
             "outlinewidth": 0,
             "ticks": ""
            },
            "colorscale": [
             [
              0,
              "#0d0887"
             ],
             [
              0.1111111111111111,
              "#46039f"
             ],
             [
              0.2222222222222222,
              "#7201a8"
             ],
             [
              0.3333333333333333,
              "#9c179e"
             ],
             [
              0.4444444444444444,
              "#bd3786"
             ],
             [
              0.5555555555555556,
              "#d8576b"
             ],
             [
              0.6666666666666666,
              "#ed7953"
             ],
             [
              0.7777777777777778,
              "#fb9f3a"
             ],
             [
              0.8888888888888888,
              "#fdca26"
             ],
             [
              1,
              "#f0f921"
             ]
            ],
            "type": "histogram2dcontour"
           }
          ],
          "mesh3d": [
           {
            "colorbar": {
             "outlinewidth": 0,
             "ticks": ""
            },
            "type": "mesh3d"
           }
          ],
          "parcoords": [
           {
            "line": {
             "colorbar": {
              "outlinewidth": 0,
              "ticks": ""
             }
            },
            "type": "parcoords"
           }
          ],
          "pie": [
           {
            "automargin": true,
            "type": "pie"
           }
          ],
          "scatter": [
           {
            "marker": {
             "line": {
              "color": "#283442"
             }
            },
            "type": "scatter"
           }
          ],
          "scatter3d": [
           {
            "line": {
             "colorbar": {
              "outlinewidth": 0,
              "ticks": ""
             }
            },
            "marker": {
             "colorbar": {
              "outlinewidth": 0,
              "ticks": ""
             }
            },
            "type": "scatter3d"
           }
          ],
          "scattercarpet": [
           {
            "marker": {
             "colorbar": {
              "outlinewidth": 0,
              "ticks": ""
             }
            },
            "type": "scattercarpet"
           }
          ],
          "scattergeo": [
           {
            "marker": {
             "colorbar": {
              "outlinewidth": 0,
              "ticks": ""
             }
            },
            "type": "scattergeo"
           }
          ],
          "scattergl": [
           {
            "marker": {
             "line": {
              "color": "#283442"
             }
            },
            "type": "scattergl"
           }
          ],
          "scattermapbox": [
           {
            "marker": {
             "colorbar": {
              "outlinewidth": 0,
              "ticks": ""
             }
            },
            "type": "scattermapbox"
           }
          ],
          "scatterpolar": [
           {
            "marker": {
             "colorbar": {
              "outlinewidth": 0,
              "ticks": ""
             }
            },
            "type": "scatterpolar"
           }
          ],
          "scatterpolargl": [
           {
            "marker": {
             "colorbar": {
              "outlinewidth": 0,
              "ticks": ""
             }
            },
            "type": "scatterpolargl"
           }
          ],
          "scatterternary": [
           {
            "marker": {
             "colorbar": {
              "outlinewidth": 0,
              "ticks": ""
             }
            },
            "type": "scatterternary"
           }
          ],
          "surface": [
           {
            "colorbar": {
             "outlinewidth": 0,
             "ticks": ""
            },
            "colorscale": [
             [
              0,
              "#0d0887"
             ],
             [
              0.1111111111111111,
              "#46039f"
             ],
             [
              0.2222222222222222,
              "#7201a8"
             ],
             [
              0.3333333333333333,
              "#9c179e"
             ],
             [
              0.4444444444444444,
              "#bd3786"
             ],
             [
              0.5555555555555556,
              "#d8576b"
             ],
             [
              0.6666666666666666,
              "#ed7953"
             ],
             [
              0.7777777777777778,
              "#fb9f3a"
             ],
             [
              0.8888888888888888,
              "#fdca26"
             ],
             [
              1,
              "#f0f921"
             ]
            ],
            "type": "surface"
           }
          ],
          "table": [
           {
            "cells": {
             "fill": {
              "color": "#506784"
             },
             "line": {
              "color": "rgb(17,17,17)"
             }
            },
            "header": {
             "fill": {
              "color": "#2a3f5f"
             },
             "line": {
              "color": "rgb(17,17,17)"
             }
            },
            "type": "table"
           }
          ]
         },
         "layout": {
          "annotationdefaults": {
           "arrowcolor": "#f2f5fa",
           "arrowhead": 0,
           "arrowwidth": 1
          },
          "autotypenumbers": "strict",
          "coloraxis": {
           "colorbar": {
            "outlinewidth": 0,
            "ticks": ""
           }
          },
          "colorscale": {
           "diverging": [
            [
             0,
             "#8e0152"
            ],
            [
             0.1,
             "#c51b7d"
            ],
            [
             0.2,
             "#de77ae"
            ],
            [
             0.3,
             "#f1b6da"
            ],
            [
             0.4,
             "#fde0ef"
            ],
            [
             0.5,
             "#f7f7f7"
            ],
            [
             0.6,
             "#e6f5d0"
            ],
            [
             0.7,
             "#b8e186"
            ],
            [
             0.8,
             "#7fbc41"
            ],
            [
             0.9,
             "#4d9221"
            ],
            [
             1,
             "#276419"
            ]
           ],
           "sequential": [
            [
             0,
             "#0d0887"
            ],
            [
             0.1111111111111111,
             "#46039f"
            ],
            [
             0.2222222222222222,
             "#7201a8"
            ],
            [
             0.3333333333333333,
             "#9c179e"
            ],
            [
             0.4444444444444444,
             "#bd3786"
            ],
            [
             0.5555555555555556,
             "#d8576b"
            ],
            [
             0.6666666666666666,
             "#ed7953"
            ],
            [
             0.7777777777777778,
             "#fb9f3a"
            ],
            [
             0.8888888888888888,
             "#fdca26"
            ],
            [
             1,
             "#f0f921"
            ]
           ],
           "sequentialminus": [
            [
             0,
             "#0d0887"
            ],
            [
             0.1111111111111111,
             "#46039f"
            ],
            [
             0.2222222222222222,
             "#7201a8"
            ],
            [
             0.3333333333333333,
             "#9c179e"
            ],
            [
             0.4444444444444444,
             "#bd3786"
            ],
            [
             0.5555555555555556,
             "#d8576b"
            ],
            [
             0.6666666666666666,
             "#ed7953"
            ],
            [
             0.7777777777777778,
             "#fb9f3a"
            ],
            [
             0.8888888888888888,
             "#fdca26"
            ],
            [
             1,
             "#f0f921"
            ]
           ]
          },
          "colorway": [
           "#636efa",
           "#EF553B",
           "#00cc96",
           "#ab63fa",
           "#FFA15A",
           "#19d3f3",
           "#FF6692",
           "#B6E880",
           "#FF97FF",
           "#FECB52"
          ],
          "font": {
           "color": "#f2f5fa"
          },
          "geo": {
           "bgcolor": "rgb(17,17,17)",
           "lakecolor": "rgb(17,17,17)",
           "landcolor": "rgb(17,17,17)",
           "showlakes": true,
           "showland": true,
           "subunitcolor": "#506784"
          },
          "hoverlabel": {
           "align": "left"
          },
          "hovermode": "closest",
          "mapbox": {
           "style": "dark"
          },
          "paper_bgcolor": "rgb(17,17,17)",
          "plot_bgcolor": "rgb(17,17,17)",
          "polar": {
           "angularaxis": {
            "gridcolor": "#506784",
            "linecolor": "#506784",
            "ticks": ""
           },
           "bgcolor": "rgb(17,17,17)",
           "radialaxis": {
            "gridcolor": "#506784",
            "linecolor": "#506784",
            "ticks": ""
           }
          },
          "scene": {
           "xaxis": {
            "backgroundcolor": "rgb(17,17,17)",
            "gridcolor": "#506784",
            "gridwidth": 2,
            "linecolor": "#506784",
            "showbackground": true,
            "ticks": "",
            "zerolinecolor": "#C8D4E3"
           },
           "yaxis": {
            "backgroundcolor": "rgb(17,17,17)",
            "gridcolor": "#506784",
            "gridwidth": 2,
            "linecolor": "#506784",
            "showbackground": true,
            "ticks": "",
            "zerolinecolor": "#C8D4E3"
           },
           "zaxis": {
            "backgroundcolor": "rgb(17,17,17)",
            "gridcolor": "#506784",
            "gridwidth": 2,
            "linecolor": "#506784",
            "showbackground": true,
            "ticks": "",
            "zerolinecolor": "#C8D4E3"
           }
          },
          "shapedefaults": {
           "line": {
            "color": "#f2f5fa"
           }
          },
          "sliderdefaults": {
           "bgcolor": "#C8D4E3",
           "bordercolor": "rgb(17,17,17)",
           "borderwidth": 1,
           "tickwidth": 0
          },
          "ternary": {
           "aaxis": {
            "gridcolor": "#506784",
            "linecolor": "#506784",
            "ticks": ""
           },
           "baxis": {
            "gridcolor": "#506784",
            "linecolor": "#506784",
            "ticks": ""
           },
           "bgcolor": "rgb(17,17,17)",
           "caxis": {
            "gridcolor": "#506784",
            "linecolor": "#506784",
            "ticks": ""
           }
          },
          "title": {
           "x": 0.05
          },
          "updatemenudefaults": {
           "bgcolor": "#506784",
           "borderwidth": 0
          },
          "xaxis": {
           "automargin": true,
           "gridcolor": "#283442",
           "linecolor": "#506784",
           "ticks": "",
           "title": {
            "standoff": 15
           },
           "zerolinecolor": "#283442",
           "zerolinewidth": 2
          },
          "yaxis": {
           "automargin": true,
           "gridcolor": "#283442",
           "linecolor": "#506784",
           "ticks": "",
           "title": {
            "standoff": 15
           },
           "zerolinecolor": "#283442",
           "zerolinewidth": 2
          }
         }
        },
        "title": {
         "text": "Top 5 Requisitos Mais Pedidos em Cada Nível de Experiência"
        },
        "xaxis": {
         "anchor": "y",
         "domain": [
          0,
          1
         ]
        },
        "xaxis2": {
         "anchor": "y2",
         "domain": [
          0,
          1
         ]
        },
        "xaxis3": {
         "anchor": "y3",
         "domain": [
          0,
          1
         ]
        },
        "xaxis4": {
         "anchor": "y4",
         "domain": [
          0,
          1
         ],
         "title": {
          "text": "Requisitos"
         }
        },
        "yaxis": {
         "anchor": "x",
         "domain": [
          0.825,
          1
         ]
        },
        "yaxis2": {
         "anchor": "x2",
         "domain": [
          0.55,
          0.7250000000000001
         ],
         "title": {
          "text": "Frequência"
         }
        },
        "yaxis3": {
         "anchor": "x3",
         "domain": [
          0.275,
          0.45
         ]
        },
        "yaxis4": {
         "anchor": "x4",
         "domain": [
          0,
          0.175
         ]
        }
       }
      }
     },
     "metadata": {},
     "output_type": "display_data"
    }
   ],
   "source": [
    "# Define cores manuais para as barras\n",
    "bar_colors = ['rgb(0, 0, 24)', 'rgb(0, 10, 56)', 'rgb(0, 67, 100)', 'rgb(0, 147, 110)', 'rgb(62, 196, 67)']\n",
    "\n",
    "# Cria subplots com base no número de níveis de experiência\n",
    "num_rows = len(requirements_freq_by_experience)\n",
    "fig = sp.make_subplots(rows=num_rows, cols=1, subplot_titles=requirements_freq_by_experience.index, vertical_spacing=0.1)\n",
    "\n",
    "# Itera sobre cada nível de experiência e crie gráficos de barras\n",
    "for i, (experience_level, row) in enumerate(requirements_freq_by_experience.iterrows()):\n",
    "    top_5_requirements = row.nlargest(5)\n",
    "    fig.add_trace(go.Bar(x=top_5_requirements.index, y=top_5_requirements.values, marker=dict(color=bar_colors), name='Requisitos'),\n",
    "                  row=i+1, col=1)\n",
    "\n",
    "# Atualiza os títulos dos eixos e o layout geral\n",
    "fig.update_xaxes(title_text='Requisitos', row=num_rows, col=1)\n",
    "fig.update_yaxes(title_text='Frequência', row=int(num_rows/2), col=1)\n",
    "fig.update_layout(height=1000, title=\"Top 5 Requisitos Mais Pedidos em Cada Nível de Experiência\",\n",
    "                  template='plotly_dark', )\n",
    "\n",
    "fig.update_traces(showlegend=False)\n",
    "\n",
    "# Exibe o gráfico\n",
    "fig.show()"
   ]
  },
  {
   "attachments": {},
   "cell_type": "markdown",
   "metadata": {},
   "source": [
    "Analisando os requisitos mais comuns entre as vagas de emprego de cada nivel de experiência, podemos perceber que a análise de dados é mais comum nos níveis iniciais, incluindo requisitos como Excel e Data analysis. À medida que o nível de experiência aumenta, o foco muda para construção de algoritmos e infraestrutura e os requisitos se tornam mais específicos, como AWS, Architecture e Big Data. Esses requisitos mais específicos podem ser um indicador de que as vagas de emprego para níveis mais altos exigem mais conhecimento e experiência."
   ]
  },
  {
   "attachments": {},
   "cell_type": "markdown",
   "metadata": {},
   "source": [
    "### 4) Quais os requisitos das empresas possuem a maior média de salario oferecido?"
   ]
  },
  {
   "cell_type": "code",
   "execution_count": 17,
   "metadata": {},
   "outputs": [],
   "source": [
    "requirements = []\n",
    "means_salaries = []\n",
    "\n",
    "# Calcule a média de salário para cada requisito com pelo menos três vagas\n",
    "for column in requirements_dummies.columns:\n",
    "    vacancy_count = new_df[new_df[column] == 1].shape[0]\n",
    "    if vacancy_count >= 3:\n",
    "        mean_salary = new_df.loc[new_df[column] == 1, 'Salary'].mean()\n",
    "        requirements.append(column)\n",
    "        means_salaries.append(mean_salary)\n",
    "\n",
    "# Crie um DataFrame para armazenar as médias de salários por requisito\n",
    "mean_salary_by_requirement = pd.DataFrame({'Requirements': requirements, 'Mean Salary': means_salaries})\n",
    "\n",
    "# Ordenar o DataFrame em ordem decrescente pela média de salário\n",
    "mean_salary_by_requirement = mean_salary_by_requirement.sort_values(by='Mean Salary', ascending=False)\n",
    "\n",
    "# Selecionar os 10 primeiros requisitos com os maiores salários médios\n",
    "top_10_requirements = mean_salary_by_requirement.head(10)"
   ]
  },
  {
   "cell_type": "code",
   "execution_count": 18,
   "metadata": {},
   "outputs": [
    {
     "data": {
      "application/vnd.plotly.v1+json": {
       "config": {
        "plotlyServerURL": "https://plot.ly"
       },
       "data": [
        {
         "alignmentgroup": "True",
         "hovertemplate": "Média de Salário=%{x}<br>Requisito=%{y}<extra></extra>",
         "legendgroup": "",
         "marker": {
          "color": [
           "rgb(253, 238, 153)",
           "rgb(212, 225, 112)",
           "rgb(160, 214, 91)",
           "rgb(111, 198, 107)",
           "rgb(81, 178, 124)",
           "rgb(65, 157, 133)",
           "rgb(53, 136, 136)",
           "rgb(38, 116, 137)",
           "rgb(18, 95, 142)",
           "rgb(15, 71, 153)"
          ],
          "pattern": {
           "shape": ""
          }
         },
         "name": "",
         "offsetgroup": "",
         "orientation": "h",
         "showlegend": false,
         "textposition": "auto",
         "type": "bar",
         "x": [
          191666.66666666666,
          153458.65970409053,
          147750,
          145250,
          144600,
          143500,
          143274.71444040968,
          141111.11111111112,
          137333.33333333334,
          135051.84404636457
         ],
         "xaxis": "x",
         "y": [
          "AGI",
          "Diffusion models",
          "Linear algebra",
          "Haystack",
          "Core ML",
          "Golang",
          "Causal inference",
          "Dagster",
          "3D Reconstruction",
          "Driver’s license"
         ],
         "yaxis": "y"
        }
       ],
       "layout": {
        "barmode": "relative",
        "font": {
         "color": "rgb(240, 240, 240)"
        },
        "legend": {
         "tracegroupgap": 0
        },
        "margin": {
         "t": 60
        },
        "paper_bgcolor": "rgb(0, 22, 33)",
        "plot_bgcolor": "rgb(0, 22, 33)",
        "template": {
         "data": {
          "bar": [
           {
            "error_x": {
             "color": "#f2f5fa"
            },
            "error_y": {
             "color": "#f2f5fa"
            },
            "marker": {
             "line": {
              "color": "rgb(17,17,17)",
              "width": 0.5
             },
             "pattern": {
              "fillmode": "overlay",
              "size": 10,
              "solidity": 0.2
             }
            },
            "type": "bar"
           }
          ],
          "barpolar": [
           {
            "marker": {
             "line": {
              "color": "rgb(17,17,17)",
              "width": 0.5
             },
             "pattern": {
              "fillmode": "overlay",
              "size": 10,
              "solidity": 0.2
             }
            },
            "type": "barpolar"
           }
          ],
          "carpet": [
           {
            "aaxis": {
             "endlinecolor": "#A2B1C6",
             "gridcolor": "#506784",
             "linecolor": "#506784",
             "minorgridcolor": "#506784",
             "startlinecolor": "#A2B1C6"
            },
            "baxis": {
             "endlinecolor": "#A2B1C6",
             "gridcolor": "#506784",
             "linecolor": "#506784",
             "minorgridcolor": "#506784",
             "startlinecolor": "#A2B1C6"
            },
            "type": "carpet"
           }
          ],
          "choropleth": [
           {
            "colorbar": {
             "outlinewidth": 0,
             "ticks": ""
            },
            "type": "choropleth"
           }
          ],
          "contour": [
           {
            "colorbar": {
             "outlinewidth": 0,
             "ticks": ""
            },
            "colorscale": [
             [
              0,
              "#0d0887"
             ],
             [
              0.1111111111111111,
              "#46039f"
             ],
             [
              0.2222222222222222,
              "#7201a8"
             ],
             [
              0.3333333333333333,
              "#9c179e"
             ],
             [
              0.4444444444444444,
              "#bd3786"
             ],
             [
              0.5555555555555556,
              "#d8576b"
             ],
             [
              0.6666666666666666,
              "#ed7953"
             ],
             [
              0.7777777777777778,
              "#fb9f3a"
             ],
             [
              0.8888888888888888,
              "#fdca26"
             ],
             [
              1,
              "#f0f921"
             ]
            ],
            "type": "contour"
           }
          ],
          "contourcarpet": [
           {
            "colorbar": {
             "outlinewidth": 0,
             "ticks": ""
            },
            "type": "contourcarpet"
           }
          ],
          "heatmap": [
           {
            "colorbar": {
             "outlinewidth": 0,
             "ticks": ""
            },
            "colorscale": [
             [
              0,
              "#0d0887"
             ],
             [
              0.1111111111111111,
              "#46039f"
             ],
             [
              0.2222222222222222,
              "#7201a8"
             ],
             [
              0.3333333333333333,
              "#9c179e"
             ],
             [
              0.4444444444444444,
              "#bd3786"
             ],
             [
              0.5555555555555556,
              "#d8576b"
             ],
             [
              0.6666666666666666,
              "#ed7953"
             ],
             [
              0.7777777777777778,
              "#fb9f3a"
             ],
             [
              0.8888888888888888,
              "#fdca26"
             ],
             [
              1,
              "#f0f921"
             ]
            ],
            "type": "heatmap"
           }
          ],
          "heatmapgl": [
           {
            "colorbar": {
             "outlinewidth": 0,
             "ticks": ""
            },
            "colorscale": [
             [
              0,
              "#0d0887"
             ],
             [
              0.1111111111111111,
              "#46039f"
             ],
             [
              0.2222222222222222,
              "#7201a8"
             ],
             [
              0.3333333333333333,
              "#9c179e"
             ],
             [
              0.4444444444444444,
              "#bd3786"
             ],
             [
              0.5555555555555556,
              "#d8576b"
             ],
             [
              0.6666666666666666,
              "#ed7953"
             ],
             [
              0.7777777777777778,
              "#fb9f3a"
             ],
             [
              0.8888888888888888,
              "#fdca26"
             ],
             [
              1,
              "#f0f921"
             ]
            ],
            "type": "heatmapgl"
           }
          ],
          "histogram": [
           {
            "marker": {
             "pattern": {
              "fillmode": "overlay",
              "size": 10,
              "solidity": 0.2
             }
            },
            "type": "histogram"
           }
          ],
          "histogram2d": [
           {
            "colorbar": {
             "outlinewidth": 0,
             "ticks": ""
            },
            "colorscale": [
             [
              0,
              "#0d0887"
             ],
             [
              0.1111111111111111,
              "#46039f"
             ],
             [
              0.2222222222222222,
              "#7201a8"
             ],
             [
              0.3333333333333333,
              "#9c179e"
             ],
             [
              0.4444444444444444,
              "#bd3786"
             ],
             [
              0.5555555555555556,
              "#d8576b"
             ],
             [
              0.6666666666666666,
              "#ed7953"
             ],
             [
              0.7777777777777778,
              "#fb9f3a"
             ],
             [
              0.8888888888888888,
              "#fdca26"
             ],
             [
              1,
              "#f0f921"
             ]
            ],
            "type": "histogram2d"
           }
          ],
          "histogram2dcontour": [
           {
            "colorbar": {
             "outlinewidth": 0,
             "ticks": ""
            },
            "colorscale": [
             [
              0,
              "#0d0887"
             ],
             [
              0.1111111111111111,
              "#46039f"
             ],
             [
              0.2222222222222222,
              "#7201a8"
             ],
             [
              0.3333333333333333,
              "#9c179e"
             ],
             [
              0.4444444444444444,
              "#bd3786"
             ],
             [
              0.5555555555555556,
              "#d8576b"
             ],
             [
              0.6666666666666666,
              "#ed7953"
             ],
             [
              0.7777777777777778,
              "#fb9f3a"
             ],
             [
              0.8888888888888888,
              "#fdca26"
             ],
             [
              1,
              "#f0f921"
             ]
            ],
            "type": "histogram2dcontour"
           }
          ],
          "mesh3d": [
           {
            "colorbar": {
             "outlinewidth": 0,
             "ticks": ""
            },
            "type": "mesh3d"
           }
          ],
          "parcoords": [
           {
            "line": {
             "colorbar": {
              "outlinewidth": 0,
              "ticks": ""
             }
            },
            "type": "parcoords"
           }
          ],
          "pie": [
           {
            "automargin": true,
            "type": "pie"
           }
          ],
          "scatter": [
           {
            "marker": {
             "line": {
              "color": "#283442"
             }
            },
            "type": "scatter"
           }
          ],
          "scatter3d": [
           {
            "line": {
             "colorbar": {
              "outlinewidth": 0,
              "ticks": ""
             }
            },
            "marker": {
             "colorbar": {
              "outlinewidth": 0,
              "ticks": ""
             }
            },
            "type": "scatter3d"
           }
          ],
          "scattercarpet": [
           {
            "marker": {
             "colorbar": {
              "outlinewidth": 0,
              "ticks": ""
             }
            },
            "type": "scattercarpet"
           }
          ],
          "scattergeo": [
           {
            "marker": {
             "colorbar": {
              "outlinewidth": 0,
              "ticks": ""
             }
            },
            "type": "scattergeo"
           }
          ],
          "scattergl": [
           {
            "marker": {
             "line": {
              "color": "#283442"
             }
            },
            "type": "scattergl"
           }
          ],
          "scattermapbox": [
           {
            "marker": {
             "colorbar": {
              "outlinewidth": 0,
              "ticks": ""
             }
            },
            "type": "scattermapbox"
           }
          ],
          "scatterpolar": [
           {
            "marker": {
             "colorbar": {
              "outlinewidth": 0,
              "ticks": ""
             }
            },
            "type": "scatterpolar"
           }
          ],
          "scatterpolargl": [
           {
            "marker": {
             "colorbar": {
              "outlinewidth": 0,
              "ticks": ""
             }
            },
            "type": "scatterpolargl"
           }
          ],
          "scatterternary": [
           {
            "marker": {
             "colorbar": {
              "outlinewidth": 0,
              "ticks": ""
             }
            },
            "type": "scatterternary"
           }
          ],
          "surface": [
           {
            "colorbar": {
             "outlinewidth": 0,
             "ticks": ""
            },
            "colorscale": [
             [
              0,
              "#0d0887"
             ],
             [
              0.1111111111111111,
              "#46039f"
             ],
             [
              0.2222222222222222,
              "#7201a8"
             ],
             [
              0.3333333333333333,
              "#9c179e"
             ],
             [
              0.4444444444444444,
              "#bd3786"
             ],
             [
              0.5555555555555556,
              "#d8576b"
             ],
             [
              0.6666666666666666,
              "#ed7953"
             ],
             [
              0.7777777777777778,
              "#fb9f3a"
             ],
             [
              0.8888888888888888,
              "#fdca26"
             ],
             [
              1,
              "#f0f921"
             ]
            ],
            "type": "surface"
           }
          ],
          "table": [
           {
            "cells": {
             "fill": {
              "color": "#506784"
             },
             "line": {
              "color": "rgb(17,17,17)"
             }
            },
            "header": {
             "fill": {
              "color": "#2a3f5f"
             },
             "line": {
              "color": "rgb(17,17,17)"
             }
            },
            "type": "table"
           }
          ]
         },
         "layout": {
          "annotationdefaults": {
           "arrowcolor": "#f2f5fa",
           "arrowhead": 0,
           "arrowwidth": 1
          },
          "autotypenumbers": "strict",
          "coloraxis": {
           "colorbar": {
            "outlinewidth": 0,
            "ticks": ""
           }
          },
          "colorscale": {
           "diverging": [
            [
             0,
             "#8e0152"
            ],
            [
             0.1,
             "#c51b7d"
            ],
            [
             0.2,
             "#de77ae"
            ],
            [
             0.3,
             "#f1b6da"
            ],
            [
             0.4,
             "#fde0ef"
            ],
            [
             0.5,
             "#f7f7f7"
            ],
            [
             0.6,
             "#e6f5d0"
            ],
            [
             0.7,
             "#b8e186"
            ],
            [
             0.8,
             "#7fbc41"
            ],
            [
             0.9,
             "#4d9221"
            ],
            [
             1,
             "#276419"
            ]
           ],
           "sequential": [
            [
             0,
             "#0d0887"
            ],
            [
             0.1111111111111111,
             "#46039f"
            ],
            [
             0.2222222222222222,
             "#7201a8"
            ],
            [
             0.3333333333333333,
             "#9c179e"
            ],
            [
             0.4444444444444444,
             "#bd3786"
            ],
            [
             0.5555555555555556,
             "#d8576b"
            ],
            [
             0.6666666666666666,
             "#ed7953"
            ],
            [
             0.7777777777777778,
             "#fb9f3a"
            ],
            [
             0.8888888888888888,
             "#fdca26"
            ],
            [
             1,
             "#f0f921"
            ]
           ],
           "sequentialminus": [
            [
             0,
             "#0d0887"
            ],
            [
             0.1111111111111111,
             "#46039f"
            ],
            [
             0.2222222222222222,
             "#7201a8"
            ],
            [
             0.3333333333333333,
             "#9c179e"
            ],
            [
             0.4444444444444444,
             "#bd3786"
            ],
            [
             0.5555555555555556,
             "#d8576b"
            ],
            [
             0.6666666666666666,
             "#ed7953"
            ],
            [
             0.7777777777777778,
             "#fb9f3a"
            ],
            [
             0.8888888888888888,
             "#fdca26"
            ],
            [
             1,
             "#f0f921"
            ]
           ]
          },
          "colorway": [
           "#636efa",
           "#EF553B",
           "#00cc96",
           "#ab63fa",
           "#FFA15A",
           "#19d3f3",
           "#FF6692",
           "#B6E880",
           "#FF97FF",
           "#FECB52"
          ],
          "font": {
           "color": "#f2f5fa"
          },
          "geo": {
           "bgcolor": "rgb(17,17,17)",
           "lakecolor": "rgb(17,17,17)",
           "landcolor": "rgb(17,17,17)",
           "showlakes": true,
           "showland": true,
           "subunitcolor": "#506784"
          },
          "hoverlabel": {
           "align": "left"
          },
          "hovermode": "closest",
          "mapbox": {
           "style": "dark"
          },
          "paper_bgcolor": "rgb(17,17,17)",
          "plot_bgcolor": "rgb(17,17,17)",
          "polar": {
           "angularaxis": {
            "gridcolor": "#506784",
            "linecolor": "#506784",
            "ticks": ""
           },
           "bgcolor": "rgb(17,17,17)",
           "radialaxis": {
            "gridcolor": "#506784",
            "linecolor": "#506784",
            "ticks": ""
           }
          },
          "scene": {
           "xaxis": {
            "backgroundcolor": "rgb(17,17,17)",
            "gridcolor": "#506784",
            "gridwidth": 2,
            "linecolor": "#506784",
            "showbackground": true,
            "ticks": "",
            "zerolinecolor": "#C8D4E3"
           },
           "yaxis": {
            "backgroundcolor": "rgb(17,17,17)",
            "gridcolor": "#506784",
            "gridwidth": 2,
            "linecolor": "#506784",
            "showbackground": true,
            "ticks": "",
            "zerolinecolor": "#C8D4E3"
           },
           "zaxis": {
            "backgroundcolor": "rgb(17,17,17)",
            "gridcolor": "#506784",
            "gridwidth": 2,
            "linecolor": "#506784",
            "showbackground": true,
            "ticks": "",
            "zerolinecolor": "#C8D4E3"
           }
          },
          "shapedefaults": {
           "line": {
            "color": "#f2f5fa"
           }
          },
          "sliderdefaults": {
           "bgcolor": "#C8D4E3",
           "bordercolor": "rgb(17,17,17)",
           "borderwidth": 1,
           "tickwidth": 0
          },
          "ternary": {
           "aaxis": {
            "gridcolor": "#506784",
            "linecolor": "#506784",
            "ticks": ""
           },
           "baxis": {
            "gridcolor": "#506784",
            "linecolor": "#506784",
            "ticks": ""
           },
           "bgcolor": "rgb(17,17,17)",
           "caxis": {
            "gridcolor": "#506784",
            "linecolor": "#506784",
            "ticks": ""
           }
          },
          "title": {
           "x": 0.05
          },
          "updatemenudefaults": {
           "bgcolor": "#506784",
           "borderwidth": 0
          },
          "xaxis": {
           "automargin": true,
           "gridcolor": "#283442",
           "linecolor": "#506784",
           "ticks": "",
           "title": {
            "standoff": 15
           },
           "zerolinecolor": "#283442",
           "zerolinewidth": 2
          },
          "yaxis": {
           "automargin": true,
           "gridcolor": "#283442",
           "linecolor": "#506784",
           "ticks": "",
           "title": {
            "standoff": 15
           },
           "zerolinecolor": "#283442",
           "zerolinewidth": 2
          }
         }
        },
        "title": {
         "text": "Top 10 Requisitos com Maiores Salários Médios"
        },
        "xaxis": {
         "anchor": "y",
         "domain": [
          0,
          1
         ],
         "title": {
          "text": "Média de Salário"
         }
        },
        "yaxis": {
         "anchor": "x",
         "domain": [
          0,
          1
         ],
         "title": {
          "text": "Requisito"
         }
        }
       }
      }
     },
     "metadata": {},
     "output_type": "display_data"
    }
   ],
   "source": [
    "# Definir cor de fundo e cor da fonte\n",
    "background_color = 'rgb(0, 22, 33)'\n",
    "font_color = 'rgb(240, 240, 240)'\n",
    "\n",
    "# Gerar um gráfico de barras utilizando o Plotly Express\n",
    "fig = px.bar(top_10_requirements, x='Mean Salary', y='Requirements', orientation='h',\n",
    "             labels={'Mean Salary': 'Média de Salário', 'Requirements': 'Requisito'},\n",
    "             template='plotly_dark')\n",
    "\n",
    "# Atualizar o layout com as cores desejadas e título\n",
    "fig.update_layout(\n",
    "    title=\"Top 10 Requisitos com Maiores Salários Médios\",\n",
    "    xaxis_title=\"Média de Salário\",\n",
    "    yaxis_title=\"Requisito\",\n",
    "    plot_bgcolor=background_color,\n",
    "    paper_bgcolor=background_color,\n",
    "    font_color=font_color,\n",
    ")\n",
    "\n",
    "# Definir cores das barras com gradiente azul para verde\n",
    "bar_colors = px.colors.sequential.haline_r[:10]\n",
    "\n",
    "# Atualizar cores das barras\n",
    "fig.update_traces(marker=dict(color=bar_colors))\n",
    "\n",
    "fig.show()"
   ]
  },
  {
   "attachments": {},
   "cell_type": "markdown",
   "metadata": {},
   "source": [
    "Ao analisar os requisitos das empresas com a maior média de salário oferecido, podemos observar que esses requisitos são bastante específicos e não tão comuns de serem encontrados no dia a dia. Esses requisitos refletem a demanda por habilidades e conhecimentos especializados, o que pode resultar em salários mais elevados. É importante destacar que por esses requisitos estarem relacionados a áreas como inteligência artificial, aprendizado de máquina e ciência de dados, a expertise nesses domínios é altamente valorizada pelas empresas."
   ]
  },
  {
   "attachments": {},
   "cell_type": "markdown",
   "metadata": {},
   "source": [
    "### 5) Quais as cidades e as empresas que oferecem os melhores salários?"
   ]
  },
  {
   "cell_type": "code",
   "execution_count": 19,
   "metadata": {},
   "outputs": [],
   "source": [
    "# Agrupa os dados por cidade e empresa e calcular o salário médio para cada grupo\n",
    "avg_salary_by_city = df.groupby('City')['Salary'].mean()\n",
    "avg_salary_by_company = df.groupby('Company')['Salary'].mean()\n",
    "\n",
    "# Filtra as cidades e empresas que possuem pelo menos 3 vagas de emprego\n",
    "cities_with_min_3_jobs = df['City'].value_counts()[df['City'].value_counts() >= 3].index\n",
    "companies_with_min_3_jobs = df['Company'].value_counts()[df['Company'].value_counts() >= 3].index\n",
    "\n",
    "# Calcula o salário médio para as cidades e empresas com pelo menos 3 vagas de emprego\n",
    "avg_salary_by_city = avg_salary_by_city[cities_with_min_3_jobs]\n",
    "avg_salary_by_company = avg_salary_by_company[companies_with_min_3_jobs]\n",
    "\n",
    "# Ordena as cidades e empresas com base no salário médio em ordem decrescente\n",
    "top_cities = avg_salary_by_city.sort_values(ascending=False).head(5)\n",
    "top_companies = avg_salary_by_company.sort_values(ascending=False).head(5)"
   ]
  },
  {
   "cell_type": "code",
   "execution_count": 22,
   "metadata": {},
   "outputs": [
    {
     "data": {
      "application/vnd.plotly.v1+json": {
       "config": {
        "plotlyServerURL": "https://plot.ly"
       },
       "data": [
        {
         "marker": {
          "color": [
           "rgb(0, 0, 24)",
           "rgb(0, 10, 56)",
           "rgb(0, 67, 100)",
           "rgb(0, 147, 110)",
           "rgb(62, 196, 67)"
          ]
         },
         "name": "Cities",
         "showlegend": false,
         "type": "bar",
         "x": [
          "San Mateo",
          "Long Beach",
          "Kirkland",
          "Brooklyn",
          "Bellevue"
         ],
         "xaxis": "x",
         "y": [
          210637.3508496145,
          168000,
          162666.66666666666,
          149750,
          148200
         ],
         "yaxis": "y"
        },
        {
         "marker": {
          "color": [
           "rgb(0, 0, 24)",
           "rgb(0, 10, 56)",
           "rgb(0, 67, 100)",
           "rgb(0, 147, 110)",
           "rgb(62, 196, 67)"
          ]
         },
         "name": "Companies",
         "showlegend": false,
         "type": "bar",
         "x": [
          "Roblox",
          "Airbnb",
          "Nextdoor",
          "Aurora Innovation",
          "Nuro, Inc."
         ],
         "xaxis": "x2",
         "y": [
          242950.2341920375,
          201666.66666666666,
          184200,
          169666.66666666666,
          167000
         ],
         "yaxis": "y2"
        }
       ],
       "layout": {
        "annotations": [
         {
          "font": {
           "size": 16
          },
          "showarrow": false,
          "text": "Cidades com os Maiores Salários",
          "x": 0.5,
          "xanchor": "center",
          "xref": "paper",
          "y": 1,
          "yanchor": "bottom",
          "yref": "paper"
         },
         {
          "font": {
           "size": 16
          },
          "showarrow": false,
          "text": "Empresas com os Maiores Salários",
          "x": 0.5,
          "xanchor": "center",
          "xref": "paper",
          "y": 0.45,
          "yanchor": "bottom",
          "yref": "paper"
         }
        ],
        "font": {
         "color": "rgb(240, 240, 240)"
        },
        "height": 900,
        "paper_bgcolor": "rgb(0, 22, 33)",
        "plot_bgcolor": "rgb(0, 22, 33)",
        "template": {
         "data": {
          "bar": [
           {
            "error_x": {
             "color": "#f2f5fa"
            },
            "error_y": {
             "color": "#f2f5fa"
            },
            "marker": {
             "line": {
              "color": "rgb(17,17,17)",
              "width": 0.5
             },
             "pattern": {
              "fillmode": "overlay",
              "size": 10,
              "solidity": 0.2
             }
            },
            "type": "bar"
           }
          ],
          "barpolar": [
           {
            "marker": {
             "line": {
              "color": "rgb(17,17,17)",
              "width": 0.5
             },
             "pattern": {
              "fillmode": "overlay",
              "size": 10,
              "solidity": 0.2
             }
            },
            "type": "barpolar"
           }
          ],
          "carpet": [
           {
            "aaxis": {
             "endlinecolor": "#A2B1C6",
             "gridcolor": "#506784",
             "linecolor": "#506784",
             "minorgridcolor": "#506784",
             "startlinecolor": "#A2B1C6"
            },
            "baxis": {
             "endlinecolor": "#A2B1C6",
             "gridcolor": "#506784",
             "linecolor": "#506784",
             "minorgridcolor": "#506784",
             "startlinecolor": "#A2B1C6"
            },
            "type": "carpet"
           }
          ],
          "choropleth": [
           {
            "colorbar": {
             "outlinewidth": 0,
             "ticks": ""
            },
            "type": "choropleth"
           }
          ],
          "contour": [
           {
            "colorbar": {
             "outlinewidth": 0,
             "ticks": ""
            },
            "colorscale": [
             [
              0,
              "#0d0887"
             ],
             [
              0.1111111111111111,
              "#46039f"
             ],
             [
              0.2222222222222222,
              "#7201a8"
             ],
             [
              0.3333333333333333,
              "#9c179e"
             ],
             [
              0.4444444444444444,
              "#bd3786"
             ],
             [
              0.5555555555555556,
              "#d8576b"
             ],
             [
              0.6666666666666666,
              "#ed7953"
             ],
             [
              0.7777777777777778,
              "#fb9f3a"
             ],
             [
              0.8888888888888888,
              "#fdca26"
             ],
             [
              1,
              "#f0f921"
             ]
            ],
            "type": "contour"
           }
          ],
          "contourcarpet": [
           {
            "colorbar": {
             "outlinewidth": 0,
             "ticks": ""
            },
            "type": "contourcarpet"
           }
          ],
          "heatmap": [
           {
            "colorbar": {
             "outlinewidth": 0,
             "ticks": ""
            },
            "colorscale": [
             [
              0,
              "#0d0887"
             ],
             [
              0.1111111111111111,
              "#46039f"
             ],
             [
              0.2222222222222222,
              "#7201a8"
             ],
             [
              0.3333333333333333,
              "#9c179e"
             ],
             [
              0.4444444444444444,
              "#bd3786"
             ],
             [
              0.5555555555555556,
              "#d8576b"
             ],
             [
              0.6666666666666666,
              "#ed7953"
             ],
             [
              0.7777777777777778,
              "#fb9f3a"
             ],
             [
              0.8888888888888888,
              "#fdca26"
             ],
             [
              1,
              "#f0f921"
             ]
            ],
            "type": "heatmap"
           }
          ],
          "heatmapgl": [
           {
            "colorbar": {
             "outlinewidth": 0,
             "ticks": ""
            },
            "colorscale": [
             [
              0,
              "#0d0887"
             ],
             [
              0.1111111111111111,
              "#46039f"
             ],
             [
              0.2222222222222222,
              "#7201a8"
             ],
             [
              0.3333333333333333,
              "#9c179e"
             ],
             [
              0.4444444444444444,
              "#bd3786"
             ],
             [
              0.5555555555555556,
              "#d8576b"
             ],
             [
              0.6666666666666666,
              "#ed7953"
             ],
             [
              0.7777777777777778,
              "#fb9f3a"
             ],
             [
              0.8888888888888888,
              "#fdca26"
             ],
             [
              1,
              "#f0f921"
             ]
            ],
            "type": "heatmapgl"
           }
          ],
          "histogram": [
           {
            "marker": {
             "pattern": {
              "fillmode": "overlay",
              "size": 10,
              "solidity": 0.2
             }
            },
            "type": "histogram"
           }
          ],
          "histogram2d": [
           {
            "colorbar": {
             "outlinewidth": 0,
             "ticks": ""
            },
            "colorscale": [
             [
              0,
              "#0d0887"
             ],
             [
              0.1111111111111111,
              "#46039f"
             ],
             [
              0.2222222222222222,
              "#7201a8"
             ],
             [
              0.3333333333333333,
              "#9c179e"
             ],
             [
              0.4444444444444444,
              "#bd3786"
             ],
             [
              0.5555555555555556,
              "#d8576b"
             ],
             [
              0.6666666666666666,
              "#ed7953"
             ],
             [
              0.7777777777777778,
              "#fb9f3a"
             ],
             [
              0.8888888888888888,
              "#fdca26"
             ],
             [
              1,
              "#f0f921"
             ]
            ],
            "type": "histogram2d"
           }
          ],
          "histogram2dcontour": [
           {
            "colorbar": {
             "outlinewidth": 0,
             "ticks": ""
            },
            "colorscale": [
             [
              0,
              "#0d0887"
             ],
             [
              0.1111111111111111,
              "#46039f"
             ],
             [
              0.2222222222222222,
              "#7201a8"
             ],
             [
              0.3333333333333333,
              "#9c179e"
             ],
             [
              0.4444444444444444,
              "#bd3786"
             ],
             [
              0.5555555555555556,
              "#d8576b"
             ],
             [
              0.6666666666666666,
              "#ed7953"
             ],
             [
              0.7777777777777778,
              "#fb9f3a"
             ],
             [
              0.8888888888888888,
              "#fdca26"
             ],
             [
              1,
              "#f0f921"
             ]
            ],
            "type": "histogram2dcontour"
           }
          ],
          "mesh3d": [
           {
            "colorbar": {
             "outlinewidth": 0,
             "ticks": ""
            },
            "type": "mesh3d"
           }
          ],
          "parcoords": [
           {
            "line": {
             "colorbar": {
              "outlinewidth": 0,
              "ticks": ""
             }
            },
            "type": "parcoords"
           }
          ],
          "pie": [
           {
            "automargin": true,
            "type": "pie"
           }
          ],
          "scatter": [
           {
            "marker": {
             "line": {
              "color": "#283442"
             }
            },
            "type": "scatter"
           }
          ],
          "scatter3d": [
           {
            "line": {
             "colorbar": {
              "outlinewidth": 0,
              "ticks": ""
             }
            },
            "marker": {
             "colorbar": {
              "outlinewidth": 0,
              "ticks": ""
             }
            },
            "type": "scatter3d"
           }
          ],
          "scattercarpet": [
           {
            "marker": {
             "colorbar": {
              "outlinewidth": 0,
              "ticks": ""
             }
            },
            "type": "scattercarpet"
           }
          ],
          "scattergeo": [
           {
            "marker": {
             "colorbar": {
              "outlinewidth": 0,
              "ticks": ""
             }
            },
            "type": "scattergeo"
           }
          ],
          "scattergl": [
           {
            "marker": {
             "line": {
              "color": "#283442"
             }
            },
            "type": "scattergl"
           }
          ],
          "scattermapbox": [
           {
            "marker": {
             "colorbar": {
              "outlinewidth": 0,
              "ticks": ""
             }
            },
            "type": "scattermapbox"
           }
          ],
          "scatterpolar": [
           {
            "marker": {
             "colorbar": {
              "outlinewidth": 0,
              "ticks": ""
             }
            },
            "type": "scatterpolar"
           }
          ],
          "scatterpolargl": [
           {
            "marker": {
             "colorbar": {
              "outlinewidth": 0,
              "ticks": ""
             }
            },
            "type": "scatterpolargl"
           }
          ],
          "scatterternary": [
           {
            "marker": {
             "colorbar": {
              "outlinewidth": 0,
              "ticks": ""
             }
            },
            "type": "scatterternary"
           }
          ],
          "surface": [
           {
            "colorbar": {
             "outlinewidth": 0,
             "ticks": ""
            },
            "colorscale": [
             [
              0,
              "#0d0887"
             ],
             [
              0.1111111111111111,
              "#46039f"
             ],
             [
              0.2222222222222222,
              "#7201a8"
             ],
             [
              0.3333333333333333,
              "#9c179e"
             ],
             [
              0.4444444444444444,
              "#bd3786"
             ],
             [
              0.5555555555555556,
              "#d8576b"
             ],
             [
              0.6666666666666666,
              "#ed7953"
             ],
             [
              0.7777777777777778,
              "#fb9f3a"
             ],
             [
              0.8888888888888888,
              "#fdca26"
             ],
             [
              1,
              "#f0f921"
             ]
            ],
            "type": "surface"
           }
          ],
          "table": [
           {
            "cells": {
             "fill": {
              "color": "#506784"
             },
             "line": {
              "color": "rgb(17,17,17)"
             }
            },
            "header": {
             "fill": {
              "color": "#2a3f5f"
             },
             "line": {
              "color": "rgb(17,17,17)"
             }
            },
            "type": "table"
           }
          ]
         },
         "layout": {
          "annotationdefaults": {
           "arrowcolor": "#f2f5fa",
           "arrowhead": 0,
           "arrowwidth": 1
          },
          "autotypenumbers": "strict",
          "coloraxis": {
           "colorbar": {
            "outlinewidth": 0,
            "ticks": ""
           }
          },
          "colorscale": {
           "diverging": [
            [
             0,
             "#8e0152"
            ],
            [
             0.1,
             "#c51b7d"
            ],
            [
             0.2,
             "#de77ae"
            ],
            [
             0.3,
             "#f1b6da"
            ],
            [
             0.4,
             "#fde0ef"
            ],
            [
             0.5,
             "#f7f7f7"
            ],
            [
             0.6,
             "#e6f5d0"
            ],
            [
             0.7,
             "#b8e186"
            ],
            [
             0.8,
             "#7fbc41"
            ],
            [
             0.9,
             "#4d9221"
            ],
            [
             1,
             "#276419"
            ]
           ],
           "sequential": [
            [
             0,
             "#0d0887"
            ],
            [
             0.1111111111111111,
             "#46039f"
            ],
            [
             0.2222222222222222,
             "#7201a8"
            ],
            [
             0.3333333333333333,
             "#9c179e"
            ],
            [
             0.4444444444444444,
             "#bd3786"
            ],
            [
             0.5555555555555556,
             "#d8576b"
            ],
            [
             0.6666666666666666,
             "#ed7953"
            ],
            [
             0.7777777777777778,
             "#fb9f3a"
            ],
            [
             0.8888888888888888,
             "#fdca26"
            ],
            [
             1,
             "#f0f921"
            ]
           ],
           "sequentialminus": [
            [
             0,
             "#0d0887"
            ],
            [
             0.1111111111111111,
             "#46039f"
            ],
            [
             0.2222222222222222,
             "#7201a8"
            ],
            [
             0.3333333333333333,
             "#9c179e"
            ],
            [
             0.4444444444444444,
             "#bd3786"
            ],
            [
             0.5555555555555556,
             "#d8576b"
            ],
            [
             0.6666666666666666,
             "#ed7953"
            ],
            [
             0.7777777777777778,
             "#fb9f3a"
            ],
            [
             0.8888888888888888,
             "#fdca26"
            ],
            [
             1,
             "#f0f921"
            ]
           ]
          },
          "colorway": [
           "#636efa",
           "#EF553B",
           "#00cc96",
           "#ab63fa",
           "#FFA15A",
           "#19d3f3",
           "#FF6692",
           "#B6E880",
           "#FF97FF",
           "#FECB52"
          ],
          "font": {
           "color": "#f2f5fa"
          },
          "geo": {
           "bgcolor": "rgb(17,17,17)",
           "lakecolor": "rgb(17,17,17)",
           "landcolor": "rgb(17,17,17)",
           "showlakes": true,
           "showland": true,
           "subunitcolor": "#506784"
          },
          "hoverlabel": {
           "align": "left"
          },
          "hovermode": "closest",
          "mapbox": {
           "style": "dark"
          },
          "paper_bgcolor": "rgb(17,17,17)",
          "plot_bgcolor": "rgb(17,17,17)",
          "polar": {
           "angularaxis": {
            "gridcolor": "#506784",
            "linecolor": "#506784",
            "ticks": ""
           },
           "bgcolor": "rgb(17,17,17)",
           "radialaxis": {
            "gridcolor": "#506784",
            "linecolor": "#506784",
            "ticks": ""
           }
          },
          "scene": {
           "xaxis": {
            "backgroundcolor": "rgb(17,17,17)",
            "gridcolor": "#506784",
            "gridwidth": 2,
            "linecolor": "#506784",
            "showbackground": true,
            "ticks": "",
            "zerolinecolor": "#C8D4E3"
           },
           "yaxis": {
            "backgroundcolor": "rgb(17,17,17)",
            "gridcolor": "#506784",
            "gridwidth": 2,
            "linecolor": "#506784",
            "showbackground": true,
            "ticks": "",
            "zerolinecolor": "#C8D4E3"
           },
           "zaxis": {
            "backgroundcolor": "rgb(17,17,17)",
            "gridcolor": "#506784",
            "gridwidth": 2,
            "linecolor": "#506784",
            "showbackground": true,
            "ticks": "",
            "zerolinecolor": "#C8D4E3"
           }
          },
          "shapedefaults": {
           "line": {
            "color": "#f2f5fa"
           }
          },
          "sliderdefaults": {
           "bgcolor": "#C8D4E3",
           "bordercolor": "rgb(17,17,17)",
           "borderwidth": 1,
           "tickwidth": 0
          },
          "ternary": {
           "aaxis": {
            "gridcolor": "#506784",
            "linecolor": "#506784",
            "ticks": ""
           },
           "baxis": {
            "gridcolor": "#506784",
            "linecolor": "#506784",
            "ticks": ""
           },
           "bgcolor": "rgb(17,17,17)",
           "caxis": {
            "gridcolor": "#506784",
            "linecolor": "#506784",
            "ticks": ""
           }
          },
          "title": {
           "x": 0.05
          },
          "updatemenudefaults": {
           "bgcolor": "#506784",
           "borderwidth": 0
          },
          "xaxis": {
           "automargin": true,
           "gridcolor": "#283442",
           "linecolor": "#506784",
           "ticks": "",
           "title": {
            "standoff": 15
           },
           "zerolinecolor": "#283442",
           "zerolinewidth": 2
          },
          "yaxis": {
           "automargin": true,
           "gridcolor": "#283442",
           "linecolor": "#506784",
           "ticks": "",
           "title": {
            "standoff": 15
           },
           "zerolinecolor": "#283442",
           "zerolinewidth": 2
          }
         }
        },
        "title": {
         "text": "Cidades e Empresas com os Maiores Salário"
        },
        "xaxis": {
         "anchor": "y",
         "domain": [
          0,
          1
         ]
        },
        "xaxis2": {
         "anchor": "y2",
         "domain": [
          0,
          1
         ]
        },
        "yaxis": {
         "anchor": "x",
         "domain": [
          0.55,
          1
         ],
         "title": {
          "text": "Salário Médio"
         }
        },
        "yaxis2": {
         "anchor": "x2",
         "domain": [
          0,
          0.45
         ]
        }
       }
      }
     },
     "metadata": {},
     "output_type": "display_data"
    }
   ],
   "source": [
    "# Define cores manuais para as barras\n",
    "bar_colors = ['rgb(0, 0, 24)', 'rgb(0, 10, 56)', 'rgb(0, 67, 100)', 'rgb(0, 147, 110)', 'rgb(62, 196, 67)']\n",
    "\n",
    "# Cria subplots com 2 linhas e 1 coluna\n",
    "fig = sp.make_subplots(rows=2, cols=1, subplot_titles=(\"Cidades com os Maiores Salários\", \"Empresas com os Maiores Salários\"), vertical_spacing=0.1)\n",
    "\n",
    "# Cria gráficos de barras para as principais cidades e empresas\n",
    "fig.add_trace(go.Bar(x=top_cities.index, y=top_cities.values, marker=dict(color=bar_colors), name='Cities'), row=1, col=1)\n",
    "fig.add_trace(go.Bar(x=top_companies.index, y=top_companies.values, marker=dict(color=bar_colors), name='Companies'), row=2, col=1)\n",
    "\n",
    "# Atualiza layout com as cores e títulos desejados\n",
    "fig.update_layout(\n",
    "    title=\"Cidades e Empresas com os Maiores Salário\",\n",
    "    yaxis=dict(title=\"Salário Médio\"),\n",
    "    plot_bgcolor=background_color,\n",
    "    paper_bgcolor=background_color,\n",
    "    font_color=font_color,\n",
    "    template='plotly_dark',\n",
    "    height=900  \n",
    ")\n",
    "\n",
    "fig.update_traces(showlegend=False)\n",
    "\n",
    "fig.show()"
   ]
  },
  {
   "attachments": {},
   "cell_type": "markdown",
   "metadata": {},
   "source": [
    "Podemos observar que a maioria das cidades com os salários mais altos, com exceção de Brooklyn, está localizada na costa oeste dos Estados Unidos, assim como as empresas também estão concentradas nos estados de Washington e Califórnia. Isso sugere que essa região geográfica pode oferecer oportunidades com salários mais altos no setor"
   ]
  },
  {
   "attachments": {},
   "cell_type": "markdown",
   "metadata": {},
   "source": [
    "### 6) Qual a distribuição de salários por nível de experiência?"
   ]
  },
  {
   "cell_type": "code",
   "execution_count": 24,
   "metadata": {},
   "outputs": [
    {
     "data": {
      "application/vnd.plotly.v1+json": {
       "config": {
        "plotlyServerURL": "https://plot.ly"
       },
       "data": [
        {
         "alignmentgroup": "True",
         "hovertemplate": "Nível de Experiência=%{x}<br>Salário=%{y}<extra></extra>",
         "legendgroup": "",
         "marker": {
          "color": "darkcyan"
         },
         "name": "",
         "notched": false,
         "offsetgroup": "",
         "orientation": "v",
         "showlegend": false,
         "type": "box",
         "x": [
          "Entry-level",
          "Entry-level",
          "Executive-level",
          "Entry-level",
          "Mid-level",
          "Senior-level",
          "Entry-level",
          "Entry-level",
          "Entry-level",
          "Senior-level",
          "Entry-level",
          "Mid-level",
          "Entry-level",
          "Senior-level",
          "Entry-level",
          "Senior-level",
          "Senior-level",
          "Senior-level",
          "Entry-level",
          "Senior-level",
          "Senior-level",
          "Senior-level",
          "Entry-level",
          "Entry-level",
          "Mid-level",
          "Entry-level",
          "Entry-level",
          "Senior-level",
          "Senior-level",
          "Senior-level",
          "Senior-level",
          "Senior-level",
          "Senior-level",
          "Senior-level",
          "Senior-level",
          "Senior-level",
          "Mid-level",
          "Senior-level",
          "Senior-level",
          "Senior-level",
          "Senior-level",
          "Senior-level",
          "Mid-level",
          "Senior-level",
          "Entry-level",
          "Mid-level",
          "Senior-level",
          "Senior-level",
          "Mid-level",
          "Senior-level",
          "Senior-level",
          "Senior-level",
          "Senior-level",
          "Senior-level",
          "Mid-level",
          "Mid-level",
          "Senior-level",
          "Entry-level",
          "Mid-level",
          "Senior-level",
          "Senior-level",
          "Senior-level",
          "Senior-level",
          "Mid-level",
          "Senior-level",
          "Senior-level",
          "Mid-level",
          "Senior-level",
          "Senior-level",
          "Mid-level",
          "Senior-level",
          "Senior-level",
          "Senior-level",
          "Senior-level",
          "Senior-level",
          "Entry-level",
          "Mid-level",
          "Executive-level",
          "Entry-level",
          "Senior-level",
          "Mid-level",
          "Executive-level",
          "Mid-level",
          "Senior-level",
          "Senior-level",
          "Senior-level",
          "Mid-level",
          "Senior-level",
          "Senior-level",
          "Senior-level",
          "Senior-level",
          "Mid-level",
          "Senior-level",
          "Executive-level",
          "Entry-level",
          "Senior-level",
          "Entry-level",
          "Entry-level",
          "Senior-level",
          "Senior-level",
          "Senior-level",
          "Senior-level",
          "Senior-level",
          "Senior-level",
          "Executive-level",
          "Senior-level",
          "Senior-level",
          "Entry-level",
          "Senior-level",
          "Mid-level",
          "Entry-level",
          "Senior-level",
          "Entry-level",
          "Senior-level",
          "Senior-level",
          "Mid-level",
          "Entry-level",
          "Senior-level",
          "Senior-level",
          "Mid-level",
          "Senior-level",
          "Mid-level",
          "Senior-level",
          "Senior-level",
          "Senior-level",
          "Entry-level",
          "Senior-level",
          "Senior-level",
          "Senior-level",
          "Executive-level",
          "Senior-level",
          "Mid-level",
          "Mid-level",
          "Mid-level",
          "Senior-level",
          "Senior-level",
          "Senior-level",
          "Executive-level",
          "Entry-level",
          "Mid-level",
          "Senior-level",
          "Mid-level",
          "Senior-level",
          "Senior-level",
          "Senior-level",
          "Senior-level",
          "Entry-level",
          "Senior-level",
          "Executive-level",
          "Entry-level",
          "Senior-level",
          "Senior-level",
          "Entry-level",
          "Senior-level",
          "Entry-level",
          "Mid-level",
          "Senior-level",
          "Senior-level",
          "Entry-level",
          "Senior-level",
          "Senior-level",
          "Senior-level",
          "Entry-level",
          "Senior-level",
          "Senior-level",
          "Entry-level",
          "Mid-level",
          "Senior-level",
          "Senior-level",
          "Senior-level",
          "Entry-level",
          "Executive-level",
          "Senior-level",
          "Entry-level",
          "Senior-level",
          "Senior-level",
          "Senior-level",
          "Entry-level",
          "Senior-level",
          "Entry-level",
          "Senior-level",
          "Senior-level",
          "Executive-level",
          "Entry-level",
          "Entry-level",
          "Senior-level",
          "Senior-level",
          "Senior-level",
          "Senior-level",
          "Mid-level",
          "Senior-level",
          "Senior-level",
          "Senior-level",
          "Entry-level",
          "Mid-level",
          "Senior-level",
          "Senior-level",
          "Entry-level",
          "Mid-level",
          "Mid-level",
          "Executive-level",
          "Senior-level",
          "Senior-level",
          "Executive-level",
          "Entry-level",
          "Senior-level",
          "Senior-level",
          "Senior-level",
          "Mid-level",
          "Senior-level",
          "Entry-level",
          "Senior-level",
          "Entry-level",
          "Entry-level",
          "Senior-level",
          "Entry-level",
          "Mid-level",
          "Entry-level",
          "Mid-level",
          "Entry-level",
          "Senior-level",
          "Senior-level",
          "Senior-level",
          "Senior-level",
          "Senior-level",
          "Entry-level",
          "Executive-level",
          "Senior-level",
          "Entry-level",
          "Mid-level",
          "Mid-level",
          "Executive-level",
          "Senior-level",
          "Mid-level",
          "Senior-level",
          "Executive-level",
          "Senior-level",
          "Executive-level",
          "Senior-level",
          "Entry-level",
          "Senior-level",
          "Senior-level",
          "Mid-level",
          "Executive-level",
          "Senior-level",
          "Entry-level",
          "Mid-level",
          "Mid-level",
          "Entry-level",
          "Mid-level",
          "Senior-level",
          "Senior-level",
          "Entry-level",
          "Senior-level",
          "Senior-level",
          "Senior-level",
          "Mid-level",
          "Senior-level",
          "Senior-level",
          "Senior-level",
          "Senior-level",
          "Mid-level",
          "Executive-level",
          "Senior-level",
          "Senior-level",
          "Senior-level",
          "Senior-level",
          "Senior-level",
          "Senior-level",
          "Senior-level",
          "Senior-level",
          "Senior-level",
          "Senior-level",
          "Entry-level",
          "Senior-level",
          "Mid-level",
          "Mid-level",
          "Executive-level",
          "Mid-level",
          "Mid-level",
          "Senior-level",
          "Mid-level",
          "Mid-level",
          "Senior-level",
          "Entry-level",
          "Senior-level",
          "Mid-level",
          "Mid-level",
          "Entry-level",
          "Executive-level",
          "Senior-level",
          "Senior-level",
          "Entry-level",
          "Senior-level",
          "Senior-level",
          "Mid-level",
          "Senior-level",
          "Entry-level",
          "Senior-level",
          "Senior-level",
          "Mid-level",
          "Executive-level",
          "Senior-level",
          "Mid-level",
          "Senior-level",
          "Senior-level",
          "Senior-level",
          "Entry-level",
          "Senior-level",
          "Senior-level",
          "Senior-level",
          "Senior-level",
          "Entry-level",
          "Senior-level",
          "Mid-level",
          "Senior-level",
          "Entry-level",
          "Entry-level",
          "Senior-level",
          "Entry-level",
          "Mid-level",
          "Senior-level",
          "Senior-level",
          "Entry-level",
          "Entry-level",
          "Entry-level",
          "Senior-level",
          "Senior-level",
          "Entry-level",
          "Senior-level",
          "Senior-level",
          "Senior-level",
          "Senior-level",
          "Senior-level",
          "Senior-level",
          "Senior-level",
          "Senior-level",
          "Executive-level",
          "Mid-level",
          "Senior-level",
          "Senior-level",
          "Senior-level",
          "Senior-level",
          "Senior-level",
          "Senior-level",
          "Senior-level",
          "Senior-level",
          "Senior-level",
          "Entry-level",
          "Mid-level",
          "Mid-level",
          "Entry-level",
          "Senior-level",
          "Entry-level",
          "Mid-level",
          "Executive-level",
          "Senior-level",
          "Senior-level",
          "Senior-level",
          "Senior-level",
          "Senior-level",
          "Entry-level",
          "Mid-level",
          "Senior-level",
          "Senior-level",
          "Senior-level",
          "Mid-level",
          "Senior-level",
          "Executive-level",
          "Mid-level",
          "Senior-level",
          "Mid-level",
          "Entry-level",
          "Senior-level",
          "Senior-level",
          "Mid-level",
          "Senior-level",
          "Senior-level",
          "Executive-level",
          "Executive-level",
          "Senior-level",
          "Senior-level",
          "Senior-level",
          "Senior-level",
          "Senior-level",
          "Senior-level",
          "Senior-level",
          "Mid-level",
          "Senior-level",
          "Senior-level",
          "Senior-level",
          "Senior-level",
          "Entry-level",
          "Senior-level",
          "Senior-level",
          "Mid-level",
          "Executive-level",
          "Senior-level",
          "Senior-level",
          "Entry-level",
          "Senior-level",
          "Mid-level",
          "Mid-level",
          "Senior-level",
          "Senior-level",
          "Senior-level",
          "Senior-level",
          "Senior-level",
          "Mid-level",
          "Mid-level",
          "Senior-level",
          "Senior-level",
          "Mid-level",
          "Mid-level",
          "Entry-level",
          "Mid-level",
          "Senior-level",
          "Senior-level",
          "Entry-level",
          "Senior-level",
          "Mid-level",
          "Entry-level",
          "Senior-level",
          "Entry-level",
          "Senior-level",
          "Senior-level",
          "Senior-level",
          "Senior-level",
          "Mid-level",
          "Entry-level",
          "Senior-level",
          "Senior-level",
          "Mid-level",
          "Mid-level",
          "Entry-level",
          "Senior-level",
          "Entry-level",
          "Mid-level",
          "Senior-level",
          "Executive-level",
          "Senior-level",
          "Senior-level",
          "Mid-level",
          "Senior-level",
          "Mid-level",
          "Entry-level",
          "Senior-level",
          "Senior-level",
          "Senior-level",
          "Entry-level",
          "Senior-level",
          "Mid-level",
          "Entry-level",
          "Senior-level",
          "Mid-level",
          "Senior-level",
          "Senior-level",
          "Senior-level",
          "Senior-level",
          "Senior-level",
          "Senior-level",
          "Senior-level",
          "Senior-level",
          "Senior-level",
          "Senior-level",
          "Mid-level",
          "Senior-level",
          "Senior-level",
          "Senior-level",
          "Entry-level",
          "Mid-level",
          "Entry-level",
          "Senior-level",
          "Entry-level",
          "Senior-level",
          "Mid-level",
          "Senior-level",
          "Senior-level",
          "Senior-level",
          "Mid-level",
          "Senior-level",
          "Mid-level",
          "Senior-level",
          "Senior-level",
          "Executive-level",
          "Executive-level",
          "Senior-level",
          "Mid-level",
          "Senior-level",
          "Senior-level",
          "Senior-level",
          "Senior-level",
          "Entry-level",
          "Entry-level",
          "Mid-level",
          "Mid-level",
          "Senior-level",
          "Senior-level",
          "Senior-level",
          "Entry-level",
          "Senior-level",
          "Senior-level",
          "Senior-level",
          "Executive-level",
          "Senior-level",
          "Executive-level",
          "Senior-level",
          "Senior-level",
          "Senior-level",
          "Entry-level",
          "Mid-level",
          "Mid-level",
          "Senior-level",
          "Mid-level",
          "Entry-level",
          "Senior-level",
          "Entry-level",
          "Mid-level",
          "Senior-level",
          "Entry-level",
          "Entry-level",
          "Mid-level",
          "Entry-level",
          "Mid-level",
          "Entry-level",
          "Senior-level",
          "Executive-level",
          "Senior-level",
          "Mid-level",
          "Entry-level",
          "Mid-level",
          "Mid-level",
          "Senior-level",
          "Senior-level",
          "Senior-level",
          "Mid-level",
          "Senior-level",
          "Senior-level",
          "Entry-level",
          "Entry-level",
          "Mid-level",
          "Entry-level",
          "Senior-level",
          "Senior-level",
          "Senior-level",
          "Senior-level",
          "Mid-level",
          "Senior-level",
          "Senior-level",
          "Entry-level",
          "Entry-level",
          "Senior-level",
          "Entry-level",
          "Mid-level",
          "Executive-level",
          "Entry-level",
          "Executive-level",
          "Senior-level",
          "Senior-level",
          "Mid-level",
          "Senior-level",
          "Senior-level",
          "Senior-level",
          "Entry-level",
          "Senior-level",
          "Senior-level",
          "Entry-level",
          "Senior-level",
          "Mid-level",
          "Mid-level",
          "Entry-level",
          "Executive-level",
          "Entry-level",
          "Senior-level",
          "Senior-level",
          "Entry-level",
          "Senior-level",
          "Senior-level",
          "Senior-level",
          "Mid-level",
          "Senior-level",
          "Senior-level",
          "Mid-level",
          "Senior-level",
          "Senior-level",
          "Executive-level",
          "Senior-level",
          "Senior-level",
          "Senior-level",
          "Senior-level",
          "Senior-level",
          "Senior-level",
          "Mid-level",
          "Senior-level",
          "Senior-level",
          "Executive-level",
          "Senior-level",
          "Mid-level",
          "Senior-level",
          "Executive-level",
          "Entry-level",
          "Mid-level",
          "Entry-level",
          "Senior-level",
          "Senior-level",
          "Senior-level",
          "Senior-level",
          "Entry-level",
          "Senior-level",
          "Executive-level",
          "Entry-level",
          "Mid-level",
          "Senior-level",
          "Entry-level",
          "Senior-level",
          "Senior-level",
          "Senior-level",
          "Senior-level",
          "Senior-level",
          "Senior-level",
          "Senior-level",
          "Mid-level",
          "Entry-level",
          "Senior-level",
          "Senior-level",
          "Senior-level",
          "Senior-level",
          "Executive-level",
          "Mid-level",
          "Entry-level",
          "Senior-level",
          "Senior-level",
          "Senior-level",
          "Senior-level",
          "Senior-level",
          "Senior-level",
          "Senior-level",
          "Senior-level",
          "Senior-level",
          "Senior-level",
          "Senior-level",
          "Senior-level",
          "Entry-level",
          "Executive-level",
          "Senior-level",
          "Entry-level",
          "Entry-level",
          "Senior-level",
          "Senior-level",
          "Senior-level",
          "Senior-level",
          "Mid-level",
          "Senior-level",
          "Senior-level",
          "Entry-level",
          "Senior-level",
          "Senior-level",
          "Senior-level",
          "Senior-level",
          "Entry-level",
          "Senior-level",
          "Senior-level",
          "Senior-level",
          "Senior-level",
          "Mid-level",
          "Senior-level",
          "Mid-level",
          "Senior-level",
          "Senior-level",
          "Entry-level",
          "Senior-level",
          "Senior-level",
          "Senior-level",
          "Senior-level",
          "Senior-level",
          "Entry-level",
          "Mid-level",
          "Entry-level",
          "Entry-level",
          "Mid-level",
          "Senior-level",
          "Entry-level",
          "Entry-level",
          "Senior-level",
          "Senior-level",
          "Mid-level",
          "Senior-level",
          "Senior-level",
          "Senior-level",
          "Senior-level",
          "Senior-level",
          "Entry-level",
          "Mid-level",
          "Mid-level",
          "Senior-level",
          "Senior-level",
          "Senior-level",
          "Senior-level",
          "Senior-level",
          "Senior-level",
          "Entry-level",
          "Mid-level",
          "Senior-level",
          "Mid-level",
          "Senior-level",
          "Senior-level",
          "Entry-level",
          "Senior-level",
          "Senior-level",
          "Entry-level",
          "Senior-level",
          "Mid-level",
          "Senior-level",
          "Entry-level",
          "Senior-level",
          "Entry-level",
          "Senior-level",
          "Executive-level",
          "Senior-level",
          "Senior-level",
          "Senior-level",
          "Senior-level",
          "Entry-level",
          "Senior-level",
          "Entry-level",
          "Entry-level",
          "Mid-level",
          "Senior-level",
          "Senior-level",
          "Senior-level",
          "Senior-level",
          "Senior-level",
          "Senior-level",
          "Senior-level",
          "Senior-level",
          "Senior-level",
          "Senior-level",
          "Entry-level",
          "Senior-level",
          "Senior-level",
          "Mid-level",
          "Senior-level",
          "Senior-level",
          "Executive-level",
          "Senior-level",
          "Senior-level",
          "Mid-level",
          "Executive-level",
          "Senior-level",
          "Senior-level",
          "Senior-level",
          "Senior-level",
          "Mid-level",
          "Executive-level",
          "Senior-level",
          "Entry-level",
          "Senior-level",
          "Entry-level",
          "Mid-level",
          "Senior-level",
          "Entry-level",
          "Executive-level",
          "Senior-level",
          "Mid-level",
          "Senior-level",
          "Senior-level",
          "Executive-level",
          "Entry-level",
          "Senior-level",
          "Senior-level",
          "Senior-level",
          "Senior-level",
          "Senior-level",
          "Mid-level",
          "Senior-level",
          "Mid-level",
          "Mid-level",
          "Senior-level",
          "Senior-level",
          "Entry-level",
          "Mid-level",
          "Mid-level",
          "Senior-level",
          "Mid-level",
          "Executive-level",
          "Senior-level",
          "Senior-level",
          "Senior-level",
          "Senior-level",
          "Senior-level",
          "Entry-level",
          "Senior-level",
          "Executive-level",
          "Executive-level",
          "Senior-level",
          "Senior-level",
          "Senior-level",
          "Mid-level",
          "Senior-level",
          "Senior-level",
          "Entry-level",
          "Executive-level",
          "Senior-level",
          "Senior-level",
          "Senior-level",
          "Senior-level",
          "Entry-level",
          "Senior-level",
          "Senior-level",
          "Entry-level",
          "Senior-level",
          "Mid-level",
          "Entry-level",
          "Entry-level",
          "Senior-level",
          "Mid-level",
          "Mid-level",
          "Senior-level",
          "Executive-level",
          "Senior-level",
          "Senior-level",
          "Executive-level",
          "Senior-level",
          "Entry-level",
          "Senior-level",
          "Senior-level",
          "Entry-level",
          "Senior-level",
          "Mid-level",
          "Senior-level",
          "Senior-level",
          "Entry-level",
          "Mid-level",
          "Executive-level",
          "Senior-level",
          "Senior-level",
          "Mid-level",
          "Mid-level",
          "Entry-level",
          "Senior-level",
          "Mid-level",
          "Mid-level",
          "Senior-level",
          "Executive-level",
          "Executive-level",
          "Senior-level",
          "Senior-level",
          "Senior-level",
          "Senior-level",
          "Senior-level",
          "Mid-level",
          "Executive-level",
          "Senior-level",
          "Mid-level",
          "Senior-level",
          "Executive-level",
          "Executive-level",
          "Entry-level",
          "Senior-level",
          "Entry-level",
          "Senior-level",
          "Senior-level",
          "Senior-level",
          "Mid-level",
          "Senior-level",
          "Senior-level",
          "Senior-level",
          "Entry-level",
          "Senior-level",
          "Senior-level",
          "Senior-level",
          "Senior-level",
          "Senior-level",
          "Entry-level",
          "Senior-level",
          "Mid-level",
          "Entry-level",
          "Senior-level",
          "Senior-level",
          "Senior-level",
          "Senior-level",
          "Senior-level",
          "Mid-level",
          "Executive-level",
          "Entry-level",
          "Senior-level",
          "Senior-level",
          "Senior-level",
          "Senior-level",
          "Senior-level",
          "Entry-level",
          "Senior-level",
          "Senior-level",
          "Senior-level",
          "Mid-level",
          "Senior-level",
          "Senior-level",
          "Senior-level",
          "Mid-level",
          "Executive-level",
          "Mid-level",
          "Entry-level",
          "Senior-level",
          "Senior-level",
          "Senior-level",
          "Mid-level",
          "Senior-level",
          "Senior-level",
          "Entry-level",
          "Mid-level",
          "Mid-level",
          "Senior-level",
          "Senior-level",
          "Mid-level",
          "Senior-level",
          "Senior-level",
          "Senior-level",
          "Mid-level",
          "Entry-level",
          "Senior-level",
          "Entry-level",
          "Senior-level",
          "Entry-level",
          "Senior-level",
          "Entry-level",
          "Entry-level",
          "Executive-level",
          "Entry-level",
          "Executive-level",
          "Senior-level",
          "Senior-level",
          "Senior-level",
          "Senior-level",
          "Senior-level",
          "Senior-level",
          "Mid-level",
          "Executive-level",
          "Senior-level",
          "Senior-level",
          "Senior-level",
          "Senior-level",
          "Mid-level",
          "Senior-level",
          "Executive-level",
          "Senior-level",
          "Senior-level",
          "Senior-level",
          "Entry-level",
          "Senior-level",
          "Entry-level",
          "Senior-level",
          "Senior-level",
          "Mid-level",
          "Entry-level",
          "Mid-level",
          "Entry-level",
          "Senior-level",
          "Executive-level",
          "Entry-level",
          "Senior-level",
          "Executive-level",
          "Senior-level",
          "Senior-level",
          "Entry-level",
          "Senior-level",
          "Senior-level",
          "Senior-level",
          "Senior-level",
          "Senior-level",
          "Senior-level",
          "Mid-level",
          "Entry-level",
          "Senior-level",
          "Senior-level",
          "Entry-level",
          "Senior-level",
          "Senior-level",
          "Senior-level",
          "Entry-level",
          "Senior-level",
          "Mid-level",
          "Senior-level",
          "Senior-level",
          "Executive-level",
          "Entry-level",
          "Executive-level",
          "Senior-level",
          "Senior-level",
          "Senior-level",
          "Senior-level",
          "Senior-level",
          "Entry-level",
          "Senior-level",
          "Entry-level",
          "Senior-level",
          "Senior-level",
          "Senior-level",
          "Entry-level",
          "Senior-level",
          "Executive-level",
          "Senior-level",
          "Senior-level",
          "Senior-level",
          "Senior-level",
          "Senior-level",
          "Senior-level",
          "Entry-level",
          "Senior-level",
          "Mid-level",
          "Senior-level",
          "Senior-level",
          "Entry-level",
          "Senior-level",
          "Senior-level",
          "Entry-level",
          "Mid-level",
          "Senior-level",
          "Senior-level",
          "Senior-level",
          "Senior-level",
          "Senior-level",
          "Senior-level",
          "Senior-level",
          "Mid-level",
          "Senior-level",
          "Senior-level",
          "Senior-level",
          "Senior-level",
          "Mid-level",
          "Senior-level",
          "Entry-level",
          "Mid-level",
          "Mid-level",
          "Senior-level",
          "Mid-level",
          "Senior-level",
          "Senior-level",
          "Entry-level",
          "Mid-level",
          "Senior-level",
          "Senior-level",
          "Senior-level",
          "Mid-level",
          "Entry-level",
          "Senior-level",
          "Senior-level",
          "Senior-level",
          "Mid-level",
          "Senior-level",
          "Senior-level",
          "Mid-level",
          "Senior-level",
          "Mid-level",
          "Executive-level",
          "Senior-level",
          "Senior-level",
          "Senior-level",
          "Mid-level",
          "Senior-level",
          "Senior-level",
          "Senior-level",
          "Mid-level",
          "Executive-level",
          "Senior-level",
          "Executive-level",
          "Executive-level",
          "Entry-level",
          "Senior-level",
          "Entry-level",
          "Mid-level",
          "Senior-level",
          "Entry-level",
          "Entry-level",
          "Senior-level",
          "Mid-level",
          "Entry-level",
          "Senior-level",
          "Entry-level",
          "Senior-level",
          "Senior-level",
          "Senior-level",
          "Senior-level",
          "Entry-level",
          "Senior-level",
          "Senior-level",
          "Senior-level",
          "Senior-level",
          "Senior-level",
          "Entry-level",
          "Senior-level",
          "Entry-level",
          "Senior-level",
          "Mid-level",
          "Senior-level",
          "Senior-level",
          "Senior-level",
          "Mid-level",
          "Senior-level",
          "Senior-level",
          "Mid-level",
          "Executive-level",
          "Senior-level",
          "Entry-level",
          "Entry-level",
          "Senior-level",
          "Senior-level",
          "Senior-level",
          "Entry-level",
          "Senior-level",
          "Senior-level",
          "Senior-level",
          "Senior-level",
          "Mid-level",
          "Executive-level",
          "Senior-level",
          "Mid-level",
          "Entry-level",
          "Mid-level",
          "Senior-level",
          "Senior-level",
          "Senior-level",
          "Senior-level",
          "Entry-level",
          "Mid-level",
          "Executive-level",
          "Senior-level",
          "Executive-level",
          "Senior-level",
          "Senior-level",
          "Senior-level",
          "Senior-level",
          "Senior-level",
          "Senior-level",
          "Mid-level",
          "Mid-level",
          "Senior-level",
          "Senior-level",
          "Mid-level",
          "Senior-level",
          "Senior-level",
          "Entry-level",
          "Executive-level",
          "Entry-level",
          "Mid-level",
          "Senior-level",
          "Entry-level",
          "Senior-level",
          "Senior-level",
          "Mid-level",
          "Senior-level",
          "Senior-level",
          "Executive-level",
          "Entry-level",
          "Entry-level",
          "Senior-level",
          "Senior-level",
          "Senior-level",
          "Senior-level",
          "Mid-level",
          "Senior-level",
          "Mid-level",
          "Senior-level",
          "Entry-level",
          "Mid-level",
          "Senior-level",
          "Senior-level",
          "Senior-level",
          "Senior-level",
          "Mid-level",
          "Entry-level",
          "Mid-level",
          "Senior-level",
          "Senior-level",
          "Mid-level",
          "Senior-level",
          "Senior-level",
          "Mid-level",
          "Senior-level",
          "Senior-level",
          "Senior-level",
          "Senior-level",
          "Senior-level",
          "Senior-level",
          "Senior-level",
          "Senior-level",
          "Senior-level",
          "Senior-level",
          "Entry-level",
          "Senior-level",
          "Executive-level",
          "Senior-level",
          "Senior-level",
          "Senior-level",
          "Entry-level",
          "Executive-level",
          "Senior-level",
          "Entry-level",
          "Entry-level",
          "Entry-level",
          "Senior-level",
          "Mid-level",
          "Entry-level",
          "Entry-level",
          "Mid-level",
          "Senior-level",
          "Senior-level",
          "Entry-level",
          "Senior-level",
          "Senior-level",
          "Senior-level",
          "Senior-level",
          "Entry-level",
          "Senior-level",
          "Executive-level",
          "Entry-level",
          "Senior-level",
          "Senior-level",
          "Senior-level",
          "Entry-level",
          "Senior-level",
          "Senior-level",
          "Senior-level",
          "Senior-level",
          "Entry-level",
          "Entry-level",
          "Entry-level",
          "Executive-level",
          "Mid-level",
          "Senior-level",
          "Senior-level",
          "Senior-level",
          "Entry-level",
          "Senior-level",
          "Senior-level",
          "Senior-level",
          "Entry-level",
          "Senior-level",
          "Entry-level",
          "Senior-level",
          "Senior-level",
          "Executive-level",
          "Entry-level",
          "Mid-level",
          "Senior-level",
          "Senior-level",
          "Senior-level",
          "Senior-level",
          "Mid-level",
          "Senior-level",
          "Senior-level",
          "Mid-level",
          "Senior-level",
          "Senior-level",
          "Entry-level",
          "Senior-level",
          "Senior-level",
          "Mid-level",
          "Entry-level",
          "Senior-level",
          "Senior-level",
          "Senior-level",
          "Senior-level",
          "Entry-level",
          "Senior-level",
          "Senior-level",
          "Entry-level",
          "Executive-level",
          "Mid-level",
          "Mid-level",
          "Senior-level",
          "Senior-level",
          "Senior-level",
          "Senior-level",
          "Entry-level",
          "Entry-level",
          "Senior-level",
          "Senior-level",
          "Entry-level",
          "Senior-level",
          "Senior-level",
          "Senior-level",
          "Senior-level",
          "Mid-level",
          "Mid-level",
          "Senior-level",
          "Senior-level",
          "Entry-level",
          "Senior-level",
          "Entry-level",
          "Senior-level",
          "Senior-level",
          "Senior-level",
          "Senior-level",
          "Mid-level",
          "Mid-level",
          "Entry-level",
          "Entry-level",
          "Executive-level",
          "Entry-level",
          "Senior-level",
          "Senior-level",
          "Executive-level",
          "Senior-level",
          "Senior-level",
          "Senior-level",
          "Senior-level",
          "Mid-level",
          "Senior-level",
          "Senior-level",
          "Mid-level",
          "Senior-level",
          "Senior-level",
          "Senior-level",
          "Senior-level",
          "Senior-level",
          "Executive-level",
          "Entry-level",
          "Senior-level",
          "Entry-level",
          "Senior-level",
          "Entry-level",
          "Mid-level",
          "Senior-level",
          "Senior-level",
          "Mid-level",
          "Senior-level",
          "Senior-level",
          "Senior-level",
          "Mid-level",
          "Senior-level",
          "Executive-level",
          "Senior-level",
          "Senior-level",
          "Senior-level",
          "Senior-level",
          "Mid-level",
          "Entry-level",
          "Entry-level",
          "Entry-level",
          "Executive-level",
          "Senior-level",
          "Mid-level",
          "Senior-level",
          "Senior-level",
          "Mid-level",
          "Senior-level",
          "Mid-level",
          "Senior-level",
          "Mid-level",
          "Senior-level",
          "Senior-level",
          "Mid-level",
          "Senior-level",
          "Senior-level",
          "Mid-level",
          "Senior-level",
          "Senior-level",
          "Mid-level",
          "Senior-level",
          "Entry-level",
          "Senior-level",
          "Senior-level",
          "Mid-level",
          "Senior-level",
          "Executive-level",
          "Senior-level",
          "Senior-level",
          "Entry-level",
          "Senior-level",
          "Senior-level",
          "Senior-level",
          "Mid-level",
          "Entry-level",
          "Senior-level",
          "Entry-level",
          "Senior-level",
          "Mid-level",
          "Senior-level",
          "Senior-level",
          "Senior-level",
          "Entry-level",
          "Senior-level",
          "Mid-level",
          "Senior-level",
          "Entry-level",
          "Mid-level",
          "Entry-level",
          "Senior-level",
          "Mid-level",
          "Senior-level",
          "Senior-level",
          "Senior-level",
          "Mid-level",
          "Senior-level",
          "Senior-level",
          "Senior-level",
          "Senior-level",
          "Senior-level",
          "Executive-level",
          "Senior-level",
          "Executive-level",
          "Senior-level",
          "Senior-level",
          "Senior-level",
          "Entry-level",
          "Entry-level",
          "Senior-level",
          "Executive-level",
          "Entry-level",
          "Senior-level",
          "Executive-level",
          "Mid-level",
          "Senior-level",
          "Senior-level",
          "Executive-level",
          "Senior-level",
          "Senior-level",
          "Entry-level",
          "Mid-level",
          "Senior-level",
          "Entry-level",
          "Senior-level",
          "Senior-level",
          "Senior-level",
          "Senior-level",
          "Mid-level",
          "Senior-level",
          "Senior-level",
          "Entry-level",
          "Senior-level",
          "Entry-level",
          "Senior-level",
          "Mid-level",
          "Entry-level",
          "Executive-level",
          "Senior-level",
          "Senior-level",
          "Senior-level",
          "Entry-level",
          "Executive-level",
          "Senior-level",
          "Entry-level",
          "Entry-level",
          "Entry-level",
          "Senior-level",
          "Senior-level",
          "Senior-level",
          "Senior-level",
          "Senior-level",
          "Entry-level",
          "Mid-level",
          "Senior-level",
          "Senior-level",
          "Mid-level",
          "Entry-level",
          "Senior-level",
          "Senior-level",
          "Senior-level",
          "Senior-level",
          "Executive-level",
          "Senior-level",
          "Senior-level",
          "Entry-level",
          "Mid-level",
          "Senior-level",
          "Entry-level",
          "Mid-level",
          "Senior-level",
          "Entry-level",
          "Senior-level",
          "Senior-level",
          "Senior-level",
          "Senior-level",
          "Senior-level",
          "Senior-level",
          "Mid-level",
          "Senior-level",
          "Senior-level",
          "Mid-level",
          "Senior-level",
          "Mid-level",
          "Mid-level",
          "Senior-level",
          "Senior-level",
          "Senior-level",
          "Senior-level",
          "Senior-level",
          "Senior-level",
          "Entry-level",
          "Senior-level",
          "Senior-level",
          "Mid-level",
          "Mid-level",
          "Entry-level",
          "Senior-level",
          "Senior-level",
          "Senior-level",
          "Entry-level",
          "Senior-level",
          "Entry-level",
          "Senior-level",
          "Executive-level",
          "Senior-level",
          "Senior-level",
          "Senior-level",
          "Senior-level",
          "Senior-level",
          "Entry-level",
          "Senior-level",
          "Mid-level",
          "Senior-level",
          "Senior-level",
          "Executive-level",
          "Mid-level",
          "Senior-level",
          "Senior-level",
          "Senior-level",
          "Senior-level",
          "Senior-level",
          "Entry-level",
          "Entry-level",
          "Senior-level",
          "Entry-level",
          "Senior-level",
          "Senior-level",
          "Senior-level",
          "Executive-level",
          "Senior-level",
          "Senior-level",
          "Senior-level",
          "Senior-level",
          "Mid-level",
          "Senior-level",
          "Entry-level",
          "Senior-level",
          "Senior-level",
          "Senior-level",
          "Senior-level",
          "Senior-level",
          "Mid-level",
          "Entry-level",
          "Senior-level",
          "Senior-level",
          "Senior-level",
          "Mid-level",
          "Senior-level",
          "Senior-level",
          "Senior-level",
          "Senior-level",
          "Mid-level",
          "Senior-level",
          "Senior-level",
          "Executive-level",
          "Senior-level",
          "Senior-level",
          "Senior-level",
          "Executive-level",
          "Senior-level",
          "Senior-level",
          "Senior-level",
          "Senior-level",
          "Senior-level",
          "Mid-level",
          "Senior-level",
          "Senior-level",
          "Senior-level",
          "Senior-level",
          "Mid-level",
          "Senior-level",
          "Senior-level",
          "Entry-level",
          "Senior-level",
          "Senior-level",
          "Entry-level",
          "Entry-level",
          "Senior-level",
          "Mid-level",
          "Entry-level",
          "Executive-level",
          "Senior-level",
          "Entry-level",
          "Senior-level",
          "Mid-level",
          "Senior-level",
          "Senior-level",
          "Mid-level",
          "Mid-level",
          "Senior-level",
          "Senior-level",
          "Senior-level",
          "Senior-level",
          "Executive-level",
          "Senior-level",
          "Senior-level",
          "Mid-level",
          "Senior-level",
          "Entry-level",
          "Entry-level",
          "Senior-level",
          "Entry-level",
          "Senior-level",
          "Entry-level",
          "Entry-level",
          "Senior-level",
          "Mid-level",
          "Senior-level",
          "Senior-level",
          "Entry-level",
          "Mid-level",
          "Entry-level",
          "Senior-level",
          "Senior-level",
          "Executive-level",
          "Mid-level",
          "Entry-level",
          "Entry-level",
          "Senior-level",
          "Mid-level",
          "Entry-level",
          "Mid-level",
          "Senior-level",
          "Senior-level",
          "Senior-level",
          "Senior-level",
          "Senior-level",
          "Senior-level",
          "Senior-level",
          "Senior-level",
          "Entry-level",
          "Senior-level",
          "Executive-level",
          "Senior-level",
          "Senior-level",
          "Mid-level",
          "Mid-level",
          "Entry-level",
          "Senior-level",
          "Senior-level",
          "Entry-level",
          "Senior-level",
          "Mid-level",
          "Entry-level",
          "Entry-level",
          "Mid-level",
          "Senior-level",
          "Entry-level",
          "Entry-level",
          "Entry-level",
          "Entry-level",
          "Mid-level",
          "Mid-level",
          "Senior-level",
          "Senior-level",
          "Mid-level",
          "Senior-level",
          "Executive-level",
          "Senior-level",
          "Senior-level",
          "Senior-level",
          "Senior-level",
          "Senior-level",
          "Senior-level",
          "Senior-level",
          "Senior-level",
          "Executive-level",
          "Senior-level",
          "Entry-level",
          "Entry-level",
          "Mid-level",
          "Executive-level",
          "Entry-level",
          "Entry-level",
          "Senior-level",
          "Entry-level",
          "Senior-level",
          "Senior-level",
          "Entry-level",
          "Mid-level",
          "Senior-level",
          "Senior-level",
          "Senior-level",
          "Senior-level",
          "Entry-level",
          "Entry-level",
          "Senior-level",
          "Senior-level",
          "Senior-level",
          "Entry-level",
          "Mid-level",
          "Senior-level",
          "Mid-level",
          "Mid-level",
          "Senior-level",
          "Entry-level",
          "Senior-level",
          "Senior-level",
          "Senior-level",
          "Senior-level",
          "Senior-level",
          "Entry-level",
          "Senior-level",
          "Senior-level",
          "Senior-level",
          "Senior-level",
          "Entry-level",
          "Senior-level",
          "Senior-level",
          "Senior-level",
          "Senior-level",
          "Senior-level",
          "Senior-level",
          "Executive-level",
          "Senior-level",
          "Mid-level",
          "Mid-level",
          "Senior-level",
          "Mid-level",
          "Mid-level",
          "Senior-level",
          "Senior-level",
          "Senior-level",
          "Senior-level",
          "Senior-level",
          "Senior-level",
          "Senior-level",
          "Senior-level",
          "Mid-level",
          "Senior-level",
          "Senior-level",
          "Senior-level",
          "Senior-level",
          "Executive-level",
          "Senior-level",
          "Senior-level",
          "Mid-level",
          "Mid-level",
          "Entry-level",
          "Senior-level",
          "Mid-level",
          "Senior-level",
          "Mid-level",
          "Mid-level",
          "Senior-level",
          "Senior-level",
          "Senior-level",
          "Senior-level",
          "Senior-level",
          "Senior-level",
          "Senior-level",
          "Entry-level",
          "Senior-level",
          "Senior-level",
          "Entry-level",
          "Entry-level",
          "Entry-level",
          "Entry-level",
          "Senior-level",
          "Executive-level",
          "Senior-level",
          "Entry-level",
          "Entry-level",
          "Senior-level",
          "Senior-level",
          "Entry-level",
          "Senior-level",
          "Mid-level",
          "Mid-level",
          "Senior-level",
          "Senior-level",
          "Senior-level",
          "Executive-level",
          "Executive-level",
          "Senior-level",
          "Senior-level",
          "Senior-level",
          "Senior-level",
          "Senior-level",
          "Entry-level",
          "Senior-level",
          "Entry-level",
          "Senior-level",
          "Mid-level",
          "Senior-level",
          "Senior-level",
          "Executive-level",
          "Entry-level",
          "Mid-level",
          "Senior-level",
          "Entry-level",
          "Senior-level",
          "Senior-level",
          "Senior-level",
          "Senior-level",
          "Senior-level",
          "Senior-level",
          "Entry-level",
          "Entry-level",
          "Senior-level",
          "Senior-level",
          "Mid-level",
          "Mid-level",
          "Senior-level",
          "Entry-level",
          "Senior-level",
          "Senior-level",
          "Senior-level",
          "Senior-level",
          "Senior-level",
          "Senior-level",
          "Senior-level",
          "Entry-level",
          "Senior-level",
          "Senior-level",
          "Senior-level",
          "Senior-level",
          "Senior-level",
          "Senior-level",
          "Senior-level",
          "Entry-level",
          "Senior-level",
          "Senior-level",
          "Senior-level",
          "Entry-level",
          "Senior-level",
          "Senior-level",
          "Senior-level",
          "Senior-level",
          "Senior-level",
          "Senior-level",
          "Entry-level",
          "Senior-level",
          "Senior-level",
          "Executive-level",
          "Senior-level",
          "Senior-level",
          "Senior-level",
          "Mid-level",
          "Senior-level",
          "Mid-level",
          "Senior-level",
          "Senior-level",
          "Senior-level",
          "Entry-level",
          "Senior-level",
          "Entry-level",
          "Mid-level",
          "Entry-level",
          "Entry-level",
          "Entry-level",
          "Entry-level",
          "Senior-level",
          "Senior-level",
          "Senior-level",
          "Senior-level",
          "Entry-level",
          "Mid-level",
          "Senior-level",
          "Senior-level",
          "Senior-level",
          "Senior-level",
          "Senior-level",
          "Senior-level",
          "Entry-level",
          "Senior-level",
          "Mid-level",
          "Senior-level",
          "Senior-level",
          "Senior-level",
          "Entry-level",
          "Senior-level",
          "Senior-level",
          "Senior-level",
          "Senior-level",
          "Executive-level",
          "Mid-level",
          "Senior-level",
          "Mid-level",
          "Mid-level",
          "Senior-level",
          "Mid-level",
          "Senior-level",
          "Executive-level",
          "Senior-level",
          "Entry-level",
          "Senior-level",
          "Senior-level",
          "Senior-level",
          "Senior-level",
          "Senior-level",
          "Senior-level",
          "Senior-level",
          "Senior-level",
          "Mid-level",
          "Senior-level",
          "Executive-level",
          "Mid-level",
          "Senior-level",
          "Senior-level",
          "Mid-level",
          "Senior-level",
          "Senior-level",
          "Entry-level",
          "Mid-level",
          "Senior-level",
          "Senior-level",
          "Senior-level",
          "Senior-level",
          "Entry-level",
          "Senior-level",
          "Senior-level",
          "Senior-level",
          "Senior-level",
          "Mid-level",
          "Senior-level",
          "Senior-level",
          "Senior-level",
          "Senior-level",
          "Senior-level",
          "Senior-level",
          "Executive-level",
          "Entry-level",
          "Senior-level",
          "Senior-level",
          "Entry-level",
          "Senior-level",
          "Senior-level",
          "Entry-level",
          "Senior-level",
          "Senior-level",
          "Senior-level",
          "Senior-level",
          "Executive-level",
          "Mid-level",
          "Senior-level",
          "Senior-level",
          "Senior-level",
          "Mid-level",
          "Senior-level",
          "Entry-level",
          "Entry-level",
          "Entry-level",
          "Senior-level",
          "Executive-level",
          "Mid-level",
          "Senior-level",
          "Senior-level",
          "Mid-level",
          "Senior-level",
          "Entry-level",
          "Entry-level",
          "Mid-level",
          "Entry-level",
          "Senior-level",
          "Entry-level",
          "Entry-level",
          "Mid-level",
          "Mid-level",
          "Entry-level",
          "Entry-level",
          "Senior-level",
          "Senior-level",
          "Senior-level",
          "Senior-level",
          "Entry-level",
          "Entry-level",
          "Entry-level",
          "Senior-level",
          "Senior-level",
          "Mid-level",
          "Senior-level",
          "Executive-level",
          "Senior-level",
          "Mid-level",
          "Senior-level",
          "Entry-level",
          "Senior-level",
          "Entry-level",
          "Senior-level",
          "Senior-level",
          "Senior-level",
          "Entry-level",
          "Senior-level",
          "Senior-level",
          "Senior-level",
          "Entry-level",
          "Entry-level",
          "Senior-level",
          "Entry-level",
          "Senior-level",
          "Mid-level",
          "Senior-level",
          "Senior-level",
          "Senior-level",
          "Senior-level",
          "Senior-level",
          "Senior-level",
          "Senior-level",
          "Mid-level",
          "Senior-level",
          "Entry-level",
          "Executive-level",
          "Senior-level",
          "Entry-level",
          "Senior-level",
          "Entry-level",
          "Senior-level",
          "Senior-level",
          "Senior-level",
          "Senior-level",
          "Senior-level",
          "Senior-level",
          "Senior-level",
          "Senior-level",
          "Senior-level",
          "Senior-level",
          "Entry-level",
          "Senior-level",
          "Entry-level",
          "Mid-level",
          "Senior-level",
          "Senior-level",
          "Senior-level",
          "Senior-level",
          "Mid-level",
          "Senior-level",
          "Mid-level",
          "Entry-level",
          "Mid-level",
          "Senior-level",
          "Senior-level",
          "Executive-level",
          "Mid-level",
          "Senior-level",
          "Mid-level",
          "Senior-level",
          "Senior-level",
          "Mid-level",
          "Senior-level",
          "Senior-level",
          "Senior-level",
          "Mid-level",
          "Senior-level",
          "Entry-level",
          "Senior-level",
          "Senior-level",
          "Senior-level",
          "Senior-level",
          "Senior-level",
          "Senior-level",
          "Entry-level",
          "Executive-level",
          "Senior-level",
          "Senior-level",
          "Senior-level",
          "Senior-level",
          "Senior-level",
          "Senior-level",
          "Entry-level",
          "Mid-level",
          "Mid-level",
          "Senior-level",
          "Senior-level",
          "Senior-level",
          "Mid-level",
          "Mid-level",
          "Mid-level",
          "Senior-level",
          "Senior-level",
          "Senior-level",
          "Entry-level",
          "Mid-level",
          "Senior-level",
          "Executive-level",
          "Senior-level",
          "Senior-level",
          "Entry-level",
          "Executive-level",
          "Senior-level",
          "Mid-level",
          "Senior-level",
          "Entry-level",
          "Senior-level",
          "Senior-level",
          "Senior-level",
          "Senior-level",
          "Senior-level",
          "Senior-level",
          "Senior-level",
          "Mid-level",
          "Senior-level",
          "Senior-level",
          "Senior-level",
          "Senior-level",
          "Senior-level",
          "Entry-level",
          "Senior-level",
          "Mid-level",
          "Senior-level",
          "Entry-level",
          "Entry-level",
          "Senior-level",
          "Mid-level",
          "Senior-level",
          "Mid-level",
          "Senior-level",
          "Senior-level",
          "Senior-level",
          "Entry-level",
          "Senior-level",
          "Executive-level",
          "Entry-level",
          "Mid-level",
          "Entry-level",
          "Senior-level",
          "Entry-level",
          "Entry-level",
          "Senior-level",
          "Senior-level",
          "Entry-level",
          "Executive-level",
          "Mid-level",
          "Mid-level",
          "Mid-level",
          "Senior-level",
          "Senior-level",
          "Executive-level",
          "Senior-level",
          "Mid-level",
          "Senior-level",
          "Mid-level",
          "Executive-level",
          "Mid-level",
          "Entry-level",
          "Senior-level",
          "Senior-level",
          "Senior-level",
          "Entry-level",
          "Entry-level",
          "Senior-level",
          "Mid-level",
          "Senior-level",
          "Senior-level",
          "Senior-level",
          "Senior-level",
          "Senior-level",
          "Senior-level",
          "Mid-level",
          "Senior-level",
          "Senior-level",
          "Entry-level",
          "Mid-level",
          "Senior-level",
          "Senior-level",
          "Entry-level",
          "Executive-level",
          "Mid-level",
          "Senior-level",
          "Entry-level",
          "Mid-level",
          "Mid-level",
          "Executive-level",
          "Mid-level",
          "Senior-level",
          "Mid-level",
          "Mid-level",
          "Senior-level",
          "Mid-level",
          "Senior-level",
          "Mid-level",
          "Senior-level",
          "Senior-level",
          "Senior-level",
          "Senior-level",
          "Entry-level",
          "Mid-level",
          "Entry-level",
          "Mid-level",
          "Senior-level",
          "Senior-level",
          "Executive-level",
          "Entry-level",
          "Senior-level",
          "Senior-level",
          "Senior-level",
          "Senior-level",
          "Senior-level",
          "Senior-level",
          "Senior-level",
          "Senior-level",
          "Senior-level",
          "Senior-level",
          "Senior-level",
          "Senior-level",
          "Senior-level",
          "Senior-level",
          "Senior-level",
          "Senior-level",
          "Entry-level",
          "Senior-level",
          "Senior-level",
          "Entry-level",
          "Senior-level",
          "Senior-level",
          "Entry-level",
          "Entry-level",
          "Mid-level",
          "Senior-level",
          "Senior-level",
          "Senior-level",
          "Senior-level",
          "Senior-level",
          "Senior-level",
          "Entry-level",
          "Entry-level",
          "Executive-level",
          "Senior-level",
          "Senior-level",
          "Entry-level",
          "Senior-level",
          "Senior-level",
          "Senior-level",
          "Executive-level",
          "Senior-level",
          "Senior-level",
          "Mid-level",
          "Mid-level",
          "Senior-level",
          "Mid-level",
          "Senior-level",
          "Senior-level",
          "Entry-level",
          "Mid-level",
          "Senior-level",
          "Senior-level",
          "Senior-level",
          "Entry-level",
          "Senior-level",
          "Senior-level",
          "Senior-level",
          "Senior-level",
          "Entry-level",
          "Senior-level",
          "Executive-level",
          "Senior-level",
          "Executive-level",
          "Executive-level",
          "Mid-level",
          "Senior-level",
          "Senior-level",
          "Entry-level",
          "Mid-level",
          "Senior-level",
          "Senior-level",
          "Senior-level",
          "Entry-level",
          "Entry-level",
          "Senior-level",
          "Senior-level",
          "Entry-level",
          "Senior-level",
          "Senior-level",
          "Senior-level",
          "Mid-level",
          "Mid-level",
          "Senior-level",
          "Senior-level",
          "Senior-level",
          "Senior-level",
          "Entry-level",
          "Senior-level",
          "Mid-level",
          "Mid-level",
          "Entry-level",
          "Mid-level",
          "Senior-level",
          "Senior-level",
          "Senior-level",
          "Senior-level",
          "Senior-level",
          "Senior-level",
          "Senior-level",
          "Senior-level",
          "Senior-level",
          "Senior-level",
          "Entry-level",
          "Mid-level",
          "Entry-level",
          "Senior-level",
          "Senior-level",
          "Senior-level",
          "Senior-level",
          "Senior-level",
          "Mid-level",
          "Entry-level",
          "Mid-level",
          "Mid-level",
          "Senior-level",
          "Senior-level",
          "Senior-level",
          "Mid-level",
          "Senior-level",
          "Senior-level",
          "Senior-level",
          "Senior-level",
          "Senior-level",
          "Executive-level",
          "Executive-level",
          "Mid-level",
          "Senior-level",
          "Senior-level",
          "Senior-level",
          "Senior-level",
          "Senior-level",
          "Senior-level",
          "Senior-level",
          "Senior-level",
          "Senior-level",
          "Senior-level",
          "Executive-level",
          "Senior-level",
          "Executive-level",
          "Senior-level",
          "Senior-level",
          "Senior-level",
          "Entry-level",
          "Entry-level",
          "Executive-level",
          "Executive-level",
          "Entry-level",
          "Executive-level",
          "Entry-level",
          "Entry-level",
          "Senior-level",
          "Senior-level",
          "Entry-level",
          "Senior-level",
          "Entry-level",
          "Mid-level",
          "Mid-level",
          "Senior-level",
          "Entry-level",
          "Senior-level",
          "Senior-level",
          "Senior-level",
          "Entry-level",
          "Senior-level",
          "Entry-level",
          "Mid-level",
          "Mid-level",
          "Senior-level",
          "Senior-level",
          "Senior-level",
          "Mid-level",
          "Senior-level",
          "Entry-level",
          "Senior-level",
          "Senior-level",
          "Senior-level",
          "Senior-level",
          "Executive-level",
          "Senior-level",
          "Senior-level",
          "Entry-level",
          "Senior-level",
          "Senior-level",
          "Mid-level",
          "Senior-level",
          "Mid-level",
          "Senior-level",
          "Senior-level",
          "Senior-level",
          "Mid-level",
          "Entry-level",
          "Senior-level",
          "Senior-level",
          "Senior-level",
          "Entry-level",
          "Mid-level",
          "Senior-level",
          "Entry-level",
          "Senior-level",
          "Senior-level",
          "Senior-level",
          "Senior-level",
          "Mid-level",
          "Senior-level",
          "Mid-level",
          "Entry-level",
          "Senior-level",
          "Senior-level",
          "Senior-level",
          "Senior-level",
          "Senior-level",
          "Entry-level",
          "Entry-level",
          "Entry-level",
          "Senior-level",
          "Senior-level",
          "Senior-level",
          "Mid-level",
          "Senior-level",
          "Senior-level",
          "Senior-level",
          "Senior-level",
          "Mid-level",
          "Senior-level",
          "Senior-level",
          "Entry-level",
          "Senior-level",
          "Entry-level",
          "Mid-level",
          "Senior-level",
          "Senior-level",
          "Entry-level",
          "Senior-level",
          "Senior-level",
          "Senior-level",
          "Entry-level",
          "Senior-level",
          "Senior-level",
          "Entry-level",
          "Senior-level",
          "Mid-level",
          "Senior-level",
          "Senior-level",
          "Senior-level",
          "Senior-level",
          "Entry-level",
          "Senior-level",
          "Entry-level",
          "Mid-level",
          "Entry-level",
          "Mid-level",
          "Senior-level",
          "Mid-level",
          "Mid-level",
          "Senior-level",
          "Mid-level",
          "Entry-level",
          "Entry-level",
          "Senior-level",
          "Entry-level",
          "Senior-level",
          "Senior-level",
          "Senior-level",
          "Senior-level",
          "Senior-level",
          "Senior-level",
          "Senior-level",
          "Executive-level",
          "Senior-level",
          "Entry-level",
          "Senior-level",
          "Senior-level",
          "Mid-level",
          "Senior-level",
          "Senior-level",
          "Mid-level",
          "Entry-level",
          "Senior-level",
          "Entry-level",
          "Senior-level",
          "Senior-level",
          "Senior-level",
          "Senior-level",
          "Senior-level",
          "Senior-level",
          "Senior-level",
          "Senior-level",
          "Senior-level",
          "Senior-level",
          "Senior-level",
          "Entry-level",
          "Senior-level",
          "Mid-level",
          "Senior-level",
          "Senior-level",
          "Senior-level",
          "Senior-level",
          "Entry-level",
          "Senior-level",
          "Senior-level",
          "Senior-level",
          "Senior-level",
          "Senior-level",
          "Senior-level",
          "Entry-level",
          "Executive-level",
          "Mid-level",
          "Entry-level",
          "Entry-level",
          "Senior-level",
          "Senior-level",
          "Senior-level",
          "Mid-level",
          "Senior-level",
          "Senior-level",
          "Senior-level",
          "Senior-level",
          "Mid-level",
          "Senior-level",
          "Mid-level",
          "Mid-level",
          "Mid-level",
          "Entry-level",
          "Senior-level",
          "Senior-level",
          "Executive-level",
          "Senior-level",
          "Senior-level",
          "Senior-level",
          "Senior-level",
          "Senior-level",
          "Entry-level",
          "Senior-level",
          "Executive-level",
          "Entry-level",
          "Senior-level",
          "Senior-level",
          "Senior-level",
          "Senior-level",
          "Senior-level",
          "Senior-level",
          "Entry-level",
          "Entry-level",
          "Entry-level",
          "Entry-level",
          "Senior-level",
          "Mid-level",
          "Senior-level",
          "Senior-level",
          "Mid-level",
          "Mid-level",
          "Senior-level",
          "Senior-level",
          "Mid-level",
          "Mid-level",
          "Senior-level",
          "Senior-level",
          "Senior-level",
          "Entry-level",
          "Senior-level",
          "Senior-level",
          "Senior-level",
          "Senior-level",
          "Senior-level",
          "Entry-level",
          "Entry-level",
          "Entry-level",
          "Senior-level",
          "Entry-level",
          "Mid-level",
          "Senior-level",
          "Senior-level",
          "Senior-level",
          "Entry-level",
          "Senior-level",
          "Senior-level",
          "Senior-level",
          "Senior-level",
          "Senior-level",
          "Senior-level",
          "Entry-level",
          "Senior-level",
          "Senior-level",
          "Mid-level",
          "Mid-level",
          "Senior-level",
          "Executive-level",
          "Senior-level",
          "Senior-level",
          "Senior-level",
          "Mid-level",
          "Entry-level",
          "Senior-level",
          "Entry-level",
          "Senior-level",
          "Senior-level",
          "Entry-level",
          "Entry-level",
          "Senior-level",
          "Mid-level",
          "Senior-level",
          "Senior-level",
          "Senior-level",
          "Senior-level",
          "Senior-level",
          "Senior-level",
          "Entry-level",
          "Mid-level",
          "Entry-level",
          "Senior-level",
          "Senior-level",
          "Senior-level",
          "Mid-level",
          "Senior-level",
          "Entry-level",
          "Executive-level",
          "Entry-level",
          "Entry-level",
          "Senior-level",
          "Mid-level",
          "Senior-level",
          "Mid-level",
          "Senior-level",
          "Entry-level",
          "Mid-level",
          "Entry-level",
          "Senior-level",
          "Entry-level",
          "Senior-level",
          "Senior-level",
          "Senior-level",
          "Senior-level",
          "Senior-level",
          "Senior-level",
          "Senior-level",
          "Senior-level",
          "Senior-level",
          "Senior-level",
          "Mid-level",
          "Senior-level",
          "Senior-level",
          "Mid-level",
          "Senior-level",
          "Mid-level",
          "Entry-level",
          "Mid-level",
          "Senior-level",
          "Entry-level",
          "Senior-level",
          "Senior-level",
          "Senior-level",
          "Mid-level",
          "Senior-level",
          "Senior-level",
          "Entry-level",
          "Mid-level",
          "Senior-level",
          "Senior-level",
          "Senior-level",
          "Entry-level",
          "Senior-level",
          "Senior-level",
          "Senior-level",
          "Entry-level",
          "Senior-level",
          "Senior-level",
          "Senior-level",
          "Senior-level",
          "Senior-level",
          "Mid-level",
          "Senior-level",
          "Mid-level",
          "Entry-level",
          "Entry-level",
          "Mid-level",
          "Senior-level",
          "Senior-level",
          "Senior-level",
          "Mid-level",
          "Mid-level",
          "Senior-level",
          "Mid-level",
          "Senior-level",
          "Mid-level",
          "Senior-level",
          "Senior-level",
          "Senior-level",
          "Senior-level",
          "Executive-level",
          "Senior-level",
          "Senior-level",
          "Senior-level",
          "Senior-level",
          "Entry-level",
          "Senior-level",
          "Senior-level",
          "Senior-level",
          "Senior-level",
          "Mid-level",
          "Senior-level",
          "Senior-level",
          "Senior-level",
          "Entry-level",
          "Senior-level",
          "Senior-level",
          "Executive-level",
          "Senior-level",
          "Senior-level",
          "Senior-level",
          "Senior-level",
          "Mid-level",
          "Mid-level",
          "Mid-level",
          "Executive-level",
          "Mid-level",
          "Senior-level",
          "Executive-level",
          "Mid-level",
          "Senior-level",
          "Entry-level",
          "Senior-level",
          "Entry-level",
          "Senior-level",
          "Entry-level",
          "Senior-level",
          "Senior-level",
          "Mid-level",
          "Executive-level",
          "Senior-level",
          "Senior-level",
          "Senior-level",
          "Entry-level",
          "Senior-level",
          "Senior-level",
          "Senior-level",
          "Mid-level",
          "Senior-level",
          "Senior-level",
          "Mid-level",
          "Senior-level",
          "Senior-level",
          "Mid-level",
          "Senior-level",
          "Mid-level",
          "Senior-level",
          "Senior-level",
          "Mid-level",
          "Senior-level",
          "Senior-level",
          "Entry-level",
          "Senior-level",
          "Senior-level",
          "Entry-level",
          "Senior-level",
          "Senior-level",
          "Entry-level",
          "Senior-level",
          "Senior-level",
          "Senior-level",
          "Senior-level",
          "Entry-level",
          "Entry-level",
          "Senior-level",
          "Senior-level",
          "Senior-level",
          "Senior-level",
          "Senior-level",
          "Senior-level",
          "Mid-level",
          "Executive-level",
          "Entry-level",
          "Senior-level",
          "Senior-level",
          "Senior-level",
          "Senior-level",
          "Entry-level",
          "Mid-level",
          "Executive-level",
          "Senior-level",
          "Senior-level",
          "Executive-level",
          "Senior-level",
          "Entry-level",
          "Senior-level",
          "Entry-level",
          "Senior-level",
          "Senior-level",
          "Mid-level",
          "Senior-level",
          "Entry-level",
          "Executive-level",
          "Executive-level",
          "Executive-level",
          "Senior-level",
          "Entry-level",
          "Entry-level",
          "Senior-level",
          "Senior-level",
          "Mid-level",
          "Executive-level",
          "Senior-level",
          "Senior-level",
          "Entry-level",
          "Senior-level",
          "Senior-level",
          "Senior-level",
          "Senior-level",
          "Entry-level",
          "Senior-level",
          "Senior-level",
          "Mid-level",
          "Entry-level",
          "Mid-level",
          "Senior-level",
          "Entry-level",
          "Senior-level",
          "Senior-level",
          "Entry-level",
          "Executive-level",
          "Senior-level",
          "Senior-level",
          "Entry-level",
          "Mid-level",
          "Senior-level",
          "Entry-level",
          "Senior-level",
          "Senior-level",
          "Senior-level",
          "Executive-level",
          "Senior-level",
          "Mid-level",
          "Senior-level",
          "Entry-level",
          "Senior-level",
          "Entry-level",
          "Entry-level",
          "Senior-level",
          "Senior-level",
          "Entry-level",
          "Senior-level",
          "Senior-level",
          "Senior-level",
          "Senior-level",
          "Entry-level",
          "Senior-level",
          "Mid-level",
          "Senior-level",
          "Senior-level",
          "Senior-level",
          "Senior-level",
          "Senior-level",
          "Senior-level",
          "Mid-level",
          "Senior-level",
          "Mid-level",
          "Senior-level",
          "Senior-level",
          "Entry-level",
          "Senior-level",
          "Senior-level",
          "Entry-level",
          "Senior-level",
          "Executive-level",
          "Entry-level",
          "Senior-level",
          "Mid-level",
          "Senior-level",
          "Senior-level",
          "Entry-level",
          "Executive-level",
          "Entry-level",
          "Senior-level",
          "Senior-level",
          "Executive-level",
          "Senior-level",
          "Executive-level",
          "Entry-level",
          "Senior-level",
          "Senior-level",
          "Senior-level",
          "Senior-level",
          "Senior-level",
          "Senior-level",
          "Senior-level",
          "Senior-level",
          "Senior-level",
          "Senior-level",
          "Senior-level",
          "Entry-level",
          "Senior-level",
          "Senior-level",
          "Executive-level",
          "Entry-level",
          "Senior-level",
          "Mid-level",
          "Mid-level",
          "Entry-level",
          "Senior-level",
          "Entry-level",
          "Mid-level",
          "Senior-level",
          "Mid-level",
          "Senior-level",
          "Senior-level",
          "Senior-level",
          "Mid-level",
          "Senior-level",
          "Mid-level",
          "Senior-level",
          "Executive-level",
          "Mid-level",
          "Mid-level",
          "Senior-level",
          "Entry-level",
          "Senior-level",
          "Mid-level",
          "Senior-level",
          "Senior-level",
          "Senior-level",
          "Senior-level",
          "Senior-level",
          "Senior-level",
          "Senior-level",
          "Senior-level",
          "Senior-level",
          "Mid-level",
          "Mid-level",
          "Executive-level",
          "Senior-level",
          "Senior-level",
          "Mid-level",
          "Senior-level",
          "Senior-level",
          "Senior-level",
          "Entry-level",
          "Senior-level",
          "Executive-level",
          "Entry-level",
          "Mid-level",
          "Senior-level",
          "Mid-level",
          "Senior-level",
          "Senior-level",
          "Senior-level",
          "Entry-level",
          "Senior-level",
          "Mid-level",
          "Senior-level",
          "Mid-level",
          "Mid-level",
          "Executive-level",
          "Senior-level",
          "Mid-level",
          "Executive-level",
          "Senior-level",
          "Mid-level",
          "Senior-level",
          "Mid-level",
          "Senior-level",
          "Senior-level",
          "Senior-level",
          "Senior-level",
          "Senior-level",
          "Senior-level",
          "Senior-level",
          "Senior-level",
          "Entry-level",
          "Entry-level",
          "Senior-level",
          "Senior-level",
          "Entry-level",
          "Senior-level",
          "Senior-level",
          "Senior-level",
          "Mid-level",
          "Senior-level",
          "Senior-level",
          "Senior-level",
          "Senior-level",
          "Senior-level",
          "Senior-level",
          "Entry-level",
          "Entry-level",
          "Entry-level",
          "Mid-level",
          "Senior-level",
          "Senior-level",
          "Entry-level",
          "Senior-level",
          "Senior-level",
          "Senior-level",
          "Senior-level",
          "Senior-level",
          "Senior-level",
          "Mid-level",
          "Senior-level",
          "Senior-level",
          "Entry-level",
          "Executive-level",
          "Senior-level",
          "Senior-level",
          "Mid-level",
          "Entry-level",
          "Entry-level",
          "Senior-level",
          "Senior-level",
          "Entry-level",
          "Senior-level",
          "Mid-level",
          "Senior-level",
          "Entry-level",
          "Senior-level",
          "Senior-level",
          "Senior-level",
          "Senior-level",
          "Senior-level",
          "Senior-level",
          "Senior-level",
          "Senior-level",
          "Entry-level",
          "Senior-level",
          "Senior-level",
          "Executive-level",
          "Senior-level",
          "Senior-level",
          "Entry-level",
          "Entry-level",
          "Senior-level",
          "Entry-level",
          "Entry-level",
          "Senior-level",
          "Senior-level",
          "Senior-level",
          "Senior-level",
          "Senior-level",
          "Senior-level",
          "Mid-level",
          "Entry-level",
          "Entry-level",
          "Executive-level",
          "Senior-level",
          "Senior-level",
          "Executive-level",
          "Senior-level",
          "Senior-level",
          "Senior-level",
          "Executive-level",
          "Senior-level",
          "Senior-level",
          "Executive-level",
          "Senior-level",
          "Mid-level",
          "Senior-level",
          "Senior-level",
          "Senior-level",
          "Senior-level",
          "Senior-level",
          "Executive-level",
          "Senior-level",
          "Senior-level",
          "Mid-level",
          "Entry-level",
          "Senior-level",
          "Mid-level",
          "Senior-level",
          "Senior-level",
          "Senior-level",
          "Senior-level",
          "Entry-level",
          "Senior-level",
          "Senior-level",
          "Senior-level",
          "Senior-level",
          "Mid-level",
          "Senior-level",
          "Executive-level",
          "Senior-level",
          "Senior-level",
          "Senior-level",
          "Entry-level",
          "Senior-level",
          "Entry-level",
          "Senior-level",
          "Mid-level",
          "Senior-level",
          "Senior-level",
          "Entry-level",
          "Entry-level",
          "Entry-level",
          "Entry-level",
          "Senior-level",
          "Senior-level",
          "Mid-level",
          "Entry-level",
          "Senior-level",
          "Senior-level",
          "Entry-level",
          "Senior-level",
          "Senior-level",
          "Senior-level",
          "Entry-level",
          "Senior-level",
          "Senior-level",
          "Senior-level",
          "Senior-level",
          "Senior-level",
          "Entry-level",
          "Senior-level",
          "Senior-level",
          "Mid-level",
          "Senior-level",
          "Senior-level",
          "Senior-level",
          "Senior-level",
          "Mid-level",
          "Senior-level",
          "Senior-level",
          "Senior-level",
          "Mid-level",
          "Mid-level",
          "Senior-level",
          "Entry-level",
          "Entry-level",
          "Entry-level",
          "Senior-level",
          "Senior-level",
          "Senior-level",
          "Senior-level",
          "Senior-level",
          "Senior-level",
          "Senior-level",
          "Mid-level",
          "Senior-level",
          "Senior-level",
          "Executive-level",
          "Executive-level",
          "Senior-level",
          "Mid-level",
          "Mid-level",
          "Senior-level",
          "Entry-level",
          "Entry-level",
          "Senior-level",
          "Senior-level",
          "Mid-level",
          "Senior-level",
          "Senior-level",
          "Senior-level",
          "Entry-level",
          "Senior-level",
          "Senior-level",
          "Senior-level",
          "Senior-level",
          "Entry-level",
          "Senior-level",
          "Senior-level",
          "Mid-level",
          "Entry-level",
          "Entry-level",
          "Executive-level",
          "Entry-level",
          "Entry-level",
          "Executive-level",
          "Executive-level",
          "Mid-level",
          "Entry-level",
          "Entry-level",
          "Senior-level",
          "Senior-level",
          "Senior-level",
          "Senior-level",
          "Mid-level",
          "Senior-level",
          "Entry-level",
          "Entry-level",
          "Senior-level",
          "Senior-level",
          "Mid-level",
          "Entry-level",
          "Senior-level",
          "Mid-level",
          "Senior-level",
          "Senior-level",
          "Senior-level",
          "Entry-level",
          "Senior-level",
          "Mid-level",
          "Entry-level",
          "Mid-level",
          "Senior-level",
          "Entry-level",
          "Executive-level",
          "Senior-level",
          "Senior-level",
          "Senior-level",
          "Senior-level",
          "Senior-level",
          "Senior-level",
          "Senior-level",
          "Senior-level",
          "Senior-level",
          "Mid-level",
          "Senior-level",
          "Mid-level",
          "Mid-level",
          "Mid-level",
          "Senior-level",
          "Entry-level",
          "Senior-level",
          "Senior-level",
          "Entry-level",
          "Senior-level"
         ],
         "x0": " ",
         "xaxis": "x",
         "y": [
          48000,
          48000,
          90000,
          48000,
          108000,
          184000,
          39000,
          49751.95822454308,
          49751.95822454308,
          140000,
          40000,
          80000,
          35000,
          62000,
          39000,
          159000,
          97000,
          92000,
          48000,
          129000,
          92000,
          115000,
          39000,
          44000,
          73000,
          40000,
          59000,
          106000,
          129000,
          92000,
          105000,
          55000,
          115000,
          110000,
          140000,
          129000,
          63000,
          49000,
          180000,
          105534.79452054795,
          115000,
          62000,
          73000,
          127000,
          49751.95822454308,
          60000,
          129000,
          92000,
          45000,
          115000,
          135000,
          69000,
          129000,
          176000,
          65000,
          40000,
          62000,
          48000,
          51000,
          67000,
          104000,
          92000,
          69000,
          73000,
          115000,
          105000,
          51000,
          166000,
          62000,
          80000,
          131000,
          62000,
          115000,
          69000,
          129000,
          49751.95822454308,
          40000,
          65000,
          43000,
          92000,
          45000,
          81000,
          35000,
          69000,
          92000,
          62000,
          65000,
          105534.79452054795,
          115000,
          69000,
          140000,
          65000,
          69000,
          96000,
          39000,
          69000,
          56000,
          39000,
          131000,
          62000,
          62000,
          115000,
          115000,
          130000,
          73000,
          92000,
          131000,
          44000,
          115000,
          73000,
          50000,
          48000,
          59000,
          100000,
          129000,
          60000,
          52000,
          62000,
          135000,
          76000,
          129000,
          73000,
          92000,
          129000,
          62000,
          50000,
          172000,
          119000,
          125000,
          92000,
          116000,
          77000,
          74000,
          70000,
          120000,
          115000,
          115000,
          65000,
          59000,
          73000,
          92000,
          51000,
          62000,
          115000,
          69000,
          55000,
          48000,
          115000,
          92000,
          50000,
          69000,
          176000,
          40000,
          189000,
          39000,
          149000,
          92000,
          130000,
          48000,
          110000,
          115000,
          131000,
          40000,
          69000,
          62000,
          90000,
          51000,
          110000,
          105534.79452054795,
          120000,
          49751.95822454308,
          73000,
          115000,
          39000,
          92000,
          131000,
          49000,
          105000,
          115000,
          30000,
          131000,
          115000,
          81000,
          35000,
          167000,
          236000,
          129000,
          115000,
          92000,
          77000,
          62000,
          50000,
          69000,
          40000,
          51000,
          131000,
          62000,
          35000,
          135000,
          65000,
          81000,
          105534.79452054795,
          179000,
          100000,
          35000,
          56000,
          92000,
          80000,
          66174.4966442953,
          49000,
          167000,
          200000,
          30000,
          49751.95822454308,
          30000,
          30000,
          73000,
          49751.95822454308,
          73000,
          48000,
          115000,
          62000,
          139000,
          129000,
          113000,
          59000,
          81000,
          150000,
          39000,
          45000,
          158000,
          96000,
          55000,
          40000,
          184000,
          100000,
          129000,
          96000,
          55000,
          40000,
          129000,
          92000,
          51000,
          81000,
          115000,
          48000,
          65000,
          73000,
          50000,
          60000,
          129000,
          55000,
          44000,
          115000,
          133000,
          120000,
          73000,
          129000,
          131000,
          115000,
          55000,
          70000,
          81000,
          129000,
          104000,
          92000,
          62000,
          105000,
          50000,
          55000,
          115000,
          135000,
          69000,
          50000,
          105534.79452054795,
          51000,
          51000,
          78000,
          73000,
          80000,
          55000,
          73000,
          77000,
          92000,
          48000,
          62000,
          36000,
          40000,
          56000,
          96000,
          48000,
          129000,
          56000,
          115000,
          105000,
          60000,
          92000,
          48000,
          115000,
          105534.79452054795,
          80000,
          96000,
          105534.79452054795,
          51000,
          69000,
          115000,
          122000,
          48000,
          62000,
          92000,
          69000,
          131000,
          120000,
          184000,
          81000,
          115000,
          40000,
          49751.95822454308,
          115000,
          39000,
          59000,
          55000,
          62000,
          59000,
          81000,
          48000,
          105000,
          115000,
          49751.95822454308,
          105534.79452054795,
          92000,
          55000,
          62000,
          130000,
          105534.79452054795,
          49000,
          55000,
          130000,
          73000,
          62000,
          69000,
          129000,
          190000,
          62000,
          72000,
          129000,
          62000,
          92000,
          59000,
          56000,
          45000,
          49751.95822454308,
          92000,
          49751.95822454308,
          45000,
          92000,
          136000,
          115000,
          129000,
          131000,
          115000,
          40000,
          73000,
          62000,
          49000,
          69000,
          73000,
          62000,
          102000,
          51000,
          105534.79452054795,
          65000,
          31000,
          56000,
          131000,
          65000,
          89000,
          190000,
          92000,
          73000,
          115000,
          115000,
          115000,
          92000,
          69000,
          139000,
          135000,
          45000,
          115000,
          89000,
          156000,
          92000,
          35000,
          62000,
          110000,
          73000,
          80000,
          92000,
          62000,
          39000,
          92000,
          40000,
          70000,
          62000,
          130000,
          62000,
          92000,
          100000,
          50000,
          45000,
          172000,
          105534.79452054795,
          77000,
          40000,
          49751.95822454308,
          80000,
          92000,
          131000,
          49751.95822454308,
          92000,
          80000,
          48000,
          110000,
          49751.95822454308,
          107000,
          131000,
          115000,
          115000,
          73000,
          49751.95822454308,
          199000,
          62000,
          51000,
          51000,
          59000,
          62000,
          48000,
          73000,
          135000,
          80000,
          120000,
          224000,
          51000,
          115000,
          36000,
          39000,
          55000,
          62000,
          142000,
          35000,
          183000,
          77000,
          56000,
          105534.79452054795,
          40000,
          164000,
          130000,
          69000,
          92000,
          62000,
          69000,
          174000,
          92000,
          84000,
          62000,
          56000,
          80000,
          50000,
          62000,
          35000,
          60000,
          48000,
          55000,
          49751.95822454308,
          92000,
          60000,
          115000,
          62000,
          100000,
          63000,
          55000,
          45000,
          55000,
          79000,
          92000,
          96000,
          55000,
          65000,
          50000,
          48000,
          133000,
          62000,
          50000,
          35000,
          73000,
          65000,
          48000,
          131000,
          69000,
          39000,
          105534.79452054795,
          135000,
          103000,
          81000,
          143000,
          98803.27868852459,
          69000,
          69000,
          129000,
          56000,
          73000,
          51000,
          55000,
          65000,
          49751.95822454308,
          135000,
          84000,
          73000,
          115000,
          49751.95822454308,
          48000,
          51000,
          49751.95822454308,
          60000,
          48000,
          55000,
          90000,
          62000,
          73000,
          59000,
          73000,
          73000,
          129000,
          129000,
          62000,
          45000,
          129000,
          62000,
          49751.95822454308,
          49751.95822454308,
          60000,
          44000,
          55000,
          175000,
          104000,
          62000,
          45000,
          115000,
          200000,
          40000,
          40000,
          170000,
          49751.95822454308,
          73000,
          102000,
          30000,
          92000,
          131000,
          62000,
          65000,
          115000,
          129000,
          176000,
          44000,
          129000,
          69000,
          39000,
          129000,
          40000,
          63000,
          52000,
          96000,
          56000,
          62000,
          115000,
          49751.95822454308,
          164000,
          77000,
          105534.79452054795,
          74000,
          105534.79452054795,
          129000,
          60000,
          62000,
          184000,
          141000,
          92000,
          92000,
          62000,
          135000,
          129000,
          62000,
          65000,
          62000,
          92000,
          90000,
          283000,
          56000,
          129000,
          81000,
          48000,
          72000,
          59000,
          200000,
          115000,
          151000,
          62000,
          39000,
          131000,
          90000,
          105000,
          73000,
          151000,
          40000,
          111000,
          92000,
          77000,
          62000,
          115000,
          115000,
          115000,
          51000,
          48000,
          62000,
          150000,
          55000,
          62000,
          92000,
          81000,
          48000,
          129000,
          150000,
          135000,
          92000,
          69000,
          135000,
          92000,
          69000,
          92000,
          69000,
          51000,
          135000,
          50000,
          130000,
          140000,
          39000,
          35000,
          55000,
          62000,
          92000,
          131000,
          73000,
          48000,
          115000,
          44000,
          92000,
          62000,
          49000,
          129000,
          35000,
          96000,
          120000,
          48000,
          148000,
          65000,
          283000,
          56000,
          69000,
          204000,
          49751.95822454308,
          115000,
          69000,
          69000,
          62000,
          115000,
          70000,
          77000,
          56000,
          39000,
          106000,
          62000,
          39000,
          59000,
          96000,
          202000,
          51000,
          142000,
          92000,
          295000,
          200000,
          140000,
          59000,
          74000,
          45000,
          184000,
          68000,
          52000,
          92000,
          110000,
          62000,
          48000,
          60000,
          49000,
          51000,
          30000,
          105534.79452054795,
          63000,
          77000,
          184000,
          35000,
          131000,
          65000,
          62000,
          50000,
          105534.79452054795,
          39000,
          92000,
          65000,
          142000,
          69000,
          283000,
          195000,
          39000,
          62000,
          39000,
          39000,
          56000,
          170000,
          62000,
          142000,
          145000,
          139000,
          283000,
          50000,
          115000,
          115000,
          267000,
          50000,
          49000,
          110000,
          56000,
          129000,
          125000,
          115000,
          283000,
          115000,
          51000,
          98803.27868852459,
          159000,
          55000,
          131000,
          131000,
          80000,
          130000,
          115000,
          48000,
          131000,
          40000,
          74000,
          69000,
          50000,
          73000,
          55000,
          51000,
          55000,
          105534.79452054795,
          200000,
          56000,
          89000,
          115000,
          148000,
          115000,
          109000,
          73000,
          56000,
          63000,
          73000,
          69000,
          115000,
          49751.95822454308,
          51000,
          60000,
          62000,
          51000,
          73000,
          295000,
          115000,
          105534.79452054795,
          136000,
          310000,
          39000,
          115000,
          102000,
          81000,
          89000,
          62000,
          69000,
          73000,
          153000,
          115000,
          39000,
          154000,
          129000,
          115000,
          55000,
          150000,
          49751.95822454308,
          115000,
          110000,
          49751.95822454308,
          86000,
          51000,
          49751.95822454308,
          70000,
          105534.79452054795,
          51000,
          51000,
          115000,
          200000,
          110000,
          62000,
          73000,
          135000,
          44000,
          69000,
          110000,
          50000,
          129000,
          65000,
          70000,
          131000,
          56000,
          65000,
          102000,
          62000,
          131000,
          65000,
          63000,
          39000,
          92000,
          207000,
          80000,
          136000,
          85000,
          92000,
          105534.79452054795,
          69000,
          115000,
          97000,
          70000,
          73000,
          73000,
          69000,
          65000,
          92000,
          66000,
          92000,
          49751.95822454308,
          62000,
          103000,
          79000,
          89000,
          62000,
          150000,
          200000,
          115000,
          315000,
          49751.95822454308,
          55000,
          160000,
          129000,
          172000,
          48000,
          48000,
          113000,
          63000,
          49751.95822454308,
          55000,
          69000,
          55000,
          78000,
          92000,
          73000,
          66000,
          40000,
          115000,
          129000,
          92000,
          55000,
          115000,
          35000,
          142000,
          50000,
          115000,
          73000,
          55000,
          131000,
          115000,
          100000,
          73000,
          65000,
          30000,
          267000,
          62000,
          92000,
          73000,
          48000,
          55000,
          49751.95822454308,
          45000,
          73000,
          49000,
          115000,
          45000,
          151000,
          110000,
          62000,
          63000,
          39000,
          115000,
          40000,
          115000,
          59000,
          92000,
          39000,
          56000,
          73000,
          30000,
          144000,
          131000,
          140000,
          115000,
          245000,
          69000,
          62000,
          175000,
          102000,
          119000,
          115000,
          110000,
          62000,
          65000,
          224000,
          92000,
          160000,
          159000,
          189000,
          39000,
          126000,
          63000,
          92000,
          62000,
          60000,
          49751.95822454308,
          65000,
          44000,
          129000,
          92000,
          30000,
          136000,
          65000,
          69000,
          69000,
          35000,
          63000,
          105534.79452054795,
          69000,
          62000,
          115000,
          115000,
          135000,
          49751.95822454308,
          129000,
          55000,
          48000,
          105000,
          139000,
          62000,
          59000,
          131000,
          73000,
          62000,
          90000,
          200000,
          56000,
          96000,
          92000,
          92000,
          92000,
          129000,
          62000,
          39000,
          182000,
          39000,
          69000,
          131000,
          62000,
          44000,
          150000,
          92000,
          115000,
          159000,
          55000,
          184000,
          70000,
          115000,
          40000,
          69000,
          60000,
          136000,
          157000,
          35000,
          115000,
          156000,
          49751.95822454308,
          51000,
          110000,
          172000,
          69000,
          105000,
          214000,
          115000,
          129000,
          56000,
          129000,
          129000,
          167000,
          115000,
          65000,
          62000,
          56000,
          60000,
          65000,
          167000,
          65000,
          115000,
          173000,
          39000,
          73000,
          115000,
          92000,
          92000,
          74000,
          48000,
          184000,
          115000,
          92000,
          51000,
          62000,
          92000,
          73000,
          92000,
          45000,
          96000,
          49000,
          80000,
          92000,
          65000,
          69000,
          110000,
          72000,
          200000,
          73000,
          69000,
          92000,
          102000,
          35000,
          115000,
          30000,
          40000,
          55000,
          48000,
          48000,
          129000,
          65000,
          59000,
          115000,
          39000,
          55000,
          156000,
          62000,
          129000,
          30000,
          173000,
          62000,
          70000,
          106000,
          78000,
          48000,
          167000,
          35000,
          55000,
          56000,
          120000,
          135000,
          110000,
          73000,
          115000,
          36000,
          65000,
          65000,
          62000,
          48000,
          59000,
          115000,
          131000,
          55000,
          56000,
          55000,
          115000,
          167000,
          190000,
          70000,
          92000,
          115000,
          60000,
          59000,
          42000,
          55000,
          131000,
          129000,
          119000,
          105000,
          63000,
          96000,
          105534.79452054795,
          96000,
          129000,
          110000,
          129000,
          119000,
          69000,
          150000,
          40000,
          45000,
          62000,
          97000,
          65000,
          129000,
          115000,
          49751.95822454308,
          200000,
          49751.95822454308,
          63000,
          69000,
          59000,
          115000,
          136000,
          74000,
          69000,
          148000,
          130000,
          103000,
          49751.95822454308,
          129000,
          92000,
          69000,
          110000,
          45000,
          129000,
          73000,
          105534.79452054795,
          35000,
          74000,
          69000,
          92000,
          112000,
          131000,
          51000,
          49751.95822454308,
          51000,
          105534.79452054795,
          130000,
          65000,
          55000,
          115000,
          77000,
          124000,
          69000,
          110000,
          130000,
          140000,
          167000,
          148000,
          69000,
          185000,
          69000,
          49751.95822454308,
          69000,
          96000,
          55000,
          129000,
          129000,
          48000,
          81000,
          105534.79452054795,
          59000,
          48000,
          52000,
          62000,
          81000,
          52000,
          48000,
          106000,
          147000,
          104000,
          59000,
          115000,
          55000,
          115000,
          129000,
          39000,
          77000,
          81000,
          84000,
          131000,
          135000,
          55000,
          39000,
          92000,
          129000,
          62000,
          167000,
          59000,
          49751.95822454308,
          39000,
          92000,
          100000,
          69000,
          129000,
          144000,
          49751.95822454308,
          115000,
          122000,
          55000,
          49751.95822454308,
          135000,
          48000,
          105000,
          129000,
          130000,
          48000,
          60000,
          92000,
          80000,
          115000,
          139000,
          40000,
          55000,
          69000,
          65000,
          115000,
          55000,
          129000,
          92000,
          70000,
          81000,
          70000,
          131000,
          100000,
          115000,
          115000,
          44000,
          69000,
          92000,
          144000,
          66000,
          73000,
          65000,
          167000,
          70000,
          62000,
          69000,
          49751.95822454308,
          39000,
          129000,
          92000,
          48000,
          36000,
          62000,
          69000,
          55000,
          74000,
          73000,
          62000,
          146000,
          48000,
          129000,
          49751.95822454308,
          62000,
          92000,
          55000,
          55000,
          74000,
          70000,
          48000,
          48000,
          96000,
          39000,
          131000,
          129000,
          98803.27868852459,
          105534.79452054795,
          129000,
          77000,
          142000,
          40000,
          131000,
          135000,
          56000,
          144000,
          131000,
          103000,
          165000,
          115000,
          92000,
          49751.95822454308,
          115000,
          39000,
          131000,
          48000,
          120000,
          105534.79452054795,
          92000,
          60000,
          129000,
          49000,
          204000,
          60000,
          62000,
          130000,
          166000,
          115000,
          55000,
          69000,
          73000,
          59000,
          30000,
          49751.95822454308,
          81000,
          90000,
          106000,
          115000,
          110000,
          65000,
          75000,
          56000,
          75000,
          73000,
          115000,
          110000,
          63000,
          62000,
          62000,
          60000,
          163000,
          110000,
          80000,
          69000,
          49751.95822454308,
          55000,
          129000,
          73000,
          92000,
          96000,
          69000,
          135000,
          49751.95822454308,
          283000,
          295000,
          92000,
          73000,
          44000,
          70000,
          40000,
          92000,
          100000,
          193000,
          129000,
          109000,
          63000,
          131000,
          60000,
          92000,
          44000,
          60000,
          48000,
          218000,
          60000,
          62000,
          55000,
          180000,
          73000,
          267000,
          159000,
          200000,
          115000,
          105534.79452054795,
          230000,
          55000,
          98803.27868852459,
          55000,
          131000,
          139000,
          40000,
          40000,
          69000,
          102000,
          51000,
          295000,
          130000,
          40000,
          283000,
          115000,
          96000,
          115000,
          135000,
          40000,
          65000,
          310000,
          85000,
          168000,
          134000,
          55000,
          115000,
          60000,
          92000,
          62000,
          49751.95822454308,
          115000,
          50000,
          115000,
          56000,
          50000,
          96000,
          50000,
          69000,
          283000,
          48000,
          65000,
          283000,
          48000,
          49751.95822454308,
          39000,
          69000,
          69000,
          115000,
          142000,
          62000,
          49751.95822454308,
          60000,
          129000,
          135000,
          80000,
          39000,
          145000,
          133000,
          225000,
          69000,
          185000,
          55000,
          129000,
          48000,
          103000,
          60000,
          49751.95822454308,
          73000,
          113000,
          50000,
          184000,
          70000,
          147000,
          129000,
          55000,
          193000,
          73000,
          131000,
          104000,
          51000,
          92000,
          51000,
          51000,
          144000,
          253000,
          69000,
          110000,
          115000,
          85000,
          44000,
          115000,
          129000,
          80000,
          45000,
          59000,
          129000,
          115000,
          55000,
          56000,
          62000,
          39000,
          55000,
          96000,
          92000,
          184000,
          129000,
          105000,
          129000,
          44000,
          83000,
          45000,
          235000,
          62000,
          96000,
          45000,
          75000,
          69000,
          135000,
          55000,
          175000,
          49751.95822454308,
          56000,
          55000,
          49751.95822454308,
          110000,
          135000,
          69000,
          96000,
          55000,
          55000,
          62000,
          129000,
          103000,
          127000,
          56000,
          136000,
          129000,
          115000,
          55000,
          55000,
          73000,
          56000,
          129000,
          175000,
          55000,
          30000,
          127000,
          142000,
          187000,
          160000,
          74000,
          129000,
          227000,
          92000,
          92000,
          131000,
          62000,
          73000,
          129000,
          103000,
          55000,
          166000,
          92000,
          51000,
          129000,
          131000,
          144000,
          129000,
          65000,
          30000,
          160000,
          49751.95822454308,
          131000,
          115000,
          39000,
          48000,
          131000,
          51000,
          56000,
          65000,
          92000,
          56000,
          144000,
          65000,
          62000,
          62000,
          51000,
          80000,
          115000,
          69000,
          129000,
          129000,
          73000,
          115000,
          55000,
          74000,
          129000,
          56000,
          35000,
          129000,
          40000,
          62000,
          70000,
          35000,
          62000,
          63000,
          145000,
          142000,
          56000,
          73000,
          49751.95822454308,
          62000,
          92000,
          73000,
          63000,
          49751.95822454308,
          48000,
          115000,
          73000,
          49751.95822454308,
          73000,
          129000,
          73000,
          92000,
          129000,
          92000,
          126000,
          62000,
          92000,
          49751.95822454308,
          110000,
          65000,
          62000,
          62000,
          51000,
          45000,
          49751.95822454308,
          129000,
          62000,
          49751.95822454308,
          184000,
          45000,
          56000,
          59000,
          74000,
          62000,
          39000,
          48000,
          48000,
          31000,
          74000,
          61000,
          129000,
          69000,
          60000,
          105534.79452054795,
          65000,
          55000,
          89000,
          131000,
          92000,
          131000,
          115000,
          115000,
          171000,
          96000,
          62000,
          49751.95822454308,
          48000,
          70000,
          80000,
          49751.95822454308,
          49751.95822454308,
          129000,
          48000,
          92000,
          131000,
          59000,
          51000,
          115000,
          129000,
          234000,
          115000,
          49751.95822454308,
          49751.95822454308,
          69000,
          55000,
          92000,
          50000,
          63000,
          166000,
          73000,
          66174.4966442953,
          69000,
          49751.95822454308,
          69000,
          115000,
          115000,
          163000,
          115000,
          39000,
          115000,
          129000,
          55000,
          135000,
          59000,
          129000,
          166000,
          62000,
          92000,
          55000,
          163000,
          92000,
          69000,
          60000,
          30000,
          115000,
          73000,
          73000,
          193000,
          69000,
          115000,
          245000,
          108000,
          55000,
          151000,
          110000,
          51000,
          92000,
          62000,
          115000,
          56000,
          73000,
          92000,
          55000,
          103000,
          45000,
          35000,
          131000,
          77000,
          69000,
          73000,
          65000,
          69000,
          105000,
          164000,
          129000,
          55000,
          55000,
          92000,
          59000,
          115000,
          70000,
          49751.95822454308,
          49751.95822454308,
          59000,
          40000,
          129000,
          96000,
          62000,
          77000,
          105000,
          62000,
          89000,
          50000,
          77000,
          76000,
          135000,
          69000,
          115000,
          129000,
          141000,
          102000,
          63000,
          155000,
          92000,
          62000,
          55000,
          48000,
          115000,
          49751.95822454308,
          131000,
          73000,
          131000,
          200000,
          183000,
          56000,
          60000,
          115000,
          52000,
          92000,
          115000,
          92000,
          105534.79452054795,
          62000,
          56000,
          48000,
          135000,
          55000,
          55000,
          81000,
          63000,
          135000,
          50000,
          129000,
          245000,
          129000,
          189000,
          55000,
          62000,
          131000,
          56000,
          135000,
          115000,
          147000,
          62000,
          55000,
          62000,
          170000,
          56000,
          92000,
          144000,
          49000,
          59000,
          49000,
          130000,
          115000,
          110000,
          62000,
          131000,
          52000,
          159000,
          115000,
          92000,
          62000,
          142000,
          129000,
          73000,
          131000,
          81000,
          79000,
          55000,
          151000,
          39000,
          115000,
          48000,
          45000,
          49751.95822454308,
          49751.95822454308,
          48000,
          48000,
          119000,
          69000,
          129000,
          49000,
          35000,
          65000,
          105534.79452054795,
          92000,
          142000,
          49000,
          140000,
          115000,
          35000,
          62000,
          80000,
          70000,
          119000,
          129000,
          48000,
          62000,
          147000,
          160000,
          115000,
          130000,
          56000,
          135000,
          65000,
          65000,
          70000,
          65000,
          55000,
          92000,
          147000,
          49751.95822454308,
          115000,
          140000,
          115000,
          115000,
          105000,
          62000,
          84000,
          55000,
          40000,
          125000,
          130000,
          40000,
          175000,
          135000,
          74000,
          129000,
          115000,
          49751.95822454308,
          60000,
          105534.79452054795,
          55000,
          56000,
          62000,
          39000,
          105534.79452054795,
          129000,
          92000,
          62000,
          73000,
          49000,
          77000,
          55000,
          129000,
          131000,
          56000,
          81000,
          39000,
          144000,
          105534.79452054795,
          39000,
          129000,
          115000,
          50000,
          115000,
          110000,
          103000,
          69000,
          200000,
          45000,
          110000,
          105534.79452054795,
          55000,
          73000,
          92000,
          49751.95822454308,
          48000,
          59000,
          77000,
          90000,
          56000,
          129000,
          104000,
          106000,
          115000,
          56000,
          56000,
          60000,
          49751.95822454308,
          163000,
          59000,
          71000,
          73000,
          65000,
          50000,
          35000,
          115000,
          129000,
          62000,
          125000,
          59000,
          48000,
          49751.95822454308,
          129000,
          129000,
          73000,
          62000,
          73000,
          92000,
          90000,
          94000,
          135000,
          55000,
          49751.95822454308,
          92000,
          55000,
          175000,
          49751.95822454308,
          159000,
          115000,
          131000,
          44000,
          40000,
          62000,
          59000,
          92000,
          30000,
          129000,
          81000,
          62000,
          129000,
          140000,
          62000,
          31000,
          60000,
          69000,
          103000,
          57000,
          131000,
          39000,
          62000,
          49751.95822454308,
          129000,
          55000,
          129000,
          69000,
          187000,
          50000,
          115000,
          62000,
          136000,
          105534.79452054795,
          59000,
          105534.79452054795,
          48000,
          65000,
          69000,
          113000,
          110000,
          92000,
          80000,
          197000,
          102000,
          49751.95822454308,
          80000,
          115000,
          159000,
          98803.27868852459,
          140000,
          55000,
          45000,
          92000,
          105000,
          51000,
          129000,
          78000,
          82000,
          77000,
          62000,
          30000,
          160000,
          131000,
          105000,
          129000,
          55000,
          62000,
          70000,
          81000,
          105000,
          92000,
          160000,
          62000,
          135000,
          69000,
          50000,
          73000,
          65000,
          77000,
          131000,
          129000,
          56000,
          65000,
          60000,
          110000,
          62000,
          55000,
          48000,
          51000,
          115000,
          92000,
          170000,
          105534.79452054795,
          56000,
          96000,
          92000,
          60000,
          115000,
          49751.95822454308,
          62000,
          175000,
          115000,
          129000,
          55000,
          55000,
          62000,
          73000,
          110000,
          62000,
          55000,
          129000,
          55000,
          70000,
          135000,
          40000,
          69000,
          48000,
          39000,
          129000,
          73000,
          92000,
          66174.4966442953,
          135000,
          69000,
          92000,
          30000,
          115000,
          73000,
          49751.95822454308,
          73000,
          39000,
          62000,
          56000,
          40000,
          49000,
          115000,
          48000,
          81000,
          60000,
          80000,
          73000,
          50000,
          55000,
          80000,
          77000,
          73000,
          136000,
          73000,
          92000,
          73000,
          48000,
          69000,
          70000,
          129000,
          49751.95822454308,
          49751.95822454308,
          115000,
          60000,
          129000,
          110000,
          172000,
          115000,
          185000,
          92000,
          65000,
          92000,
          92000,
          49751.95822454308,
          51000,
          55000,
          62000,
          48000,
          81000,
          60000,
          177000,
          31000,
          65000,
          56000,
          65000,
          73000,
          129000,
          40000,
          65000,
          62000,
          74000,
          129000,
          56000,
          115000,
          62000,
          62000,
          104000,
          49751.95822454308,
          50000,
          48000,
          80000,
          156000,
          129000,
          102000,
          30000,
          79000,
          70000,
          69000,
          160000,
          184000,
          62000,
          164000,
          92000,
          119000,
          69000,
          131000,
          115000,
          235000,
          49000,
          55000,
          105534.79452054795,
          48000,
          129000,
          105534.79452054795,
          59000,
          62000,
          55000,
          49751.95822454308,
          56000,
          70000,
          30000,
          115000,
          70000,
          92000,
          131000,
          108000,
          39000,
          48000,
          130000,
          103000,
          92000,
          30000,
          62000,
          93000,
          115000,
          73000,
          115000,
          62000,
          135000,
          130000,
          100000,
          80000,
          75000,
          69000,
          49751.95822454308,
          65000,
          92000,
          115000,
          69000,
          49751.95822454308,
          129000,
          79000,
          131000,
          92000,
          49751.95822454308,
          135000,
          81000,
          156000,
          96000,
          81000,
          73000,
          92000,
          69000,
          48000,
          65000,
          131000,
          115000,
          170000,
          35000,
          48000,
          92000,
          92000,
          35000,
          104000,
          135000,
          62000,
          45000,
          51000,
          135000,
          69000,
          170000,
          55000,
          44000,
          115000,
          60000,
          73000,
          48000,
          74000,
          105000,
          49000,
          105534.79452054795,
          92000,
          62000,
          115000,
          115000,
          202000,
          89000,
          190000,
          44000,
          55000,
          30000,
          189000,
          92000,
          30000,
          73000,
          175000,
          60000,
          39000,
          115000,
          39000,
          140000,
          135000,
          92000,
          65000,
          129000,
          153000,
          62000,
          104000,
          121000,
          81000,
          200000,
          56000,
          105534.79452054795,
          69000,
          115000,
          115000,
          200000,
          62000,
          115000,
          129000,
          92000,
          92000,
          90000,
          69000,
          90000,
          164000,
          156000,
          62000,
          59000,
          42000,
          70000,
          90000,
          45000,
          90000,
          49751.95822454308,
          56000,
          142000,
          69000,
          59000,
          115000,
          42000,
          62000,
          75000,
          85000,
          49751.95822454308,
          69000,
          62000,
          115000,
          42000,
          184000,
          56000,
          62000,
          73000,
          69000,
          69000,
          92000,
          144000,
          62000,
          56000,
          115000,
          126000,
          115000,
          62000,
          90000,
          69000,
          105534.79452054795,
          35000,
          92000,
          129000,
          56000,
          115000,
          45000,
          110000,
          70000,
          152000,
          75000,
          49751.95822454308,
          142000,
          172000,
          135000,
          49751.95822454308,
          62000,
          105534.79452054795,
          49751.95822454308,
          115000,
          115000,
          115000,
          62000,
          63000,
          92000,
          161000,
          56000,
          115000,
          131000,
          68000,
          48000,
          92000,
          30000,
          59000,
          39000,
          55000,
          92000,
          90000,
          103000,
          129000,
          129000,
          115000,
          142000,
          56000,
          115000,
          30000,
          30000,
          155000,
          42000,
          142000,
          105534.79452054795,
          62000,
          59000,
          115000,
          62000,
          150000,
          77000,
          103000,
          152000,
          49751.95822454308,
          55000,
          56000,
          92000,
          115000,
          131000,
          92000,
          39000,
          129000,
          49751.95822454308,
          55000,
          56000,
          56000,
          92000,
          75000,
          140000,
          55000,
          73000,
          49751.95822454308,
          59000,
          129000,
          42000,
          182000,
          69000,
          55000,
          92000,
          62000,
          92000,
          92000,
          90000,
          92000,
          42000,
          129000,
          132000,
          62000,
          115000,
          79000,
          74000,
          50000,
          125000,
          42000,
          92000,
          103000,
          115000,
          165000,
          115000,
          129000,
          115000,
          129000,
          129000,
          115000,
          134000,
          59000,
          131000,
          51000,
          92000,
          92000,
          115000,
          126000,
          35000,
          183000,
          115000,
          129000,
          69000,
          115000,
          77000,
          35000,
          65000,
          55000,
          49751.95822454308,
          39000,
          55000,
          110000,
          55000,
          74000,
          129000,
          115000,
          69000,
          138000,
          74000,
          115000,
          79000,
          77000,
          51000,
          44000,
          196000,
          131000,
          102000,
          115000,
          115000,
          55000,
          131000,
          62000,
          56000,
          205000,
          90000,
          56000,
          56000,
          110000,
          62000,
          267000,
          62000,
          131000,
          39000,
          39000,
          35000,
          59000,
          55000,
          62000,
          115000,
          153000,
          73000,
          65000,
          115000,
          140000,
          70000,
          112000,
          150000,
          115000,
          178000,
          49751.95822454308,
          115000,
          92000,
          115000,
          92000,
          131000,
          39000,
          56000,
          125000,
          185000,
          42000,
          73000,
          129000,
          30000,
          105534.79452054795,
          59000,
          55000,
          115000,
          69000,
          131000,
          129000,
          62000,
          35000,
          140000,
          115000,
          55000,
          77000,
          197000,
          102000,
          55000,
          92000,
          135000,
          55000,
          42000,
          92000,
          42000,
          115000,
          55000,
          39000,
          42000,
          69000,
          56000,
          148000,
          55000,
          95000,
          110000,
          168000,
          115000,
          42000,
          56000,
          50000,
          140000,
          148000,
          70000,
          73000,
          115000,
          59000,
          81000,
          50000,
          59000,
          92000,
          73000,
          142000,
          45000,
          92000,
          39000,
          51000,
          42000,
          115000,
          49751.95822454308,
          92000,
          135000,
          69000,
          92000,
          92000,
          129000,
          144000,
          129000,
          131000,
          136000,
          33000,
          115000,
          55000,
          100000,
          135000,
          54000,
          44000,
          55000,
          129000,
          39000,
          115000,
          55000,
          115000,
          45000,
          92000,
          98000,
          39000,
          56000,
          55000,
          69000,
          131000,
          42000,
          115000,
          56000,
          89000,
          35000,
          92000,
          115000,
          131000,
          110000,
          30000,
          55000,
          55000,
          51000,
          42000,
          39000,
          55000,
          141000,
          62000,
          55000,
          73000,
          51000,
          131000,
          51000,
          55000,
          73000,
          97000,
          105534.79452054795,
          103000,
          131000,
          73000,
          92000,
          62000,
          62000,
          115000,
          49751.95822454308,
          110000,
          135000,
          55000,
          110000,
          55000,
          129000,
          92000,
          55000,
          42000,
          129000,
          62000,
          95000,
          129000,
          92000,
          55000,
          129000,
          62000,
          65000,
          75000,
          95000,
          56000,
          122000,
          73000,
          45000,
          69000,
          44000,
          131000,
          39000,
          62000,
          39000,
          62000,
          62000,
          55000,
          75000,
          79000,
          115000,
          55000,
          56000,
          50000,
          129000,
          55000,
          48000,
          30000,
          55000,
          56000,
          110000,
          72000,
          51000,
          90000,
          56000,
          92000,
          205000,
          55000,
          113000,
          55000,
          50000,
          127000,
          159000,
          59000,
          92000,
          62000,
          125000,
          115000,
          131000,
          69000,
          92000,
          49751.95822454308,
          56000,
          115000,
          55000,
          92000,
          136000,
          129000,
          55000,
          74000,
          180000,
          48000,
          92000,
          62000,
          62000,
          69000,
          30000,
          85000,
          73000,
          141000,
          92000,
          73000,
          55000,
          49751.95822454308,
          115000,
          44000,
          164000,
          156000,
          62000,
          103000,
          49751.95822454308,
          73000,
          90000,
          95000,
          131000,
          49751.95822454308,
          39000,
          55000,
          115000,
          73000,
          95000,
          160000,
          115000,
          56000,
          115000,
          62000,
          69000,
          110000,
          44000,
          62000,
          105534.79452054795,
          73000,
          42000,
          74000,
          158000,
          30000,
          129000,
          62000,
          42000,
          90000,
          131000,
          156000,
          59000,
          45000,
          129000,
          44000,
          140000,
          92000,
          69000,
          180000,
          92000,
          55000,
          92000,
          39000,
          62000,
          35000,
          49751.95822454308,
          95000,
          92000,
          49751.95822454308,
          115000,
          129000,
          99000,
          30000,
          56000,
          115000,
          55000,
          49000,
          115000,
          62000,
          69000,
          49000,
          94000,
          48000,
          92000,
          105000,
          129000,
          129000,
          40000,
          199000,
          119000,
          49751.95822454308,
          105000,
          90000,
          39000,
          100000,
          55000,
          156000,
          92000,
          39000,
          77000,
          56000,
          69000,
          115000,
          115000,
          144000,
          102000,
          39000,
          220000,
          119000,
          129000,
          180000,
          129000,
          74000,
          129000,
          151000,
          115000,
          129000,
          69000,
          42000,
          129000,
          62000,
          100000,
          56000,
          69000,
          63000,
          73000,
          49751.95822454308,
          131000,
          49751.95822454308,
          55000,
          93000,
          56000,
          49000,
          62000,
          103000,
          62000,
          115000,
          62000,
          81000,
          200000,
          66174.4966442953,
          100000,
          132000,
          42000,
          62000,
          56000,
          92000,
          92000,
          129000,
          69000,
          115000,
          55000,
          105000,
          69000,
          115000,
          62000,
          75000,
          95000,
          180000,
          110000,
          51000,
          92000,
          103000,
          89000,
          60000,
          92000,
          90000,
          48000,
          56000,
          115000,
          62000,
          62000,
          145000,
          69000,
          103000,
          115000,
          77000,
          145000,
          74000,
          55000,
          98803.27868852459,
          129000,
          62000,
          95000,
          92000,
          62000,
          55000,
          62000,
          92000,
          115000,
          129000,
          131000,
          115000,
          30000,
          131000,
          180000,
          49751.95822454308,
          56000,
          113000,
          129000,
          42000,
          62000,
          56000,
          115000,
          73000,
          92000,
          62000,
          115000,
          69000,
          124000,
          62000,
          45000,
          39000,
          49751.95822454308,
          73000,
          115000,
          84000,
          30000,
          79000,
          56000,
          135000,
          62000,
          105000,
          30000,
          62000,
          115000,
          120000,
          65000,
          95000,
          62000,
          110000,
          56000,
          39000,
          42000,
          168000,
          30000,
          30000,
          131000,
          55000,
          135000,
          56000,
          65000,
          60000,
          129000,
          135000,
          100000,
          92000,
          92000,
          92000,
          52000,
          131000,
          115000,
          81000,
          69000,
          115000,
          42000,
          42000,
          62000,
          42000,
          40000,
          129000,
          92000,
          81000,
          104000,
          115000,
          129000,
          56000,
          39000,
          39000,
          81000,
          92000,
          69000,
          81000,
          142000,
          204000,
          30000,
          90000,
          62000,
          92000,
          81000,
          115000,
          75000,
          92000,
          92000,
          62000,
          69000,
          36000,
          81000,
          129000,
          129000,
          62000,
          42000,
          55000,
          51000,
          115000,
          76000,
          56000,
          80000,
          39000,
          120000,
          62000,
          110000,
          125000,
          74000,
          51000,
          73000,
          105000,
          129000,
          62000,
          42000,
          55000,
          39000,
          69000,
          55000,
          163000,
          115000,
          49751.95822454308,
          49751.95822454308,
          144000,
          39000,
          160000,
          95000,
          52000,
          56000,
          105534.79452054795,
          69000,
          70000,
          115000,
          62000,
          115000,
          70000,
          55000,
          55000,
          69000,
          115000,
          62000,
          59000,
          131000,
          48000,
          75000,
          129000,
          49000,
          55000,
          105534.79452054795,
          77000,
          92000,
          173000,
          62000,
          51000,
          45000,
          40000,
          49751.95822454308,
          59000,
          49751.95822454308,
          109000,
          142000,
          115000,
          33000,
          159000,
          55000,
          89000,
          73000,
          115000,
          128000,
          81000,
          66000,
          136000,
          55000,
          54000,
          135000,
          49751.95822454308,
          153000,
          170000,
          129000,
          55000,
          199000,
          55000,
          55000,
          49751.95822454308,
          55000,
          157000,
          62000,
          115000,
          56000,
          92000,
          115000,
          73000,
          59000,
          39000,
          200000,
          160000,
          30000,
          90000,
          90000,
          73000,
          30000,
          49751.95822454308,
          110000,
          129000,
          200000,
          62000,
          70000,
          30000,
          49751.95822454308,
          39000,
          36000,
          129000,
          60000,
          59000,
          62000,
          66174.4966442953,
          69000,
          129000,
          62000,
          120000,
          115000,
          70000,
          39000,
          65000,
          92000,
          30000,
          95000,
          63000,
          129000,
          62000,
          123000,
          115000,
          115000,
          115000,
          109000,
          117000,
          70000,
          170000,
          75000,
          113000,
          106000,
          176000,
          39000,
          92000,
          62000,
          39000,
          115000
         ],
         "y0": " ",
         "yaxis": "y"
        }
       ],
       "layout": {
        "boxmode": "group",
        "font": {
         "color": "rgb(240, 240, 240)"
        },
        "legend": {
         "tracegroupgap": 0
        },
        "margin": {
         "t": 60
        },
        "paper_bgcolor": "rgb(0, 22, 33)",
        "plot_bgcolor": "rgb(0, 22, 33)",
        "template": {
         "data": {
          "bar": [
           {
            "error_x": {
             "color": "#f2f5fa"
            },
            "error_y": {
             "color": "#f2f5fa"
            },
            "marker": {
             "line": {
              "color": "rgb(17,17,17)",
              "width": 0.5
             },
             "pattern": {
              "fillmode": "overlay",
              "size": 10,
              "solidity": 0.2
             }
            },
            "type": "bar"
           }
          ],
          "barpolar": [
           {
            "marker": {
             "line": {
              "color": "rgb(17,17,17)",
              "width": 0.5
             },
             "pattern": {
              "fillmode": "overlay",
              "size": 10,
              "solidity": 0.2
             }
            },
            "type": "barpolar"
           }
          ],
          "carpet": [
           {
            "aaxis": {
             "endlinecolor": "#A2B1C6",
             "gridcolor": "#506784",
             "linecolor": "#506784",
             "minorgridcolor": "#506784",
             "startlinecolor": "#A2B1C6"
            },
            "baxis": {
             "endlinecolor": "#A2B1C6",
             "gridcolor": "#506784",
             "linecolor": "#506784",
             "minorgridcolor": "#506784",
             "startlinecolor": "#A2B1C6"
            },
            "type": "carpet"
           }
          ],
          "choropleth": [
           {
            "colorbar": {
             "outlinewidth": 0,
             "ticks": ""
            },
            "type": "choropleth"
           }
          ],
          "contour": [
           {
            "colorbar": {
             "outlinewidth": 0,
             "ticks": ""
            },
            "colorscale": [
             [
              0,
              "#0d0887"
             ],
             [
              0.1111111111111111,
              "#46039f"
             ],
             [
              0.2222222222222222,
              "#7201a8"
             ],
             [
              0.3333333333333333,
              "#9c179e"
             ],
             [
              0.4444444444444444,
              "#bd3786"
             ],
             [
              0.5555555555555556,
              "#d8576b"
             ],
             [
              0.6666666666666666,
              "#ed7953"
             ],
             [
              0.7777777777777778,
              "#fb9f3a"
             ],
             [
              0.8888888888888888,
              "#fdca26"
             ],
             [
              1,
              "#f0f921"
             ]
            ],
            "type": "contour"
           }
          ],
          "contourcarpet": [
           {
            "colorbar": {
             "outlinewidth": 0,
             "ticks": ""
            },
            "type": "contourcarpet"
           }
          ],
          "heatmap": [
           {
            "colorbar": {
             "outlinewidth": 0,
             "ticks": ""
            },
            "colorscale": [
             [
              0,
              "#0d0887"
             ],
             [
              0.1111111111111111,
              "#46039f"
             ],
             [
              0.2222222222222222,
              "#7201a8"
             ],
             [
              0.3333333333333333,
              "#9c179e"
             ],
             [
              0.4444444444444444,
              "#bd3786"
             ],
             [
              0.5555555555555556,
              "#d8576b"
             ],
             [
              0.6666666666666666,
              "#ed7953"
             ],
             [
              0.7777777777777778,
              "#fb9f3a"
             ],
             [
              0.8888888888888888,
              "#fdca26"
             ],
             [
              1,
              "#f0f921"
             ]
            ],
            "type": "heatmap"
           }
          ],
          "heatmapgl": [
           {
            "colorbar": {
             "outlinewidth": 0,
             "ticks": ""
            },
            "colorscale": [
             [
              0,
              "#0d0887"
             ],
             [
              0.1111111111111111,
              "#46039f"
             ],
             [
              0.2222222222222222,
              "#7201a8"
             ],
             [
              0.3333333333333333,
              "#9c179e"
             ],
             [
              0.4444444444444444,
              "#bd3786"
             ],
             [
              0.5555555555555556,
              "#d8576b"
             ],
             [
              0.6666666666666666,
              "#ed7953"
             ],
             [
              0.7777777777777778,
              "#fb9f3a"
             ],
             [
              0.8888888888888888,
              "#fdca26"
             ],
             [
              1,
              "#f0f921"
             ]
            ],
            "type": "heatmapgl"
           }
          ],
          "histogram": [
           {
            "marker": {
             "pattern": {
              "fillmode": "overlay",
              "size": 10,
              "solidity": 0.2
             }
            },
            "type": "histogram"
           }
          ],
          "histogram2d": [
           {
            "colorbar": {
             "outlinewidth": 0,
             "ticks": ""
            },
            "colorscale": [
             [
              0,
              "#0d0887"
             ],
             [
              0.1111111111111111,
              "#46039f"
             ],
             [
              0.2222222222222222,
              "#7201a8"
             ],
             [
              0.3333333333333333,
              "#9c179e"
             ],
             [
              0.4444444444444444,
              "#bd3786"
             ],
             [
              0.5555555555555556,
              "#d8576b"
             ],
             [
              0.6666666666666666,
              "#ed7953"
             ],
             [
              0.7777777777777778,
              "#fb9f3a"
             ],
             [
              0.8888888888888888,
              "#fdca26"
             ],
             [
              1,
              "#f0f921"
             ]
            ],
            "type": "histogram2d"
           }
          ],
          "histogram2dcontour": [
           {
            "colorbar": {
             "outlinewidth": 0,
             "ticks": ""
            },
            "colorscale": [
             [
              0,
              "#0d0887"
             ],
             [
              0.1111111111111111,
              "#46039f"
             ],
             [
              0.2222222222222222,
              "#7201a8"
             ],
             [
              0.3333333333333333,
              "#9c179e"
             ],
             [
              0.4444444444444444,
              "#bd3786"
             ],
             [
              0.5555555555555556,
              "#d8576b"
             ],
             [
              0.6666666666666666,
              "#ed7953"
             ],
             [
              0.7777777777777778,
              "#fb9f3a"
             ],
             [
              0.8888888888888888,
              "#fdca26"
             ],
             [
              1,
              "#f0f921"
             ]
            ],
            "type": "histogram2dcontour"
           }
          ],
          "mesh3d": [
           {
            "colorbar": {
             "outlinewidth": 0,
             "ticks": ""
            },
            "type": "mesh3d"
           }
          ],
          "parcoords": [
           {
            "line": {
             "colorbar": {
              "outlinewidth": 0,
              "ticks": ""
             }
            },
            "type": "parcoords"
           }
          ],
          "pie": [
           {
            "automargin": true,
            "type": "pie"
           }
          ],
          "scatter": [
           {
            "marker": {
             "line": {
              "color": "#283442"
             }
            },
            "type": "scatter"
           }
          ],
          "scatter3d": [
           {
            "line": {
             "colorbar": {
              "outlinewidth": 0,
              "ticks": ""
             }
            },
            "marker": {
             "colorbar": {
              "outlinewidth": 0,
              "ticks": ""
             }
            },
            "type": "scatter3d"
           }
          ],
          "scattercarpet": [
           {
            "marker": {
             "colorbar": {
              "outlinewidth": 0,
              "ticks": ""
             }
            },
            "type": "scattercarpet"
           }
          ],
          "scattergeo": [
           {
            "marker": {
             "colorbar": {
              "outlinewidth": 0,
              "ticks": ""
             }
            },
            "type": "scattergeo"
           }
          ],
          "scattergl": [
           {
            "marker": {
             "line": {
              "color": "#283442"
             }
            },
            "type": "scattergl"
           }
          ],
          "scattermapbox": [
           {
            "marker": {
             "colorbar": {
              "outlinewidth": 0,
              "ticks": ""
             }
            },
            "type": "scattermapbox"
           }
          ],
          "scatterpolar": [
           {
            "marker": {
             "colorbar": {
              "outlinewidth": 0,
              "ticks": ""
             }
            },
            "type": "scatterpolar"
           }
          ],
          "scatterpolargl": [
           {
            "marker": {
             "colorbar": {
              "outlinewidth": 0,
              "ticks": ""
             }
            },
            "type": "scatterpolargl"
           }
          ],
          "scatterternary": [
           {
            "marker": {
             "colorbar": {
              "outlinewidth": 0,
              "ticks": ""
             }
            },
            "type": "scatterternary"
           }
          ],
          "surface": [
           {
            "colorbar": {
             "outlinewidth": 0,
             "ticks": ""
            },
            "colorscale": [
             [
              0,
              "#0d0887"
             ],
             [
              0.1111111111111111,
              "#46039f"
             ],
             [
              0.2222222222222222,
              "#7201a8"
             ],
             [
              0.3333333333333333,
              "#9c179e"
             ],
             [
              0.4444444444444444,
              "#bd3786"
             ],
             [
              0.5555555555555556,
              "#d8576b"
             ],
             [
              0.6666666666666666,
              "#ed7953"
             ],
             [
              0.7777777777777778,
              "#fb9f3a"
             ],
             [
              0.8888888888888888,
              "#fdca26"
             ],
             [
              1,
              "#f0f921"
             ]
            ],
            "type": "surface"
           }
          ],
          "table": [
           {
            "cells": {
             "fill": {
              "color": "#506784"
             },
             "line": {
              "color": "rgb(17,17,17)"
             }
            },
            "header": {
             "fill": {
              "color": "#2a3f5f"
             },
             "line": {
              "color": "rgb(17,17,17)"
             }
            },
            "type": "table"
           }
          ]
         },
         "layout": {
          "annotationdefaults": {
           "arrowcolor": "#f2f5fa",
           "arrowhead": 0,
           "arrowwidth": 1
          },
          "autotypenumbers": "strict",
          "coloraxis": {
           "colorbar": {
            "outlinewidth": 0,
            "ticks": ""
           }
          },
          "colorscale": {
           "diverging": [
            [
             0,
             "#8e0152"
            ],
            [
             0.1,
             "#c51b7d"
            ],
            [
             0.2,
             "#de77ae"
            ],
            [
             0.3,
             "#f1b6da"
            ],
            [
             0.4,
             "#fde0ef"
            ],
            [
             0.5,
             "#f7f7f7"
            ],
            [
             0.6,
             "#e6f5d0"
            ],
            [
             0.7,
             "#b8e186"
            ],
            [
             0.8,
             "#7fbc41"
            ],
            [
             0.9,
             "#4d9221"
            ],
            [
             1,
             "#276419"
            ]
           ],
           "sequential": [
            [
             0,
             "#0d0887"
            ],
            [
             0.1111111111111111,
             "#46039f"
            ],
            [
             0.2222222222222222,
             "#7201a8"
            ],
            [
             0.3333333333333333,
             "#9c179e"
            ],
            [
             0.4444444444444444,
             "#bd3786"
            ],
            [
             0.5555555555555556,
             "#d8576b"
            ],
            [
             0.6666666666666666,
             "#ed7953"
            ],
            [
             0.7777777777777778,
             "#fb9f3a"
            ],
            [
             0.8888888888888888,
             "#fdca26"
            ],
            [
             1,
             "#f0f921"
            ]
           ],
           "sequentialminus": [
            [
             0,
             "#0d0887"
            ],
            [
             0.1111111111111111,
             "#46039f"
            ],
            [
             0.2222222222222222,
             "#7201a8"
            ],
            [
             0.3333333333333333,
             "#9c179e"
            ],
            [
             0.4444444444444444,
             "#bd3786"
            ],
            [
             0.5555555555555556,
             "#d8576b"
            ],
            [
             0.6666666666666666,
             "#ed7953"
            ],
            [
             0.7777777777777778,
             "#fb9f3a"
            ],
            [
             0.8888888888888888,
             "#fdca26"
            ],
            [
             1,
             "#f0f921"
            ]
           ]
          },
          "colorway": [
           "#636efa",
           "#EF553B",
           "#00cc96",
           "#ab63fa",
           "#FFA15A",
           "#19d3f3",
           "#FF6692",
           "#B6E880",
           "#FF97FF",
           "#FECB52"
          ],
          "font": {
           "color": "#f2f5fa"
          },
          "geo": {
           "bgcolor": "rgb(17,17,17)",
           "lakecolor": "rgb(17,17,17)",
           "landcolor": "rgb(17,17,17)",
           "showlakes": true,
           "showland": true,
           "subunitcolor": "#506784"
          },
          "hoverlabel": {
           "align": "left"
          },
          "hovermode": "closest",
          "mapbox": {
           "style": "dark"
          },
          "paper_bgcolor": "rgb(17,17,17)",
          "plot_bgcolor": "rgb(17,17,17)",
          "polar": {
           "angularaxis": {
            "gridcolor": "#506784",
            "linecolor": "#506784",
            "ticks": ""
           },
           "bgcolor": "rgb(17,17,17)",
           "radialaxis": {
            "gridcolor": "#506784",
            "linecolor": "#506784",
            "ticks": ""
           }
          },
          "scene": {
           "xaxis": {
            "backgroundcolor": "rgb(17,17,17)",
            "gridcolor": "#506784",
            "gridwidth": 2,
            "linecolor": "#506784",
            "showbackground": true,
            "ticks": "",
            "zerolinecolor": "#C8D4E3"
           },
           "yaxis": {
            "backgroundcolor": "rgb(17,17,17)",
            "gridcolor": "#506784",
            "gridwidth": 2,
            "linecolor": "#506784",
            "showbackground": true,
            "ticks": "",
            "zerolinecolor": "#C8D4E3"
           },
           "zaxis": {
            "backgroundcolor": "rgb(17,17,17)",
            "gridcolor": "#506784",
            "gridwidth": 2,
            "linecolor": "#506784",
            "showbackground": true,
            "ticks": "",
            "zerolinecolor": "#C8D4E3"
           }
          },
          "shapedefaults": {
           "line": {
            "color": "#f2f5fa"
           }
          },
          "sliderdefaults": {
           "bgcolor": "#C8D4E3",
           "bordercolor": "rgb(17,17,17)",
           "borderwidth": 1,
           "tickwidth": 0
          },
          "ternary": {
           "aaxis": {
            "gridcolor": "#506784",
            "linecolor": "#506784",
            "ticks": ""
           },
           "baxis": {
            "gridcolor": "#506784",
            "linecolor": "#506784",
            "ticks": ""
           },
           "bgcolor": "rgb(17,17,17)",
           "caxis": {
            "gridcolor": "#506784",
            "linecolor": "#506784",
            "ticks": ""
           }
          },
          "title": {
           "x": 0.05
          },
          "updatemenudefaults": {
           "bgcolor": "#506784",
           "borderwidth": 0
          },
          "xaxis": {
           "automargin": true,
           "gridcolor": "#283442",
           "linecolor": "#506784",
           "ticks": "",
           "title": {
            "standoff": 15
           },
           "zerolinecolor": "#283442",
           "zerolinewidth": 2
          },
          "yaxis": {
           "automargin": true,
           "gridcolor": "#283442",
           "linecolor": "#506784",
           "ticks": "",
           "title": {
            "standoff": 15
           },
           "zerolinecolor": "#283442",
           "zerolinewidth": 2
          }
         }
        },
        "title": {
         "text": "Distribuição de Salários por Nível de Experiência"
        },
        "xaxis": {
         "anchor": "y",
         "domain": [
          0,
          1
         ],
         "title": {
          "text": "Nível de Experiência"
         }
        },
        "yaxis": {
         "anchor": "x",
         "domain": [
          0,
          1
         ],
         "title": {
          "text": "Salário"
         }
        }
       }
      }
     },
     "metadata": {},
     "output_type": "display_data"
    }
   ],
   "source": [
    "# Define cor de fundo e cor da fonte\n",
    "background_color = 'rgb(0, 22, 33)'\n",
    "font_color = 'rgb(240, 240, 240)'\n",
    "\n",
    "# Gera um gráfico de boxplot utilizando o Plotly Express\n",
    "fig = px.box(df, x='Experience level', y='Salary',\n",
    "             labels={'Experience level': 'Nível de Experiência', 'Salary': 'Salário'},\n",
    "             template='plotly_dark')\n",
    "\n",
    "# Atualiza o layout com as cores desejadas e título\n",
    "fig.update_layout(\n",
    "    title=\"Distribuição de Salários por Nível de Experiência\",\n",
    "    xaxis_title=\"Nível de Experiência\",\n",
    "    yaxis_title=\"Salário\",\n",
    "    plot_bgcolor=background_color,\n",
    "    paper_bgcolor=background_color,\n",
    "    font_color=font_color,\n",
    ")\n",
    "\n",
    "# Atualiza cores das caixas\n",
    "fig.update_traces(marker=dict(color='darkcyan'))\n",
    "\n",
    "# Exibe o gráfico\n",
    "fig.show()"
   ]
  },
  {
   "attachments": {},
   "cell_type": "markdown",
   "metadata": {},
   "source": [
    "Com base nos dados fornecidos, observa-se que há diferenças significativas nos salários entre os níveis de experiência. O nível \"Senior-level\" apresenta o salário mais alto. Por outro lado, o nível \"Executive-level\" tem uma média de salário menor em comparação ao nível \"Senior-level\". Essa diferença indica que, em média, profissionais com nível \"Senior\" têm salários mais elevados do que aqueles com nível \"Executive\". Além disso, o nível \"Entry-level\" tem o salário mais baixo, o que sugere que os profissionais com menos experiência recebem salários mais baixos.\n"
   ]
  }
 ],
 "metadata": {
  "kernelspec": {
   "display_name": "venv",
   "language": "python",
   "name": "python3"
  },
  "language_info": {
   "codemirror_mode": {
    "name": "ipython",
    "version": 3
   },
   "file_extension": ".py",
   "mimetype": "text/x-python",
   "name": "python",
   "nbconvert_exporter": "python",
   "pygments_lexer": "ipython3",
   "version": "3.10.6"
  },
  "orig_nbformat": 4
 },
 "nbformat": 4,
 "nbformat_minor": 2
}
